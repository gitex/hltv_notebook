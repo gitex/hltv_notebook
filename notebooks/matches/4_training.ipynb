{
 "cells": [
  {
   "cell_type": "code",
   "execution_count": 69,
   "metadata": {
    "collapsed": true
   },
   "outputs": [
    {
     "name": "stdout",
     "output_type": "stream",
     "text": [
      "The autoreload extension is already loaded. To reload it, use:\n",
      "  %reload_ext autoreload\n"
     ]
    },
    {
     "data": {
      "text/plain": "True"
     },
     "execution_count": 69,
     "metadata": {},
     "output_type": "execute_result"
    }
   ],
   "source": [
    "import sys\n",
    "from pathlib import Path\n",
    "\n",
    "import pandas as pd\n",
    "\n",
    "current_dir = Path('.')\n",
    "current_dir = current_dir.absolute()\n",
    "root_dir = current_dir.parent.parent\n",
    "src_dir = root_dir / 'src'\n",
    "\n",
    "sys.path.append(str(src_dir))\n",
    "\n",
    "%load_ext autoreload\n",
    "%autoreload 2\n",
    "\n",
    "from dotenv import load_dotenv\n",
    "load_dotenv(str(src_dir / '.env'))"
   ]
  },
  {
   "cell_type": "code",
   "execution_count": 70,
   "outputs": [
    {
     "name": "stderr",
     "output_type": "stream",
     "text": [
      "F:\\Projects\\hltv_notebook\\src\\infra\\data_frames\\pipeline\\matches.py:113: SettingWithCopyWarning: \n",
      "A value is trying to be set on a copy of a slice from a DataFrame.\n",
      "Try using .loc[row_indexer,col_indexer] = value instead\n",
      "\n",
      "See the caveats in the documentation: https://pandas.pydata.org/pandas-docs/stable/user_guide/indexing.html#returning-a-view-versus-a-copy\n",
      "  df[C.Winner] = winners\n"
     ]
    },
    {
     "data": {
      "text/plain": "             Team1             Team2            Winner            Map\n0   Budapest Five            Katuna            Katuna    inf  Inferno\n1          Katuna     Budapest Five     Budapest Five    anc  Ancient\n2   Budapest Five            Katuna            Katuna   ovp  Overpass\n3        ECSTATIC   Astralis Talent   Astralis Talent    inf  Inferno\n4    Eternal Fire            fnatic            fnatic   ovp  Overpass\n..             ...               ...               ...            ...\n45         Spirit        Virtus.pro            Spirit   ovp  Overpass\n46         Spirit        Virtus.pro            Spirit       d2  Dust2\n47         Spirit        Virtus.pro        Virtus.pro    inf  Inferno\n48          FORZE            Gambit            Gambit       d2  Dust2\n49         Gambit             FORZE            Gambit    anc  Ancient\n\n[25360 rows x 4 columns]",
      "text/html": "<div>\n<style scoped>\n    .dataframe tbody tr th:only-of-type {\n        vertical-align: middle;\n    }\n\n    .dataframe tbody tr th {\n        vertical-align: top;\n    }\n\n    .dataframe thead th {\n        text-align: right;\n    }\n</style>\n<table border=\"1\" class=\"dataframe\">\n  <thead>\n    <tr style=\"text-align: right;\">\n      <th></th>\n      <th>Team1</th>\n      <th>Team2</th>\n      <th>Winner</th>\n      <th>Map</th>\n    </tr>\n  </thead>\n  <tbody>\n    <tr>\n      <th>0</th>\n      <td>Budapest Five</td>\n      <td>Katuna</td>\n      <td>Katuna</td>\n      <td>inf  Inferno</td>\n    </tr>\n    <tr>\n      <th>1</th>\n      <td>Katuna</td>\n      <td>Budapest Five</td>\n      <td>Budapest Five</td>\n      <td>anc  Ancient</td>\n    </tr>\n    <tr>\n      <th>2</th>\n      <td>Budapest Five</td>\n      <td>Katuna</td>\n      <td>Katuna</td>\n      <td>ovp  Overpass</td>\n    </tr>\n    <tr>\n      <th>3</th>\n      <td>ECSTATIC</td>\n      <td>Astralis Talent</td>\n      <td>Astralis Talent</td>\n      <td>inf  Inferno</td>\n    </tr>\n    <tr>\n      <th>4</th>\n      <td>Eternal Fire</td>\n      <td>fnatic</td>\n      <td>fnatic</td>\n      <td>ovp  Overpass</td>\n    </tr>\n    <tr>\n      <th>...</th>\n      <td>...</td>\n      <td>...</td>\n      <td>...</td>\n      <td>...</td>\n    </tr>\n    <tr>\n      <th>45</th>\n      <td>Spirit</td>\n      <td>Virtus.pro</td>\n      <td>Spirit</td>\n      <td>ovp  Overpass</td>\n    </tr>\n    <tr>\n      <th>46</th>\n      <td>Spirit</td>\n      <td>Virtus.pro</td>\n      <td>Spirit</td>\n      <td>d2  Dust2</td>\n    </tr>\n    <tr>\n      <th>47</th>\n      <td>Spirit</td>\n      <td>Virtus.pro</td>\n      <td>Virtus.pro</td>\n      <td>inf  Inferno</td>\n    </tr>\n    <tr>\n      <th>48</th>\n      <td>FORZE</td>\n      <td>Gambit</td>\n      <td>Gambit</td>\n      <td>d2  Dust2</td>\n    </tr>\n    <tr>\n      <th>49</th>\n      <td>Gambit</td>\n      <td>FORZE</td>\n      <td>Gambit</td>\n      <td>anc  Ancient</td>\n    </tr>\n  </tbody>\n</table>\n<p>25360 rows × 4 columns</p>\n</div>"
     },
     "execution_count": 70,
     "metadata": {},
     "output_type": "execute_result"
    }
   ],
   "source": [
    "from api.containers.teams_and_winner import LoadTeamsAndWinnerOnly\n",
    "\n",
    "service = LoadTeamsAndWinnerOnly().service()\n",
    "\n",
    "df = service.collect_all()\n",
    "df"
   ],
   "metadata": {
    "collapsed": false
   }
  },
  {
   "cell_type": "code",
   "execution_count": 71,
   "outputs": [
    {
     "data": {
      "text/plain": "    Team  Opponent  Map    Win\n0     58       181    3  False\n1    181        58   10  False\n2     58       181    4  False\n3    597      1243    3  False\n4   1060      1208    4  False\n..   ...       ...  ...    ...\n45  1266       806    4   True\n46  1266       806    1   True\n47  1266       806    3  False\n48  1241       908    1  False\n49   908      1241   10   True\n\n[25360 rows x 4 columns]",
      "text/html": "<div>\n<style scoped>\n    .dataframe tbody tr th:only-of-type {\n        vertical-align: middle;\n    }\n\n    .dataframe tbody tr th {\n        vertical-align: top;\n    }\n\n    .dataframe thead th {\n        text-align: right;\n    }\n</style>\n<table border=\"1\" class=\"dataframe\">\n  <thead>\n    <tr style=\"text-align: right;\">\n      <th></th>\n      <th>Team</th>\n      <th>Opponent</th>\n      <th>Map</th>\n      <th>Win</th>\n    </tr>\n  </thead>\n  <tbody>\n    <tr>\n      <th>0</th>\n      <td>58</td>\n      <td>181</td>\n      <td>3</td>\n      <td>False</td>\n    </tr>\n    <tr>\n      <th>1</th>\n      <td>181</td>\n      <td>58</td>\n      <td>10</td>\n      <td>False</td>\n    </tr>\n    <tr>\n      <th>2</th>\n      <td>58</td>\n      <td>181</td>\n      <td>4</td>\n      <td>False</td>\n    </tr>\n    <tr>\n      <th>3</th>\n      <td>597</td>\n      <td>1243</td>\n      <td>3</td>\n      <td>False</td>\n    </tr>\n    <tr>\n      <th>4</th>\n      <td>1060</td>\n      <td>1208</td>\n      <td>4</td>\n      <td>False</td>\n    </tr>\n    <tr>\n      <th>...</th>\n      <td>...</td>\n      <td>...</td>\n      <td>...</td>\n      <td>...</td>\n    </tr>\n    <tr>\n      <th>45</th>\n      <td>1266</td>\n      <td>806</td>\n      <td>4</td>\n      <td>True</td>\n    </tr>\n    <tr>\n      <th>46</th>\n      <td>1266</td>\n      <td>806</td>\n      <td>1</td>\n      <td>True</td>\n    </tr>\n    <tr>\n      <th>47</th>\n      <td>1266</td>\n      <td>806</td>\n      <td>3</td>\n      <td>False</td>\n    </tr>\n    <tr>\n      <th>48</th>\n      <td>1241</td>\n      <td>908</td>\n      <td>1</td>\n      <td>False</td>\n    </tr>\n    <tr>\n      <th>49</th>\n      <td>908</td>\n      <td>1241</td>\n      <td>10</td>\n      <td>True</td>\n    </tr>\n  </tbody>\n</table>\n<p>25360 rows × 4 columns</p>\n</div>"
     },
     "execution_count": 71,
     "metadata": {},
     "output_type": "execute_result"
    }
   ],
   "source": [
    "from infra.data_frames.pipeline import C\n",
    "\n",
    "team_1_unique = set(df[C.Team1].unique())\n",
    "team_2_unique = set(df[C.Team2].unique())\n",
    "id_to_team = dict(enumerate(team_1_unique.union(team_2_unique), start=1))\n",
    "team_to_id = {v: k for k, v in id_to_team.items()}\n",
    "\n",
    "maps = set(df[C.Map].unique())\n",
    "id_to_map = dict(enumerate(maps, start=1))\n",
    "map_to_id = {v: k for k, v in id_to_map.items()}\n",
    "\n",
    "\n",
    "df = pd.DataFrame({\n",
    "    'Team': df[C.Team1].map(team_to_id),\n",
    "    'Opponent': df[C.Team2].map(team_to_id),\n",
    "    C.Map: df[C.Map].map(map_to_id),\n",
    "    'Win': df[C.Winner] == df[C.Team1],\n",
    "\n",
    "})\n",
    "\n",
    "df"
   ],
   "metadata": {
    "collapsed": false
   }
  },
  {
   "cell_type": "code",
   "execution_count": 72,
   "outputs": [
    {
     "data": {
      "text/plain": "    Team  Opponent  Map\n14  1066      1101    1\n16   248       478    7\n7    306       184    7\n48   749       103    3\n18  1239        14   11\n..   ...       ...  ...\n49   974       614    4\n49   622       803   10\n37   651       448    1\n25  1180       719    3\n10   565       640   11\n\n[24092 rows x 3 columns]",
      "text/html": "<div>\n<style scoped>\n    .dataframe tbody tr th:only-of-type {\n        vertical-align: middle;\n    }\n\n    .dataframe tbody tr th {\n        vertical-align: top;\n    }\n\n    .dataframe thead th {\n        text-align: right;\n    }\n</style>\n<table border=\"1\" class=\"dataframe\">\n  <thead>\n    <tr style=\"text-align: right;\">\n      <th></th>\n      <th>Team</th>\n      <th>Opponent</th>\n      <th>Map</th>\n    </tr>\n  </thead>\n  <tbody>\n    <tr>\n      <th>14</th>\n      <td>1066</td>\n      <td>1101</td>\n      <td>1</td>\n    </tr>\n    <tr>\n      <th>16</th>\n      <td>248</td>\n      <td>478</td>\n      <td>7</td>\n    </tr>\n    <tr>\n      <th>7</th>\n      <td>306</td>\n      <td>184</td>\n      <td>7</td>\n    </tr>\n    <tr>\n      <th>48</th>\n      <td>749</td>\n      <td>103</td>\n      <td>3</td>\n    </tr>\n    <tr>\n      <th>18</th>\n      <td>1239</td>\n      <td>14</td>\n      <td>11</td>\n    </tr>\n    <tr>\n      <th>...</th>\n      <td>...</td>\n      <td>...</td>\n      <td>...</td>\n    </tr>\n    <tr>\n      <th>49</th>\n      <td>974</td>\n      <td>614</td>\n      <td>4</td>\n    </tr>\n    <tr>\n      <th>49</th>\n      <td>622</td>\n      <td>803</td>\n      <td>10</td>\n    </tr>\n    <tr>\n      <th>37</th>\n      <td>651</td>\n      <td>448</td>\n      <td>1</td>\n    </tr>\n    <tr>\n      <th>25</th>\n      <td>1180</td>\n      <td>719</td>\n      <td>3</td>\n    </tr>\n    <tr>\n      <th>10</th>\n      <td>565</td>\n      <td>640</td>\n      <td>11</td>\n    </tr>\n  </tbody>\n</table>\n<p>24092 rows × 3 columns</p>\n</div>"
     },
     "execution_count": 72,
     "metadata": {},
     "output_type": "execute_result"
    }
   ],
   "source": [
    "from sklearn.model_selection import train_test_split\n",
    "\n",
    "X = df[['Team', 'Opponent', C.Map]]\n",
    "y = df['Win']\n",
    "\n",
    "X_train, X_test, y_train, y_test = train_test_split(X, y, test_size=0.05, random_state=2)\n",
    "\n",
    "X_train"
   ],
   "metadata": {
    "collapsed": false
   }
  },
  {
   "cell_type": "code",
   "execution_count": 73,
   "outputs": [
    {
     "data": {
      "text/plain": "RandomForestClassifier(min_samples_leaf=4, random_state=0)",
      "text/html": "<style>#sk-container-id-10 {color: black;background-color: white;}#sk-container-id-10 pre{padding: 0;}#sk-container-id-10 div.sk-toggleable {background-color: white;}#sk-container-id-10 label.sk-toggleable__label {cursor: pointer;display: block;width: 100%;margin-bottom: 0;padding: 0.3em;box-sizing: border-box;text-align: center;}#sk-container-id-10 label.sk-toggleable__label-arrow:before {content: \"▸\";float: left;margin-right: 0.25em;color: #696969;}#sk-container-id-10 label.sk-toggleable__label-arrow:hover:before {color: black;}#sk-container-id-10 div.sk-estimator:hover label.sk-toggleable__label-arrow:before {color: black;}#sk-container-id-10 div.sk-toggleable__content {max-height: 0;max-width: 0;overflow: hidden;text-align: left;background-color: #f0f8ff;}#sk-container-id-10 div.sk-toggleable__content pre {margin: 0.2em;color: black;border-radius: 0.25em;background-color: #f0f8ff;}#sk-container-id-10 input.sk-toggleable__control:checked~div.sk-toggleable__content {max-height: 200px;max-width: 100%;overflow: auto;}#sk-container-id-10 input.sk-toggleable__control:checked~label.sk-toggleable__label-arrow:before {content: \"▾\";}#sk-container-id-10 div.sk-estimator input.sk-toggleable__control:checked~label.sk-toggleable__label {background-color: #d4ebff;}#sk-container-id-10 div.sk-label input.sk-toggleable__control:checked~label.sk-toggleable__label {background-color: #d4ebff;}#sk-container-id-10 input.sk-hidden--visually {border: 0;clip: rect(1px 1px 1px 1px);clip: rect(1px, 1px, 1px, 1px);height: 1px;margin: -1px;overflow: hidden;padding: 0;position: absolute;width: 1px;}#sk-container-id-10 div.sk-estimator {font-family: monospace;background-color: #f0f8ff;border: 1px dotted black;border-radius: 0.25em;box-sizing: border-box;margin-bottom: 0.5em;}#sk-container-id-10 div.sk-estimator:hover {background-color: #d4ebff;}#sk-container-id-10 div.sk-parallel-item::after {content: \"\";width: 100%;border-bottom: 1px solid gray;flex-grow: 1;}#sk-container-id-10 div.sk-label:hover label.sk-toggleable__label {background-color: #d4ebff;}#sk-container-id-10 div.sk-serial::before {content: \"\";position: absolute;border-left: 1px solid gray;box-sizing: border-box;top: 0;bottom: 0;left: 50%;z-index: 0;}#sk-container-id-10 div.sk-serial {display: flex;flex-direction: column;align-items: center;background-color: white;padding-right: 0.2em;padding-left: 0.2em;position: relative;}#sk-container-id-10 div.sk-item {position: relative;z-index: 1;}#sk-container-id-10 div.sk-parallel {display: flex;align-items: stretch;justify-content: center;background-color: white;position: relative;}#sk-container-id-10 div.sk-item::before, #sk-container-id-10 div.sk-parallel-item::before {content: \"\";position: absolute;border-left: 1px solid gray;box-sizing: border-box;top: 0;bottom: 0;left: 50%;z-index: -1;}#sk-container-id-10 div.sk-parallel-item {display: flex;flex-direction: column;z-index: 1;position: relative;background-color: white;}#sk-container-id-10 div.sk-parallel-item:first-child::after {align-self: flex-end;width: 50%;}#sk-container-id-10 div.sk-parallel-item:last-child::after {align-self: flex-start;width: 50%;}#sk-container-id-10 div.sk-parallel-item:only-child::after {width: 0;}#sk-container-id-10 div.sk-dashed-wrapped {border: 1px dashed gray;margin: 0 0.4em 0.5em 0.4em;box-sizing: border-box;padding-bottom: 0.4em;background-color: white;}#sk-container-id-10 div.sk-label label {font-family: monospace;font-weight: bold;display: inline-block;line-height: 1.2em;}#sk-container-id-10 div.sk-label-container {text-align: center;}#sk-container-id-10 div.sk-container {/* jupyter's `normalize.less` sets `[hidden] { display: none; }` but bootstrap.min.css set `[hidden] { display: none !important; }` so we also need the `!important` here to be able to override the default hidden behavior on the sphinx rendered scikit-learn.org. See: https://github.com/scikit-learn/scikit-learn/issues/21755 */display: inline-block !important;position: relative;}#sk-container-id-10 div.sk-text-repr-fallback {display: none;}</style><div id=\"sk-container-id-10\" class=\"sk-top-container\"><div class=\"sk-text-repr-fallback\"><pre>RandomForestClassifier(min_samples_leaf=4, random_state=0)</pre><b>In a Jupyter environment, please rerun this cell to show the HTML representation or trust the notebook. <br />On GitHub, the HTML representation is unable to render, please try loading this page with nbviewer.org.</b></div><div class=\"sk-container\" hidden><div class=\"sk-item\"><div class=\"sk-estimator sk-toggleable\"><input class=\"sk-toggleable__control sk-hidden--visually\" id=\"sk-estimator-id-10\" type=\"checkbox\" checked><label for=\"sk-estimator-id-10\" class=\"sk-toggleable__label sk-toggleable__label-arrow\">RandomForestClassifier</label><div class=\"sk-toggleable__content\"><pre>RandomForestClassifier(min_samples_leaf=4, random_state=0)</pre></div></div></div></div></div>"
     },
     "execution_count": 73,
     "metadata": {},
     "output_type": "execute_result"
    }
   ],
   "source": [
    "from sklearn.ensemble import RandomForestClassifier\n",
    "\n",
    "model = RandomForestClassifier(random_state=0, min_samples_leaf=4)\n",
    "model.fit(X_train, y_train)"
   ],
   "metadata": {
    "collapsed": false
   }
  },
  {
   "cell_type": "code",
   "execution_count": 74,
   "outputs": [
    {
     "data": {
      "text/plain": "0.8245475676573136"
     },
     "execution_count": 74,
     "metadata": {},
     "output_type": "execute_result"
    }
   ],
   "source": [
    "from sklearn.metrics import accuracy_score\n",
    "\n",
    "y_pred = model.predict(X_train)\n",
    "accuracy_score(y_train, y_pred)"
   ],
   "metadata": {
    "collapsed": false
   }
  },
  {
   "cell_type": "code",
   "execution_count": 75,
   "outputs": [
    {
     "name": "stderr",
     "output_type": "stream",
     "text": [
      "F:\\Projects\\hltv_notebook\\venv\\Lib\\site-packages\\sklearn\\base.py:420: UserWarning: X does not have valid feature names, but RandomForestClassifier was fitted with feature names\n",
      "  warnings.warn(\n"
     ]
    },
    {
     "data": {
      "text/plain": "array([False])"
     },
     "execution_count": 75,
     "metadata": {},
     "output_type": "execute_result"
    }
   ],
   "source": [
    "model.predict([[1, 2, 1]])"
   ],
   "metadata": {
    "collapsed": false
   }
  },
  {
   "cell_type": "code",
   "execution_count": 76,
   "outputs": [
    {
     "data": {
      "text/plain": "50.23341943917089"
     },
     "execution_count": 76,
     "metadata": {},
     "output_type": "execute_result"
    }
   ],
   "source": [
    "import numpy as np\n",
    "from sklearn.model_selection import cross_val_score\n",
    "\n",
    "accuracy = np.mean(cross_val_score(model, X_test, y_test, scoring='accuracy')) * 100\n",
    "accuracy"
   ],
   "metadata": {
    "collapsed": false
   }
  },
  {
   "cell_type": "code",
   "execution_count": 77,
   "outputs": [
    {
     "ename": "ValueError",
     "evalue": "Found input variables with inconsistent numbers of samples: [1268, 24092]",
     "output_type": "error",
     "traceback": [
      "\u001B[1;31m---------------------------------------------------------------------------\u001B[0m",
      "\u001B[1;31mValueError\u001B[0m                                Traceback (most recent call last)",
      "Cell \u001B[1;32mIn[77], line 4\u001B[0m\n\u001B[0;32m      1\u001B[0m \u001B[38;5;28;01mfrom\u001B[39;00m \u001B[38;5;21;01msklearn\u001B[39;00m\u001B[38;5;21;01m.\u001B[39;00m\u001B[38;5;21;01mmetrics\u001B[39;00m \u001B[38;5;28;01mimport\u001B[39;00m confusion_matrix\n\u001B[0;32m      3\u001B[0m pd\u001B[38;5;241m.\u001B[39mDataFrame(\n\u001B[1;32m----> 4\u001B[0m     \u001B[43mconfusion_matrix\u001B[49m\u001B[43m(\u001B[49m\u001B[43my_test\u001B[49m\u001B[43m,\u001B[49m\u001B[43m \u001B[49m\u001B[43my_pred\u001B[49m\u001B[43m)\u001B[49m,\n\u001B[0;32m      5\u001B[0m     columns\u001B[38;5;241m=\u001B[39m[\u001B[38;5;124m'\u001B[39m\u001B[38;5;124mPredicted Loss\u001B[39m\u001B[38;5;124m'\u001B[39m, \u001B[38;5;124m'\u001B[39m\u001B[38;5;124mPredicted Win\u001B[39m\u001B[38;5;124m'\u001B[39m],\n\u001B[0;32m      6\u001B[0m     index\u001B[38;5;241m=\u001B[39m[\u001B[38;5;124m'\u001B[39m\u001B[38;5;124mTrue Loss\u001B[39m\u001B[38;5;124m'\u001B[39m, \u001B[38;5;124m'\u001B[39m\u001B[38;5;124mTrue Win\u001B[39m\u001B[38;5;124m'\u001B[39m]\n\u001B[0;32m      7\u001B[0m )\n",
      "File \u001B[1;32mF:\\Projects\\hltv_notebook\\venv\\Lib\\site-packages\\sklearn\\metrics\\_classification.py:317\u001B[0m, in \u001B[0;36mconfusion_matrix\u001B[1;34m(y_true, y_pred, labels, sample_weight, normalize)\u001B[0m\n\u001B[0;32m    232\u001B[0m \u001B[38;5;28;01mdef\u001B[39;00m \u001B[38;5;21mconfusion_matrix\u001B[39m(\n\u001B[0;32m    233\u001B[0m     y_true, y_pred, \u001B[38;5;241m*\u001B[39m, labels\u001B[38;5;241m=\u001B[39m\u001B[38;5;28;01mNone\u001B[39;00m, sample_weight\u001B[38;5;241m=\u001B[39m\u001B[38;5;28;01mNone\u001B[39;00m, normalize\u001B[38;5;241m=\u001B[39m\u001B[38;5;28;01mNone\u001B[39;00m\n\u001B[0;32m    234\u001B[0m ):\n\u001B[0;32m    235\u001B[0m \u001B[38;5;250m    \u001B[39m\u001B[38;5;124;03m\"\"\"Compute confusion matrix to evaluate the accuracy of a classification.\u001B[39;00m\n\u001B[0;32m    236\u001B[0m \n\u001B[0;32m    237\u001B[0m \u001B[38;5;124;03m    By definition a confusion matrix :math:`C` is such that :math:`C_{i, j}`\u001B[39;00m\n\u001B[1;32m   (...)\u001B[0m\n\u001B[0;32m    315\u001B[0m \u001B[38;5;124;03m    (0, 2, 1, 1)\u001B[39;00m\n\u001B[0;32m    316\u001B[0m \u001B[38;5;124;03m    \"\"\"\u001B[39;00m\n\u001B[1;32m--> 317\u001B[0m     y_type, y_true, y_pred \u001B[38;5;241m=\u001B[39m \u001B[43m_check_targets\u001B[49m\u001B[43m(\u001B[49m\u001B[43my_true\u001B[49m\u001B[43m,\u001B[49m\u001B[43m \u001B[49m\u001B[43my_pred\u001B[49m\u001B[43m)\u001B[49m\n\u001B[0;32m    318\u001B[0m     \u001B[38;5;28;01mif\u001B[39;00m y_type \u001B[38;5;129;01mnot\u001B[39;00m \u001B[38;5;129;01min\u001B[39;00m (\u001B[38;5;124m\"\u001B[39m\u001B[38;5;124mbinary\u001B[39m\u001B[38;5;124m\"\u001B[39m, \u001B[38;5;124m\"\u001B[39m\u001B[38;5;124mmulticlass\u001B[39m\u001B[38;5;124m\"\u001B[39m):\n\u001B[0;32m    319\u001B[0m         \u001B[38;5;28;01mraise\u001B[39;00m \u001B[38;5;167;01mValueError\u001B[39;00m(\u001B[38;5;124m\"\u001B[39m\u001B[38;5;132;01m%s\u001B[39;00m\u001B[38;5;124m is not supported\u001B[39m\u001B[38;5;124m\"\u001B[39m \u001B[38;5;241m%\u001B[39m y_type)\n",
      "File \u001B[1;32mF:\\Projects\\hltv_notebook\\venv\\Lib\\site-packages\\sklearn\\metrics\\_classification.py:86\u001B[0m, in \u001B[0;36m_check_targets\u001B[1;34m(y_true, y_pred)\u001B[0m\n\u001B[0;32m     59\u001B[0m \u001B[38;5;28;01mdef\u001B[39;00m \u001B[38;5;21m_check_targets\u001B[39m(y_true, y_pred):\n\u001B[0;32m     60\u001B[0m \u001B[38;5;250m    \u001B[39m\u001B[38;5;124;03m\"\"\"Check that y_true and y_pred belong to the same classification task.\u001B[39;00m\n\u001B[0;32m     61\u001B[0m \n\u001B[0;32m     62\u001B[0m \u001B[38;5;124;03m    This converts multiclass or binary types to a common shape, and raises a\u001B[39;00m\n\u001B[1;32m   (...)\u001B[0m\n\u001B[0;32m     84\u001B[0m \u001B[38;5;124;03m    y_pred : array or indicator matrix\u001B[39;00m\n\u001B[0;32m     85\u001B[0m \u001B[38;5;124;03m    \"\"\"\u001B[39;00m\n\u001B[1;32m---> 86\u001B[0m     \u001B[43mcheck_consistent_length\u001B[49m\u001B[43m(\u001B[49m\u001B[43my_true\u001B[49m\u001B[43m,\u001B[49m\u001B[43m \u001B[49m\u001B[43my_pred\u001B[49m\u001B[43m)\u001B[49m\n\u001B[0;32m     87\u001B[0m     type_true \u001B[38;5;241m=\u001B[39m type_of_target(y_true, input_name\u001B[38;5;241m=\u001B[39m\u001B[38;5;124m\"\u001B[39m\u001B[38;5;124my_true\u001B[39m\u001B[38;5;124m\"\u001B[39m)\n\u001B[0;32m     88\u001B[0m     type_pred \u001B[38;5;241m=\u001B[39m type_of_target(y_pred, input_name\u001B[38;5;241m=\u001B[39m\u001B[38;5;124m\"\u001B[39m\u001B[38;5;124my_pred\u001B[39m\u001B[38;5;124m\"\u001B[39m)\n",
      "File \u001B[1;32mF:\\Projects\\hltv_notebook\\venv\\Lib\\site-packages\\sklearn\\utils\\validation.py:397\u001B[0m, in \u001B[0;36mcheck_consistent_length\u001B[1;34m(*arrays)\u001B[0m\n\u001B[0;32m    395\u001B[0m uniques \u001B[38;5;241m=\u001B[39m np\u001B[38;5;241m.\u001B[39munique(lengths)\n\u001B[0;32m    396\u001B[0m \u001B[38;5;28;01mif\u001B[39;00m \u001B[38;5;28mlen\u001B[39m(uniques) \u001B[38;5;241m>\u001B[39m \u001B[38;5;241m1\u001B[39m:\n\u001B[1;32m--> 397\u001B[0m     \u001B[38;5;28;01mraise\u001B[39;00m \u001B[38;5;167;01mValueError\u001B[39;00m(\n\u001B[0;32m    398\u001B[0m         \u001B[38;5;124m\"\u001B[39m\u001B[38;5;124mFound input variables with inconsistent numbers of samples: \u001B[39m\u001B[38;5;132;01m%r\u001B[39;00m\u001B[38;5;124m\"\u001B[39m\n\u001B[0;32m    399\u001B[0m         \u001B[38;5;241m%\u001B[39m [\u001B[38;5;28mint\u001B[39m(l) \u001B[38;5;28;01mfor\u001B[39;00m l \u001B[38;5;129;01min\u001B[39;00m lengths]\n\u001B[0;32m    400\u001B[0m     )\n",
      "\u001B[1;31mValueError\u001B[0m: Found input variables with inconsistent numbers of samples: [1268, 24092]"
     ]
    }
   ],
   "source": [
    "from sklearn.metrics import confusion_matrix\n",
    "\n",
    "pd.DataFrame(\n",
    "    confusion_matrix(y_test, y_pred),\n",
    "    columns=['Predicted Loss', 'Predicted Win'],\n",
    "    index=['True Loss', 'True Win']\n",
    ")"
   ],
   "metadata": {
    "collapsed": false
   }
  }
 ],
 "metadata": {
  "kernelspec": {
   "display_name": "Python 3",
   "language": "python",
   "name": "python3"
  },
  "language_info": {
   "codemirror_mode": {
    "name": "ipython",
    "version": 2
   },
   "file_extension": ".py",
   "mimetype": "text/x-python",
   "name": "python",
   "nbconvert_exporter": "python",
   "pygments_lexer": "ipython2",
   "version": "2.7.6"
  }
 },
 "nbformat": 4,
 "nbformat_minor": 0
}
