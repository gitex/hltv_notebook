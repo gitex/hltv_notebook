{
 "cells": [
  {
   "cell_type": "code",
   "execution_count": 22,
   "metadata": {
    "collapsed": true
   },
   "outputs": [
    {
     "name": "stdout",
     "output_type": "stream",
     "text": [
      "The autoreload extension is already loaded. To reload it, use:\n",
      "  %reload_ext autoreload\n"
     ]
    },
    {
     "data": {
      "text/plain": "True"
     },
     "execution_count": 22,
     "metadata": {},
     "output_type": "execute_result"
    }
   ],
   "source": [
    "import sys\n",
    "from pathlib import Path\n",
    "\n",
    "import pandas as pd\n",
    "\n",
    "current_dir = Path('.')\n",
    "current_dir = current_dir.absolute()\n",
    "root_dir = current_dir.parent.parent\n",
    "src_dir = root_dir / 'src'\n",
    "\n",
    "sys.path.append(str(src_dir))\n",
    "\n",
    "%load_ext autoreload\n",
    "%autoreload 2\n",
    "\n",
    "from dotenv import load_dotenv\n",
    "load_dotenv(str(src_dir / '.env'))"
   ]
  },
  {
   "cell_type": "code",
   "execution_count": 23,
   "outputs": [
    {
     "name": "stderr",
     "output_type": "stream",
     "text": [
      "F:\\Projects\\hltv_notebook\\src\\infra\\data_frames\\pipeline\\matches.py:113: SettingWithCopyWarning: \n",
      "A value is trying to be set on a copy of a slice from a DataFrame.\n",
      "Try using .loc[row_indexer,col_indexer] = value instead\n",
      "\n",
      "See the caveats in the documentation: https://pandas.pydata.org/pandas-docs/stable/user_guide/indexing.html#returning-a-view-versus-a-copy\n",
      "  df[C.Winner] = winners\n"
     ]
    }
   ],
   "source": [
    "from api.containers.teams_and_winner import LoadTeamsAndWinnerOnly\n",
    "\n",
    "\n",
    "def get_original_df():\n",
    "    service = LoadTeamsAndWinnerOnly().service()\n",
    "\n",
    "    return service.collect_all()\n",
    "\n",
    "df = get_original_df()"
   ],
   "metadata": {
    "collapsed": false
   }
  },
  {
   "cell_type": "code",
   "execution_count": 24,
   "outputs": [],
   "source": [
    "from infra.data_frames.pipeline import C\n",
    "\n",
    "# Normalize teams and maps as integers\n",
    "team_1_unique = set(df[C.Team1].unique())\n",
    "team_2_unique = set(df[C.Team2].unique())\n",
    "id_to_team = dict(enumerate(team_1_unique.union(team_2_unique), start=1))\n",
    "team_to_id = {v: k for k, v in id_to_team.items()}\n",
    "\n",
    "maps = set(df[C.Map].unique())\n",
    "id_to_map = dict(enumerate(maps, start=1))\n",
    "map_to_id = {v: k for k, v in id_to_map.items()}\n",
    "\n",
    "# Create function to decode and encode teams and maps in the future\n",
    "def decode_team(identifier: int):\n",
    "    return id_to_team[identifier]\n",
    "\n",
    "def encode_team(team: str):\n",
    "    return team_to_id[team]\n",
    "\n",
    "def decode_map(identifier: int):\n",
    "    return id_to_map[identifier]\n",
    "\n",
    "def encode_map(map: str):\n",
    "    return map_to_id[map]\n",
    "\n",
    "\n",
    "def convert_string_into_int(df: pd.DataFrame):\n",
    "    df = pd.DataFrame({\n",
    "        'Team': df[C.Team1].map(team_to_id),\n",
    "        'Opponent': df[C.Team2].map(team_to_id),\n",
    "        C.Map: df[C.Map].map(map_to_id),\n",
    "        'Win': (df[C.Winner] == df[C.Team1]),\n",
    "\n",
    "    })\n",
    "    df['Win'] = df['Win'].astype(float)\n",
    "    return df\n",
    "\n",
    "df = convert_string_into_int(df)"
   ],
   "metadata": {
    "collapsed": false
   }
  },
  {
   "cell_type": "code",
   "execution_count": 25,
   "outputs": [],
   "source": [
    "# Prepare data for training\n",
    "\n",
    "X = df[['Team', 'Opponent', C.Map]]\n",
    "y = df['Win']"
   ],
   "metadata": {
    "collapsed": false
   }
  },
  {
   "cell_type": "code",
   "execution_count": 26,
   "outputs": [
    {
     "data": {
      "text/plain": "LinearRegression()",
      "text/html": "<style>#sk-container-id-2 {color: black;background-color: white;}#sk-container-id-2 pre{padding: 0;}#sk-container-id-2 div.sk-toggleable {background-color: white;}#sk-container-id-2 label.sk-toggleable__label {cursor: pointer;display: block;width: 100%;margin-bottom: 0;padding: 0.3em;box-sizing: border-box;text-align: center;}#sk-container-id-2 label.sk-toggleable__label-arrow:before {content: \"▸\";float: left;margin-right: 0.25em;color: #696969;}#sk-container-id-2 label.sk-toggleable__label-arrow:hover:before {color: black;}#sk-container-id-2 div.sk-estimator:hover label.sk-toggleable__label-arrow:before {color: black;}#sk-container-id-2 div.sk-toggleable__content {max-height: 0;max-width: 0;overflow: hidden;text-align: left;background-color: #f0f8ff;}#sk-container-id-2 div.sk-toggleable__content pre {margin: 0.2em;color: black;border-radius: 0.25em;background-color: #f0f8ff;}#sk-container-id-2 input.sk-toggleable__control:checked~div.sk-toggleable__content {max-height: 200px;max-width: 100%;overflow: auto;}#sk-container-id-2 input.sk-toggleable__control:checked~label.sk-toggleable__label-arrow:before {content: \"▾\";}#sk-container-id-2 div.sk-estimator input.sk-toggleable__control:checked~label.sk-toggleable__label {background-color: #d4ebff;}#sk-container-id-2 div.sk-label input.sk-toggleable__control:checked~label.sk-toggleable__label {background-color: #d4ebff;}#sk-container-id-2 input.sk-hidden--visually {border: 0;clip: rect(1px 1px 1px 1px);clip: rect(1px, 1px, 1px, 1px);height: 1px;margin: -1px;overflow: hidden;padding: 0;position: absolute;width: 1px;}#sk-container-id-2 div.sk-estimator {font-family: monospace;background-color: #f0f8ff;border: 1px dotted black;border-radius: 0.25em;box-sizing: border-box;margin-bottom: 0.5em;}#sk-container-id-2 div.sk-estimator:hover {background-color: #d4ebff;}#sk-container-id-2 div.sk-parallel-item::after {content: \"\";width: 100%;border-bottom: 1px solid gray;flex-grow: 1;}#sk-container-id-2 div.sk-label:hover label.sk-toggleable__label {background-color: #d4ebff;}#sk-container-id-2 div.sk-serial::before {content: \"\";position: absolute;border-left: 1px solid gray;box-sizing: border-box;top: 0;bottom: 0;left: 50%;z-index: 0;}#sk-container-id-2 div.sk-serial {display: flex;flex-direction: column;align-items: center;background-color: white;padding-right: 0.2em;padding-left: 0.2em;position: relative;}#sk-container-id-2 div.sk-item {position: relative;z-index: 1;}#sk-container-id-2 div.sk-parallel {display: flex;align-items: stretch;justify-content: center;background-color: white;position: relative;}#sk-container-id-2 div.sk-item::before, #sk-container-id-2 div.sk-parallel-item::before {content: \"\";position: absolute;border-left: 1px solid gray;box-sizing: border-box;top: 0;bottom: 0;left: 50%;z-index: -1;}#sk-container-id-2 div.sk-parallel-item {display: flex;flex-direction: column;z-index: 1;position: relative;background-color: white;}#sk-container-id-2 div.sk-parallel-item:first-child::after {align-self: flex-end;width: 50%;}#sk-container-id-2 div.sk-parallel-item:last-child::after {align-self: flex-start;width: 50%;}#sk-container-id-2 div.sk-parallel-item:only-child::after {width: 0;}#sk-container-id-2 div.sk-dashed-wrapped {border: 1px dashed gray;margin: 0 0.4em 0.5em 0.4em;box-sizing: border-box;padding-bottom: 0.4em;background-color: white;}#sk-container-id-2 div.sk-label label {font-family: monospace;font-weight: bold;display: inline-block;line-height: 1.2em;}#sk-container-id-2 div.sk-label-container {text-align: center;}#sk-container-id-2 div.sk-container {/* jupyter's `normalize.less` sets `[hidden] { display: none; }` but bootstrap.min.css set `[hidden] { display: none !important; }` so we also need the `!important` here to be able to override the default hidden behavior on the sphinx rendered scikit-learn.org. See: https://github.com/scikit-learn/scikit-learn/issues/21755 */display: inline-block !important;position: relative;}#sk-container-id-2 div.sk-text-repr-fallback {display: none;}</style><div id=\"sk-container-id-2\" class=\"sk-top-container\"><div class=\"sk-text-repr-fallback\"><pre>LinearRegression()</pre><b>In a Jupyter environment, please rerun this cell to show the HTML representation or trust the notebook. <br />On GitHub, the HTML representation is unable to render, please try loading this page with nbviewer.org.</b></div><div class=\"sk-container\" hidden><div class=\"sk-item\"><div class=\"sk-estimator sk-toggleable\"><input class=\"sk-toggleable__control sk-hidden--visually\" id=\"sk-estimator-id-2\" type=\"checkbox\" checked><label for=\"sk-estimator-id-2\" class=\"sk-toggleable__label sk-toggleable__label-arrow\">LinearRegression</label><div class=\"sk-toggleable__content\"><pre>LinearRegression()</pre></div></div></div></div></div>"
     },
     "execution_count": 26,
     "metadata": {},
     "output_type": "execute_result"
    }
   ],
   "source": [
    "# Let's try to use logistic regression\n",
    "\n",
    "from sklearn.linear_model import LinearRegression\n",
    "\n",
    "model = LinearRegression()\n",
    "model.fit(X, y)"
   ],
   "metadata": {
    "collapsed": false
   }
  },
  {
   "cell_type": "code",
   "execution_count": 27,
   "outputs": [
    {
     "data": {
      "text/plain": "    Team  Opponent  Map  Win  Predicted Win\n0    893       906    3  0.0       0.490041\n1    906       893    4  0.0       0.489094\n2    893       906   11  0.0       0.481692\n3    806      1242    3  0.0       0.485041\n4   1027       281   11  0.0       0.491271\n..   ...       ...  ...  ...            ...\n45   600       105   11  1.0       0.498631\n46   600       105    9  1.0       0.500719\n47   600       105    3  0.0       0.506980\n48   752       698    9  0.0       0.488829\n49   698       752    4  1.0       0.493645\n\n[25360 rows x 5 columns]",
      "text/html": "<div>\n<style scoped>\n    .dataframe tbody tr th:only-of-type {\n        vertical-align: middle;\n    }\n\n    .dataframe tbody tr th {\n        vertical-align: top;\n    }\n\n    .dataframe thead th {\n        text-align: right;\n    }\n</style>\n<table border=\"1\" class=\"dataframe\">\n  <thead>\n    <tr style=\"text-align: right;\">\n      <th></th>\n      <th>Team</th>\n      <th>Opponent</th>\n      <th>Map</th>\n      <th>Win</th>\n      <th>Predicted Win</th>\n    </tr>\n  </thead>\n  <tbody>\n    <tr>\n      <th>0</th>\n      <td>893</td>\n      <td>906</td>\n      <td>3</td>\n      <td>0.0</td>\n      <td>0.490041</td>\n    </tr>\n    <tr>\n      <th>1</th>\n      <td>906</td>\n      <td>893</td>\n      <td>4</td>\n      <td>0.0</td>\n      <td>0.489094</td>\n    </tr>\n    <tr>\n      <th>2</th>\n      <td>893</td>\n      <td>906</td>\n      <td>11</td>\n      <td>0.0</td>\n      <td>0.481692</td>\n    </tr>\n    <tr>\n      <th>3</th>\n      <td>806</td>\n      <td>1242</td>\n      <td>3</td>\n      <td>0.0</td>\n      <td>0.485041</td>\n    </tr>\n    <tr>\n      <th>4</th>\n      <td>1027</td>\n      <td>281</td>\n      <td>11</td>\n      <td>0.0</td>\n      <td>0.491271</td>\n    </tr>\n    <tr>\n      <th>...</th>\n      <td>...</td>\n      <td>...</td>\n      <td>...</td>\n      <td>...</td>\n      <td>...</td>\n    </tr>\n    <tr>\n      <th>45</th>\n      <td>600</td>\n      <td>105</td>\n      <td>11</td>\n      <td>1.0</td>\n      <td>0.498631</td>\n    </tr>\n    <tr>\n      <th>46</th>\n      <td>600</td>\n      <td>105</td>\n      <td>9</td>\n      <td>1.0</td>\n      <td>0.500719</td>\n    </tr>\n    <tr>\n      <th>47</th>\n      <td>600</td>\n      <td>105</td>\n      <td>3</td>\n      <td>0.0</td>\n      <td>0.506980</td>\n    </tr>\n    <tr>\n      <th>48</th>\n      <td>752</td>\n      <td>698</td>\n      <td>9</td>\n      <td>0.0</td>\n      <td>0.488829</td>\n    </tr>\n    <tr>\n      <th>49</th>\n      <td>698</td>\n      <td>752</td>\n      <td>4</td>\n      <td>1.0</td>\n      <td>0.493645</td>\n    </tr>\n  </tbody>\n</table>\n<p>25360 rows × 5 columns</p>\n</div>"
     },
     "execution_count": 27,
     "metadata": {},
     "output_type": "execute_result"
    }
   ],
   "source": [
    "y_pred = model.predict(X)\n",
    "\n",
    "df['Predicted Win'] = y_pred.astype(float)\n",
    "df"
   ],
   "metadata": {
    "collapsed": false
   }
  },
  {
   "cell_type": "markdown",
   "source": [
    "Not good results. Almost every match is predicted as a 50/50 match.\n",
    "\n",
    "Let's check most played teams with each other."
   ],
   "metadata": {
    "collapsed": false
   }
  },
  {
   "cell_type": "code",
   "execution_count": 28,
   "outputs": [
    {
     "data": {
      "text/plain": "Team  Opponent\n990   1295        18\n971   990         17\n112   831         16\n      528         14\n1188  699         14\n                  ..\n325   1056         1\n806   350          1\n      296          1\n325   1092         1\n1320  1313         1\nLength: 13541, dtype: int64"
     },
     "execution_count": 28,
     "metadata": {},
     "output_type": "execute_result"
    }
   ],
   "source": [
    "df.groupby(['Team','Opponent']).size().sort_values(ascending=False)"
   ],
   "metadata": {
    "collapsed": false
   }
  },
  {
   "cell_type": "code",
   "execution_count": 58,
   "outputs": [
    {
     "data": {
      "text/plain": "    Team  Opponent  Map  Win  Predicted Win\n15   990      1295    4  0.0       0.481225\n17   990      1295   11  0.0       0.473920\n5    990      1295    5  0.0       0.480182\n0    990      1295    1  0.0       0.484356\n1    990      1295    5  0.0       0.480182\n3    990      1295   11  1.0       0.473920\n21   990      1295    5  1.0       0.480182\n30   990      1295    5  0.0       0.480182\n40   990      1295    1  1.0       0.484356\n41   990      1295    5  0.0       0.480182\n33   990      1295    5  0.0       0.480182\n35   990      1295   11  1.0       0.473920\n23   990      1295   11  0.0       0.473920\n47   990      1295    5  0.0       0.480182\n43   990      1295    4  1.0       0.481225\n44   990      1295    1  0.0       0.484356\n41   990      1295    9  0.0       0.476007\n42   990      1295    1  0.0       0.484356\n16  1295       990    1  0.0       0.486627\n3   1295       990    9  0.0       0.478278\n4   1295       990    1  0.0       0.486627\n2   1295       990    9  1.0       0.478278\n22  1295       990    9  0.0       0.478278\n31  1295       990   11  1.0       0.476191\n42  1295       990    9  1.0       0.478278\n34  1295       990    4  1.0       0.483496\n36  1295       990    1  0.0       0.486627\n22  1295       990    4  1.0       0.483496\n48  1295       990   11  1.0       0.476191\n42  1295       990    5  1.0       0.482453",
      "text/html": "<div>\n<style scoped>\n    .dataframe tbody tr th:only-of-type {\n        vertical-align: middle;\n    }\n\n    .dataframe tbody tr th {\n        vertical-align: top;\n    }\n\n    .dataframe thead th {\n        text-align: right;\n    }\n</style>\n<table border=\"1\" class=\"dataframe\">\n  <thead>\n    <tr style=\"text-align: right;\">\n      <th></th>\n      <th>Team</th>\n      <th>Opponent</th>\n      <th>Map</th>\n      <th>Win</th>\n      <th>Predicted Win</th>\n    </tr>\n  </thead>\n  <tbody>\n    <tr>\n      <th>15</th>\n      <td>990</td>\n      <td>1295</td>\n      <td>4</td>\n      <td>0.0</td>\n      <td>0.481225</td>\n    </tr>\n    <tr>\n      <th>17</th>\n      <td>990</td>\n      <td>1295</td>\n      <td>11</td>\n      <td>0.0</td>\n      <td>0.473920</td>\n    </tr>\n    <tr>\n      <th>5</th>\n      <td>990</td>\n      <td>1295</td>\n      <td>5</td>\n      <td>0.0</td>\n      <td>0.480182</td>\n    </tr>\n    <tr>\n      <th>0</th>\n      <td>990</td>\n      <td>1295</td>\n      <td>1</td>\n      <td>0.0</td>\n      <td>0.484356</td>\n    </tr>\n    <tr>\n      <th>1</th>\n      <td>990</td>\n      <td>1295</td>\n      <td>5</td>\n      <td>0.0</td>\n      <td>0.480182</td>\n    </tr>\n    <tr>\n      <th>3</th>\n      <td>990</td>\n      <td>1295</td>\n      <td>11</td>\n      <td>1.0</td>\n      <td>0.473920</td>\n    </tr>\n    <tr>\n      <th>21</th>\n      <td>990</td>\n      <td>1295</td>\n      <td>5</td>\n      <td>1.0</td>\n      <td>0.480182</td>\n    </tr>\n    <tr>\n      <th>30</th>\n      <td>990</td>\n      <td>1295</td>\n      <td>5</td>\n      <td>0.0</td>\n      <td>0.480182</td>\n    </tr>\n    <tr>\n      <th>40</th>\n      <td>990</td>\n      <td>1295</td>\n      <td>1</td>\n      <td>1.0</td>\n      <td>0.484356</td>\n    </tr>\n    <tr>\n      <th>41</th>\n      <td>990</td>\n      <td>1295</td>\n      <td>5</td>\n      <td>0.0</td>\n      <td>0.480182</td>\n    </tr>\n    <tr>\n      <th>33</th>\n      <td>990</td>\n      <td>1295</td>\n      <td>5</td>\n      <td>0.0</td>\n      <td>0.480182</td>\n    </tr>\n    <tr>\n      <th>35</th>\n      <td>990</td>\n      <td>1295</td>\n      <td>11</td>\n      <td>1.0</td>\n      <td>0.473920</td>\n    </tr>\n    <tr>\n      <th>23</th>\n      <td>990</td>\n      <td>1295</td>\n      <td>11</td>\n      <td>0.0</td>\n      <td>0.473920</td>\n    </tr>\n    <tr>\n      <th>47</th>\n      <td>990</td>\n      <td>1295</td>\n      <td>5</td>\n      <td>0.0</td>\n      <td>0.480182</td>\n    </tr>\n    <tr>\n      <th>43</th>\n      <td>990</td>\n      <td>1295</td>\n      <td>4</td>\n      <td>1.0</td>\n      <td>0.481225</td>\n    </tr>\n    <tr>\n      <th>44</th>\n      <td>990</td>\n      <td>1295</td>\n      <td>1</td>\n      <td>0.0</td>\n      <td>0.484356</td>\n    </tr>\n    <tr>\n      <th>41</th>\n      <td>990</td>\n      <td>1295</td>\n      <td>9</td>\n      <td>0.0</td>\n      <td>0.476007</td>\n    </tr>\n    <tr>\n      <th>42</th>\n      <td>990</td>\n      <td>1295</td>\n      <td>1</td>\n      <td>0.0</td>\n      <td>0.484356</td>\n    </tr>\n    <tr>\n      <th>16</th>\n      <td>1295</td>\n      <td>990</td>\n      <td>1</td>\n      <td>0.0</td>\n      <td>0.486627</td>\n    </tr>\n    <tr>\n      <th>3</th>\n      <td>1295</td>\n      <td>990</td>\n      <td>9</td>\n      <td>0.0</td>\n      <td>0.478278</td>\n    </tr>\n    <tr>\n      <th>4</th>\n      <td>1295</td>\n      <td>990</td>\n      <td>1</td>\n      <td>0.0</td>\n      <td>0.486627</td>\n    </tr>\n    <tr>\n      <th>2</th>\n      <td>1295</td>\n      <td>990</td>\n      <td>9</td>\n      <td>1.0</td>\n      <td>0.478278</td>\n    </tr>\n    <tr>\n      <th>22</th>\n      <td>1295</td>\n      <td>990</td>\n      <td>9</td>\n      <td>0.0</td>\n      <td>0.478278</td>\n    </tr>\n    <tr>\n      <th>31</th>\n      <td>1295</td>\n      <td>990</td>\n      <td>11</td>\n      <td>1.0</td>\n      <td>0.476191</td>\n    </tr>\n    <tr>\n      <th>42</th>\n      <td>1295</td>\n      <td>990</td>\n      <td>9</td>\n      <td>1.0</td>\n      <td>0.478278</td>\n    </tr>\n    <tr>\n      <th>34</th>\n      <td>1295</td>\n      <td>990</td>\n      <td>4</td>\n      <td>1.0</td>\n      <td>0.483496</td>\n    </tr>\n    <tr>\n      <th>36</th>\n      <td>1295</td>\n      <td>990</td>\n      <td>1</td>\n      <td>0.0</td>\n      <td>0.486627</td>\n    </tr>\n    <tr>\n      <th>22</th>\n      <td>1295</td>\n      <td>990</td>\n      <td>4</td>\n      <td>1.0</td>\n      <td>0.483496</td>\n    </tr>\n    <tr>\n      <th>48</th>\n      <td>1295</td>\n      <td>990</td>\n      <td>11</td>\n      <td>1.0</td>\n      <td>0.476191</td>\n    </tr>\n    <tr>\n      <th>42</th>\n      <td>1295</td>\n      <td>990</td>\n      <td>5</td>\n      <td>1.0</td>\n      <td>0.482453</td>\n    </tr>\n  </tbody>\n</table>\n</div>"
     },
     "execution_count": 58,
     "metadata": {},
     "output_type": "execute_result"
    }
   ],
   "source": [
    "def get_all_matches_of_teams(team_id_1: int, team_id_2: int):\n",
    "    straigt_variant = df[(df['Team'] == team_id_1) & (df['Opponent'] == team_id_2)]\n",
    "    reversed_variant = df[(df['Team'] == team_id_2) & (df['Opponent'] == team_id_1)]\n",
    "    return pd.concat([straigt_variant, reversed_variant])\n",
    "\n",
    "most_played_teams = get_all_matches_of_teams(990, 1295)\n",
    "most_played_teams"
   ],
   "metadata": {
    "collapsed": false
   }
  },
  {
   "cell_type": "code",
   "execution_count": 59,
   "outputs": [
    {
     "data": {
      "text/plain": "    Team  Opponent  Map  Win  Predicted Win\n15   990      1295    4  0.0       0.481225\n17   990      1295   11  0.0       0.473920\n5    990      1295    5  0.0       0.480182\n0    990      1295    1  0.0       0.484356\n1    990      1295    5  0.0       0.480182\n3    990      1295   11  1.0       0.473920\n21   990      1295    5  1.0       0.480182\n30   990      1295    5  0.0       0.480182\n40   990      1295    1  1.0       0.484356\n41   990      1295    5  0.0       0.480182\n33   990      1295    5  0.0       0.480182\n35   990      1295   11  1.0       0.473920\n23   990      1295   11  0.0       0.473920\n47   990      1295    5  0.0       0.480182\n43   990      1295    4  1.0       0.481225\n44   990      1295    1  0.0       0.484356\n41   990      1295    9  0.0       0.476007\n42   990      1295    1  0.0       0.484356\n16   990      1295    1  1.0       0.486627\n3    990      1295    9  1.0       0.478278\n4    990      1295    1  1.0       0.486627\n2    990      1295    9  0.0       0.478278\n22   990      1295    9  1.0       0.478278\n31   990      1295   11  0.0       0.476191\n42   990      1295    9  0.0       0.478278\n34   990      1295    4  0.0       0.483496\n36   990      1295    1  1.0       0.486627\n22   990      1295    4  1.0       0.483496\n48   990      1295   11  0.0       0.476191\n42   990      1295    5  0.0       0.482453",
      "text/html": "<div>\n<style scoped>\n    .dataframe tbody tr th:only-of-type {\n        vertical-align: middle;\n    }\n\n    .dataframe tbody tr th {\n        vertical-align: top;\n    }\n\n    .dataframe thead th {\n        text-align: right;\n    }\n</style>\n<table border=\"1\" class=\"dataframe\">\n  <thead>\n    <tr style=\"text-align: right;\">\n      <th></th>\n      <th>Team</th>\n      <th>Opponent</th>\n      <th>Map</th>\n      <th>Win</th>\n      <th>Predicted Win</th>\n    </tr>\n  </thead>\n  <tbody>\n    <tr>\n      <th>15</th>\n      <td>990</td>\n      <td>1295</td>\n      <td>4</td>\n      <td>0.0</td>\n      <td>0.481225</td>\n    </tr>\n    <tr>\n      <th>17</th>\n      <td>990</td>\n      <td>1295</td>\n      <td>11</td>\n      <td>0.0</td>\n      <td>0.473920</td>\n    </tr>\n    <tr>\n      <th>5</th>\n      <td>990</td>\n      <td>1295</td>\n      <td>5</td>\n      <td>0.0</td>\n      <td>0.480182</td>\n    </tr>\n    <tr>\n      <th>0</th>\n      <td>990</td>\n      <td>1295</td>\n      <td>1</td>\n      <td>0.0</td>\n      <td>0.484356</td>\n    </tr>\n    <tr>\n      <th>1</th>\n      <td>990</td>\n      <td>1295</td>\n      <td>5</td>\n      <td>0.0</td>\n      <td>0.480182</td>\n    </tr>\n    <tr>\n      <th>3</th>\n      <td>990</td>\n      <td>1295</td>\n      <td>11</td>\n      <td>1.0</td>\n      <td>0.473920</td>\n    </tr>\n    <tr>\n      <th>21</th>\n      <td>990</td>\n      <td>1295</td>\n      <td>5</td>\n      <td>1.0</td>\n      <td>0.480182</td>\n    </tr>\n    <tr>\n      <th>30</th>\n      <td>990</td>\n      <td>1295</td>\n      <td>5</td>\n      <td>0.0</td>\n      <td>0.480182</td>\n    </tr>\n    <tr>\n      <th>40</th>\n      <td>990</td>\n      <td>1295</td>\n      <td>1</td>\n      <td>1.0</td>\n      <td>0.484356</td>\n    </tr>\n    <tr>\n      <th>41</th>\n      <td>990</td>\n      <td>1295</td>\n      <td>5</td>\n      <td>0.0</td>\n      <td>0.480182</td>\n    </tr>\n    <tr>\n      <th>33</th>\n      <td>990</td>\n      <td>1295</td>\n      <td>5</td>\n      <td>0.0</td>\n      <td>0.480182</td>\n    </tr>\n    <tr>\n      <th>35</th>\n      <td>990</td>\n      <td>1295</td>\n      <td>11</td>\n      <td>1.0</td>\n      <td>0.473920</td>\n    </tr>\n    <tr>\n      <th>23</th>\n      <td>990</td>\n      <td>1295</td>\n      <td>11</td>\n      <td>0.0</td>\n      <td>0.473920</td>\n    </tr>\n    <tr>\n      <th>47</th>\n      <td>990</td>\n      <td>1295</td>\n      <td>5</td>\n      <td>0.0</td>\n      <td>0.480182</td>\n    </tr>\n    <tr>\n      <th>43</th>\n      <td>990</td>\n      <td>1295</td>\n      <td>4</td>\n      <td>1.0</td>\n      <td>0.481225</td>\n    </tr>\n    <tr>\n      <th>44</th>\n      <td>990</td>\n      <td>1295</td>\n      <td>1</td>\n      <td>0.0</td>\n      <td>0.484356</td>\n    </tr>\n    <tr>\n      <th>41</th>\n      <td>990</td>\n      <td>1295</td>\n      <td>9</td>\n      <td>0.0</td>\n      <td>0.476007</td>\n    </tr>\n    <tr>\n      <th>42</th>\n      <td>990</td>\n      <td>1295</td>\n      <td>1</td>\n      <td>0.0</td>\n      <td>0.484356</td>\n    </tr>\n    <tr>\n      <th>16</th>\n      <td>990</td>\n      <td>1295</td>\n      <td>1</td>\n      <td>1.0</td>\n      <td>0.486627</td>\n    </tr>\n    <tr>\n      <th>3</th>\n      <td>990</td>\n      <td>1295</td>\n      <td>9</td>\n      <td>1.0</td>\n      <td>0.478278</td>\n    </tr>\n    <tr>\n      <th>4</th>\n      <td>990</td>\n      <td>1295</td>\n      <td>1</td>\n      <td>1.0</td>\n      <td>0.486627</td>\n    </tr>\n    <tr>\n      <th>2</th>\n      <td>990</td>\n      <td>1295</td>\n      <td>9</td>\n      <td>0.0</td>\n      <td>0.478278</td>\n    </tr>\n    <tr>\n      <th>22</th>\n      <td>990</td>\n      <td>1295</td>\n      <td>9</td>\n      <td>1.0</td>\n      <td>0.478278</td>\n    </tr>\n    <tr>\n      <th>31</th>\n      <td>990</td>\n      <td>1295</td>\n      <td>11</td>\n      <td>0.0</td>\n      <td>0.476191</td>\n    </tr>\n    <tr>\n      <th>42</th>\n      <td>990</td>\n      <td>1295</td>\n      <td>9</td>\n      <td>0.0</td>\n      <td>0.478278</td>\n    </tr>\n    <tr>\n      <th>34</th>\n      <td>990</td>\n      <td>1295</td>\n      <td>4</td>\n      <td>0.0</td>\n      <td>0.483496</td>\n    </tr>\n    <tr>\n      <th>36</th>\n      <td>990</td>\n      <td>1295</td>\n      <td>1</td>\n      <td>1.0</td>\n      <td>0.486627</td>\n    </tr>\n    <tr>\n      <th>22</th>\n      <td>990</td>\n      <td>1295</td>\n      <td>4</td>\n      <td>1.0</td>\n      <td>0.483496</td>\n    </tr>\n    <tr>\n      <th>48</th>\n      <td>990</td>\n      <td>1295</td>\n      <td>11</td>\n      <td>0.0</td>\n      <td>0.476191</td>\n    </tr>\n    <tr>\n      <th>42</th>\n      <td>990</td>\n      <td>1295</td>\n      <td>5</td>\n      <td>0.0</td>\n      <td>0.482453</td>\n    </tr>\n  </tbody>\n</table>\n</div>"
     },
     "execution_count": 59,
     "metadata": {},
     "output_type": "execute_result"
    }
   ],
   "source": [
    "WON = 1.0\n",
    "LOST = 0.0\n",
    "\n",
    "\n",
    "def switch_team_into_team_column(df: pd.DataFrame, base_team_id: int):\n",
    "    for line in df.itertuples():\n",
    "        if line.Opponent == base_team_id:\n",
    "            df.at[line.Index, 'Team'] = line.Opponent\n",
    "            df.at[line.Index, 'Opponent'] = line.Team\n",
    "            df.at[line.Index, 'Win'] = LOST if line.Win == WON else WON\n",
    "    return df\n",
    "\n",
    "switch_team_into_team_column(most_played_teams, 990)"
   ],
   "metadata": {
    "collapsed": false
   }
  },
  {
   "cell_type": "code",
   "execution_count": 60,
   "outputs": [
    {
     "data": {
      "text/plain": "Map  Win\n1    0.0    3\n     1.0    4\n4    0.0    2\n     1.0    2\n5    0.0    7\n     1.0    1\n9    0.0    3\n     1.0    2\n11   0.0    4\n     1.0    2\ndtype: int64"
     },
     "execution_count": 60,
     "metadata": {},
     "output_type": "execute_result"
    }
   ],
   "source": [
    "most_played_teams.groupby([C.Map, 'Win']).size()"
   ],
   "metadata": {
    "collapsed": false
   }
  },
  {
   "cell_type": "code",
   "execution_count": 31,
   "outputs": [
    {
     "data": {
      "text/plain": "('ORDER ', 'Looking For Org ', 'nuke  Nuke')"
     },
     "execution_count": 31,
     "metadata": {},
     "output_type": "execute_result"
    }
   ],
   "source": [
    "decode_team(990), decode_team(1295), decode_map(5)"
   ],
   "metadata": {
    "collapsed": false
   }
  },
  {
   "cell_type": "markdown",
   "source": [
    "Looks like team \"ORDER\" not good on Nuke at all. 1 win and 7 losses. Lets other teams on Nuke with \"ORDER\"."
   ],
   "metadata": {
    "collapsed": false
   }
  },
  {
   "cell_type": "code",
   "execution_count": 44,
   "outputs": [],
   "source": [
    "def get_all_matches_for_team(team_id: int):\n",
    "    new_df = df[(df['Opponent'] == team_id) | (df['Team'] == team_id)]\n",
    "\n",
    "    switch_team_into_team_column(new_df, team_id)\n",
    "    return new_df\n",
    "\n",
    "def get_all_matches_for_team_on_map(team_id: int, map_id: int):\n",
    "    all_matches = get_all_matches_for_team(team_id)\n",
    "\n",
    "    return all_matches[get_all_matches_for_team(team_id)[C.Map] == map_id]\n",
    "\n",
    "def get_all_matches_for_team_on_map_with_opponent(team_id: int, map_id: int, opponent_id: int):\n",
    "    return get_all_matches_for_team_on_map(team_id, map_id)[get_all_matches_for_team_on_map(team_id, map_id)['Opponent'] == opponent_id]"
   ],
   "metadata": {
    "collapsed": false
   }
  },
  {
   "cell_type": "code",
   "execution_count": 61,
   "outputs": [
    {
     "data": {
      "text/plain": "    Team  Opponent  Map  Win  Predicted Win\n21   990       721    5  1.0       0.490214\n38   990      1313    5  0.0       0.490214\n35   990       971    5  0.0       0.490214\n4    990        93    5  0.0       0.494511\n38   990      1313    5  0.0       0.482272\n6    990        93    5  1.0       0.502519\n26   990       971    5  1.0       0.485845\n18   990       918    5  1.0       0.486771\n5    990        17    5  0.0       0.480182\n5    990        17    5  0.0       0.486072\n31   990        37    5  1.0       0.493016\n37   990       958    5  0.0       0.485833\n45   990      1012    5  0.0       0.498586\n41   990       971    5  1.0       0.480723\n4    990        93    5  0.0       0.486771\n45   990      1012    5  0.0       0.486771\n3    990      1295    5  1.0       0.485703\n41   990       971    5  1.0       0.485322\n1    990      1295    5  0.0       0.480182\n25   990       971    5  1.0       0.485703\n21   990      1295    5  1.0       0.480182\n30   990      1295    5  0.0       0.480182\n35   990       971    5  0.0       0.485845\n10   990       971    5  1.0       0.480426\n34   990       721    5  0.0       0.498586\n4    990        93    5  0.0       0.491371\n44   990       971    5  1.0       0.485845\n41   990       971    5  1.0       0.480182\n33   990       242    5  0.0       0.480182\n4    990        93    5  0.0       0.483135\n47   990      1295    5  0.0       0.480182\n42   990      1178    5  1.0       0.482453\n48   990      1295    5  0.0       0.486072\n43   990      1233    5  1.0       0.486235\n36   990       971    5  1.0       0.483974\n0    990      1036    5  0.0       0.485051\n17   990       435    5  1.0       0.491080",
      "text/html": "<div>\n<style scoped>\n    .dataframe tbody tr th:only-of-type {\n        vertical-align: middle;\n    }\n\n    .dataframe tbody tr th {\n        vertical-align: top;\n    }\n\n    .dataframe thead th {\n        text-align: right;\n    }\n</style>\n<table border=\"1\" class=\"dataframe\">\n  <thead>\n    <tr style=\"text-align: right;\">\n      <th></th>\n      <th>Team</th>\n      <th>Opponent</th>\n      <th>Map</th>\n      <th>Win</th>\n      <th>Predicted Win</th>\n    </tr>\n  </thead>\n  <tbody>\n    <tr>\n      <th>21</th>\n      <td>990</td>\n      <td>721</td>\n      <td>5</td>\n      <td>1.0</td>\n      <td>0.490214</td>\n    </tr>\n    <tr>\n      <th>38</th>\n      <td>990</td>\n      <td>1313</td>\n      <td>5</td>\n      <td>0.0</td>\n      <td>0.490214</td>\n    </tr>\n    <tr>\n      <th>35</th>\n      <td>990</td>\n      <td>971</td>\n      <td>5</td>\n      <td>0.0</td>\n      <td>0.490214</td>\n    </tr>\n    <tr>\n      <th>4</th>\n      <td>990</td>\n      <td>93</td>\n      <td>5</td>\n      <td>0.0</td>\n      <td>0.494511</td>\n    </tr>\n    <tr>\n      <th>38</th>\n      <td>990</td>\n      <td>1313</td>\n      <td>5</td>\n      <td>0.0</td>\n      <td>0.482272</td>\n    </tr>\n    <tr>\n      <th>6</th>\n      <td>990</td>\n      <td>93</td>\n      <td>5</td>\n      <td>1.0</td>\n      <td>0.502519</td>\n    </tr>\n    <tr>\n      <th>26</th>\n      <td>990</td>\n      <td>971</td>\n      <td>5</td>\n      <td>1.0</td>\n      <td>0.485845</td>\n    </tr>\n    <tr>\n      <th>18</th>\n      <td>990</td>\n      <td>918</td>\n      <td>5</td>\n      <td>1.0</td>\n      <td>0.486771</td>\n    </tr>\n    <tr>\n      <th>5</th>\n      <td>990</td>\n      <td>17</td>\n      <td>5</td>\n      <td>0.0</td>\n      <td>0.480182</td>\n    </tr>\n    <tr>\n      <th>5</th>\n      <td>990</td>\n      <td>17</td>\n      <td>5</td>\n      <td>0.0</td>\n      <td>0.486072</td>\n    </tr>\n    <tr>\n      <th>31</th>\n      <td>990</td>\n      <td>37</td>\n      <td>5</td>\n      <td>1.0</td>\n      <td>0.493016</td>\n    </tr>\n    <tr>\n      <th>37</th>\n      <td>990</td>\n      <td>958</td>\n      <td>5</td>\n      <td>0.0</td>\n      <td>0.485833</td>\n    </tr>\n    <tr>\n      <th>45</th>\n      <td>990</td>\n      <td>1012</td>\n      <td>5</td>\n      <td>0.0</td>\n      <td>0.498586</td>\n    </tr>\n    <tr>\n      <th>41</th>\n      <td>990</td>\n      <td>971</td>\n      <td>5</td>\n      <td>1.0</td>\n      <td>0.480723</td>\n    </tr>\n    <tr>\n      <th>4</th>\n      <td>990</td>\n      <td>93</td>\n      <td>5</td>\n      <td>0.0</td>\n      <td>0.486771</td>\n    </tr>\n    <tr>\n      <th>45</th>\n      <td>990</td>\n      <td>1012</td>\n      <td>5</td>\n      <td>0.0</td>\n      <td>0.486771</td>\n    </tr>\n    <tr>\n      <th>3</th>\n      <td>990</td>\n      <td>1295</td>\n      <td>5</td>\n      <td>1.0</td>\n      <td>0.485703</td>\n    </tr>\n    <tr>\n      <th>41</th>\n      <td>990</td>\n      <td>971</td>\n      <td>5</td>\n      <td>1.0</td>\n      <td>0.485322</td>\n    </tr>\n    <tr>\n      <th>1</th>\n      <td>990</td>\n      <td>1295</td>\n      <td>5</td>\n      <td>0.0</td>\n      <td>0.480182</td>\n    </tr>\n    <tr>\n      <th>25</th>\n      <td>990</td>\n      <td>971</td>\n      <td>5</td>\n      <td>1.0</td>\n      <td>0.485703</td>\n    </tr>\n    <tr>\n      <th>21</th>\n      <td>990</td>\n      <td>1295</td>\n      <td>5</td>\n      <td>1.0</td>\n      <td>0.480182</td>\n    </tr>\n    <tr>\n      <th>30</th>\n      <td>990</td>\n      <td>1295</td>\n      <td>5</td>\n      <td>0.0</td>\n      <td>0.480182</td>\n    </tr>\n    <tr>\n      <th>35</th>\n      <td>990</td>\n      <td>971</td>\n      <td>5</td>\n      <td>0.0</td>\n      <td>0.485845</td>\n    </tr>\n    <tr>\n      <th>10</th>\n      <td>990</td>\n      <td>971</td>\n      <td>5</td>\n      <td>1.0</td>\n      <td>0.480426</td>\n    </tr>\n    <tr>\n      <th>34</th>\n      <td>990</td>\n      <td>721</td>\n      <td>5</td>\n      <td>0.0</td>\n      <td>0.498586</td>\n    </tr>\n    <tr>\n      <th>4</th>\n      <td>990</td>\n      <td>93</td>\n      <td>5</td>\n      <td>0.0</td>\n      <td>0.491371</td>\n    </tr>\n    <tr>\n      <th>44</th>\n      <td>990</td>\n      <td>971</td>\n      <td>5</td>\n      <td>1.0</td>\n      <td>0.485845</td>\n    </tr>\n    <tr>\n      <th>41</th>\n      <td>990</td>\n      <td>971</td>\n      <td>5</td>\n      <td>1.0</td>\n      <td>0.480182</td>\n    </tr>\n    <tr>\n      <th>33</th>\n      <td>990</td>\n      <td>242</td>\n      <td>5</td>\n      <td>0.0</td>\n      <td>0.480182</td>\n    </tr>\n    <tr>\n      <th>4</th>\n      <td>990</td>\n      <td>93</td>\n      <td>5</td>\n      <td>0.0</td>\n      <td>0.483135</td>\n    </tr>\n    <tr>\n      <th>47</th>\n      <td>990</td>\n      <td>1295</td>\n      <td>5</td>\n      <td>0.0</td>\n      <td>0.480182</td>\n    </tr>\n    <tr>\n      <th>42</th>\n      <td>990</td>\n      <td>1178</td>\n      <td>5</td>\n      <td>1.0</td>\n      <td>0.482453</td>\n    </tr>\n    <tr>\n      <th>48</th>\n      <td>990</td>\n      <td>1295</td>\n      <td>5</td>\n      <td>0.0</td>\n      <td>0.486072</td>\n    </tr>\n    <tr>\n      <th>43</th>\n      <td>990</td>\n      <td>1233</td>\n      <td>5</td>\n      <td>1.0</td>\n      <td>0.486235</td>\n    </tr>\n    <tr>\n      <th>36</th>\n      <td>990</td>\n      <td>971</td>\n      <td>5</td>\n      <td>1.0</td>\n      <td>0.483974</td>\n    </tr>\n    <tr>\n      <th>0</th>\n      <td>990</td>\n      <td>1036</td>\n      <td>5</td>\n      <td>0.0</td>\n      <td>0.485051</td>\n    </tr>\n    <tr>\n      <th>17</th>\n      <td>990</td>\n      <td>435</td>\n      <td>5</td>\n      <td>1.0</td>\n      <td>0.491080</td>\n    </tr>\n  </tbody>\n</table>\n</div>"
     },
     "execution_count": 61,
     "metadata": {},
     "output_type": "execute_result"
    }
   ],
   "source": [
    "get_all_matches_for_team_on_map(990, 5)"
   ],
   "metadata": {
    "collapsed": false
   }
  },
  {
   "cell_type": "code",
   "execution_count": 62,
   "outputs": [
    {
     "data": {
      "text/plain": "Win\n0.0    20\n1.0    17\ndtype: int64"
     },
     "execution_count": 62,
     "metadata": {},
     "output_type": "execute_result"
    }
   ],
   "source": [
    "get_all_matches_for_team_on_map(990, 5).groupby(['Win']).size()"
   ],
   "metadata": {
    "collapsed": false
   }
  },
  {
   "cell_type": "markdown",
   "source": [
    "Looks right, but seems like weights are not good. This prediction does affect team that mush as map. In case between teams weight for team should be greater than weight for maps.\n",
    "\n",
    "As test result we will be using team 990 ('ORDER') and team 1295 ('Looking For Org ') on map 5 ('Nuke').\n",
    "Order won 1 time and lost 6 times on Nuke. They win probability expected to be around 14%."
   ],
   "metadata": {
    "collapsed": false
   }
  },
  {
   "cell_type": "code",
   "execution_count": 40,
   "outputs": [],
   "source": [
    "team_id = 990\n",
    "opponent_id = 1295\n",
    "map_id = 5\n",
    "expected_win_probability = 0.14"
   ],
   "metadata": {
    "collapsed": false
   }
  },
  {
   "cell_type": "code",
   "execution_count": 64,
   "outputs": [
    {
     "name": "stderr",
     "output_type": "stream",
     "text": [
      "F:\\Projects\\hltv_notebook\\venv\\Lib\\site-packages\\sklearn\\base.py:420: UserWarning: X does not have valid feature names, but LinearRegression was fitted with feature names\n",
      "  warnings.warn(\n"
     ]
    },
    {
     "data": {
      "text/plain": "array([0.48018158])"
     },
     "execution_count": 64,
     "metadata": {},
     "output_type": "execute_result"
    }
   ],
   "source": [
    "model = LinearRegression()\n",
    "model.fit(X, y)\n",
    "\n",
    "model.predict([[team_id, opponent_id, map_id]])"
   ],
   "metadata": {
    "collapsed": false
   }
  },
  {
   "cell_type": "code",
   "execution_count": 66,
   "outputs": [
    {
     "name": "stderr",
     "output_type": "stream",
     "text": [
      "F:\\Projects\\hltv_notebook\\venv\\Lib\\site-packages\\sklearn\\base.py:420: UserWarning: X does not have valid feature names, but DecisionTreeClassifier was fitted with feature names\n",
      "  warnings.warn(\n"
     ]
    },
    {
     "data": {
      "text/plain": "array([0.])"
     },
     "execution_count": 66,
     "metadata": {},
     "output_type": "execute_result"
    }
   ],
   "source": [
    "from sklearn.tree import DecisionTreeClassifier\n",
    "\n",
    "model = DecisionTreeClassifier(class_weight={0: 1, 1: 1, 2: 1})\n",
    "model.fit(X, y)\n",
    "\n",
    "model.predict([[team_id, opponent_id, map_id]])"
   ],
   "metadata": {
    "collapsed": false
   }
  },
  {
   "cell_type": "markdown",
   "source": [
    "Almost about right, but not good enough."
   ],
   "metadata": {
    "collapsed": false
   }
  },
  {
   "cell_type": "code",
   "execution_count": 68,
   "outputs": [
    {
     "data": {
      "text/plain": "Team  Opponent\n990   1295        18\n971   990         17\n112   831         16\n      528         14\n1188  699         14\n                  ..\n325   1056         1\n806   350          1\n      296          1\n325   1092         1\n1320  1313         1\nLength: 13541, dtype: int64"
     },
     "execution_count": 68,
     "metadata": {},
     "output_type": "execute_result"
    }
   ],
   "source": [
    "df.groupby(['Team','Opponent']).size().sort_values(ascending=False)"
   ],
   "metadata": {
    "collapsed": false
   }
  },
  {
   "cell_type": "code",
   "execution_count": null,
   "outputs": [],
   "source": [],
   "metadata": {
    "collapsed": false
   }
  }
 ],
 "metadata": {
  "kernelspec": {
   "display_name": "Python 3",
   "language": "python",
   "name": "python3"
  },
  "language_info": {
   "codemirror_mode": {
    "name": "ipython",
    "version": 2
   },
   "file_extension": ".py",
   "mimetype": "text/x-python",
   "name": "python",
   "nbconvert_exporter": "python",
   "pygments_lexer": "ipython2",
   "version": "2.7.6"
  }
 },
 "nbformat": 4,
 "nbformat_minor": 0
}
