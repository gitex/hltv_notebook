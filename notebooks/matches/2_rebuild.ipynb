{
 "cells": [
  {
   "cell_type": "code",
   "execution_count": 1,
   "metadata": {
    "collapsed": true
   },
   "outputs": [
    {
     "data": {
      "text/plain": "True"
     },
     "execution_count": 1,
     "metadata": {},
     "output_type": "execute_result"
    }
   ],
   "source": [
    "import sys\n",
    "from pathlib import Path\n",
    "\n",
    "current_dir = Path('.')\n",
    "current_dir = current_dir.absolute()\n",
    "root_dir = current_dir.parent.parent\n",
    "src_dir = root_dir / 'src'\n",
    "\n",
    "sys.path.append(str(src_dir))\n",
    "\n",
    "%load_ext autoreload\n",
    "%autoreload 2\n",
    "\n",
    "from dotenv import load_dotenv\n",
    "load_dotenv(str(src_dir / '.env'))"
   ]
  },
  {
   "cell_type": "code",
   "execution_count": 2,
   "outputs": [
    {
     "name": "stderr",
     "output_type": "stream",
     "text": [
      "F:\\Projects\\hltv_notebook\\src\\infra\\data_frames\\pipeline\\matches.py:110: SettingWithCopyWarning: \n",
      "A value is trying to be set on a copy of a slice from a DataFrame.\n",
      "Try using .loc[row_indexer,col_indexer] = value instead\n",
      "\n",
      "See the caveats in the documentation: https://pandas.pydata.org/pandas-docs/stable/user_guide/indexing.html#returning-a-view-versus-a-copy\n",
      "  df[C.Winner] = winners\n",
      "F:\\Projects\\hltv_notebook\\src\\infra\\data_frames\\pipeline\\matches.py:151: SettingWithCopyWarning: \n",
      "A value is trying to be set on a copy of a slice from a DataFrame\n",
      "\n",
      "See the caveats in the documentation: https://pandas.pydata.org/pandas-docs/stable/user_guide/indexing.html#returning-a-view-versus-a-copy\n",
      "  part_df.rename(columns=dict(zip(part, new_columns)), inplace=True)\n",
      "F:\\Projects\\hltv_notebook\\src\\infra\\data_frames\\pipeline\\matches.py:152: SettingWithCopyWarning: \n",
      "A value is trying to be set on a copy of a slice from a DataFrame.\n",
      "Try using .loc[row_indexer,col_indexer] = value instead\n",
      "\n",
      "See the caveats in the documentation: https://pandas.pydata.org/pandas-docs/stable/user_guide/indexing.html#returning-a-view-versus-a-copy\n",
      "  part_df['Is Winner'] = part_df['Team'] == part_df['Winner']\n",
      "F:\\Projects\\hltv_notebook\\src\\infra\\data_frames\\pipeline\\matches.py:151: SettingWithCopyWarning: \n",
      "A value is trying to be set on a copy of a slice from a DataFrame\n",
      "\n",
      "See the caveats in the documentation: https://pandas.pydata.org/pandas-docs/stable/user_guide/indexing.html#returning-a-view-versus-a-copy\n",
      "  part_df.rename(columns=dict(zip(part, new_columns)), inplace=True)\n",
      "F:\\Projects\\hltv_notebook\\src\\infra\\data_frames\\pipeline\\matches.py:152: SettingWithCopyWarning: \n",
      "A value is trying to be set on a copy of a slice from a DataFrame.\n",
      "Try using .loc[row_indexer,col_indexer] = value instead\n",
      "\n",
      "See the caveats in the documentation: https://pandas.pydata.org/pandas-docs/stable/user_guide/indexing.html#returning-a-view-versus-a-copy\n",
      "  part_df['Is Winner'] = part_df['Team'] == part_df['Winner']\n"
     ]
    },
    {
     "data": {
      "text/plain": "                 Team Score            Map          Opponent Opponent Score  \\\n0      Budapest Five      5   inf  Inferno           Katuna              16   \n1             Katuna     14   anc  Ancient    Budapest Five              16   \n2      Budapest Five     12  ovp  Overpass           Katuna              16   \n3           ECSTATIC     14   inf  Inferno  Astralis Talent              16   \n4       Eternal Fire     15  ovp  Overpass           fnatic              19   \n...               ...   ...            ...               ...            ...   \n50715     Virtus.pro      7  ovp  Overpass           Spirit              16   \n50716     Virtus.pro     13      d2  Dust2           Spirit              16   \n50717     Virtus.pro     16   inf  Inferno           Spirit              11   \n50718         Gambit     16      d2  Dust2            FORZE               6   \n50719          FORZE     12   anc  Ancient           Gambit              16   \n\n          Date                                       Event  Is Winner  \n0      26/2/23                   CCT South Europe Series 3      False  \n1      26/2/23                   CCT South Europe Series 3      False  \n2      26/2/23                   CCT South Europe Series 3      False  \n3      26/2/23  CCT North Europe Series 4 Closed Qualifier      False  \n4      26/2/23                    ESL Pro League Season 17      False  \n...        ...                                         ...        ...  \n50715  29/6/21                     StarLadder CIS RMR 2021      False  \n50716  29/6/21                     StarLadder CIS RMR 2021      False  \n50717  29/6/21                     StarLadder CIS RMR 2021       True  \n50718  29/6/21                     StarLadder CIS RMR 2021       True  \n50719  29/6/21                     StarLadder CIS RMR 2021      False  \n\n[50720 rows x 8 columns]",
      "text/html": "<div>\n<style scoped>\n    .dataframe tbody tr th:only-of-type {\n        vertical-align: middle;\n    }\n\n    .dataframe tbody tr th {\n        vertical-align: top;\n    }\n\n    .dataframe thead th {\n        text-align: right;\n    }\n</style>\n<table border=\"1\" class=\"dataframe\">\n  <thead>\n    <tr style=\"text-align: right;\">\n      <th></th>\n      <th>Team</th>\n      <th>Score</th>\n      <th>Map</th>\n      <th>Opponent</th>\n      <th>Opponent Score</th>\n      <th>Date</th>\n      <th>Event</th>\n      <th>Is Winner</th>\n    </tr>\n  </thead>\n  <tbody>\n    <tr>\n      <th>0</th>\n      <td>Budapest Five</td>\n      <td>5</td>\n      <td>inf  Inferno</td>\n      <td>Katuna</td>\n      <td>16</td>\n      <td>26/2/23</td>\n      <td>CCT South Europe Series 3</td>\n      <td>False</td>\n    </tr>\n    <tr>\n      <th>1</th>\n      <td>Katuna</td>\n      <td>14</td>\n      <td>anc  Ancient</td>\n      <td>Budapest Five</td>\n      <td>16</td>\n      <td>26/2/23</td>\n      <td>CCT South Europe Series 3</td>\n      <td>False</td>\n    </tr>\n    <tr>\n      <th>2</th>\n      <td>Budapest Five</td>\n      <td>12</td>\n      <td>ovp  Overpass</td>\n      <td>Katuna</td>\n      <td>16</td>\n      <td>26/2/23</td>\n      <td>CCT South Europe Series 3</td>\n      <td>False</td>\n    </tr>\n    <tr>\n      <th>3</th>\n      <td>ECSTATIC</td>\n      <td>14</td>\n      <td>inf  Inferno</td>\n      <td>Astralis Talent</td>\n      <td>16</td>\n      <td>26/2/23</td>\n      <td>CCT North Europe Series 4 Closed Qualifier</td>\n      <td>False</td>\n    </tr>\n    <tr>\n      <th>4</th>\n      <td>Eternal Fire</td>\n      <td>15</td>\n      <td>ovp  Overpass</td>\n      <td>fnatic</td>\n      <td>19</td>\n      <td>26/2/23</td>\n      <td>ESL Pro League Season 17</td>\n      <td>False</td>\n    </tr>\n    <tr>\n      <th>...</th>\n      <td>...</td>\n      <td>...</td>\n      <td>...</td>\n      <td>...</td>\n      <td>...</td>\n      <td>...</td>\n      <td>...</td>\n      <td>...</td>\n    </tr>\n    <tr>\n      <th>50715</th>\n      <td>Virtus.pro</td>\n      <td>7</td>\n      <td>ovp  Overpass</td>\n      <td>Spirit</td>\n      <td>16</td>\n      <td>29/6/21</td>\n      <td>StarLadder CIS RMR 2021</td>\n      <td>False</td>\n    </tr>\n    <tr>\n      <th>50716</th>\n      <td>Virtus.pro</td>\n      <td>13</td>\n      <td>d2  Dust2</td>\n      <td>Spirit</td>\n      <td>16</td>\n      <td>29/6/21</td>\n      <td>StarLadder CIS RMR 2021</td>\n      <td>False</td>\n    </tr>\n    <tr>\n      <th>50717</th>\n      <td>Virtus.pro</td>\n      <td>16</td>\n      <td>inf  Inferno</td>\n      <td>Spirit</td>\n      <td>11</td>\n      <td>29/6/21</td>\n      <td>StarLadder CIS RMR 2021</td>\n      <td>True</td>\n    </tr>\n    <tr>\n      <th>50718</th>\n      <td>Gambit</td>\n      <td>16</td>\n      <td>d2  Dust2</td>\n      <td>FORZE</td>\n      <td>6</td>\n      <td>29/6/21</td>\n      <td>StarLadder CIS RMR 2021</td>\n      <td>True</td>\n    </tr>\n    <tr>\n      <th>50719</th>\n      <td>FORZE</td>\n      <td>12</td>\n      <td>anc  Ancient</td>\n      <td>Gambit</td>\n      <td>16</td>\n      <td>29/6/21</td>\n      <td>StarLadder CIS RMR 2021</td>\n      <td>False</td>\n    </tr>\n  </tbody>\n</table>\n<p>50720 rows × 8 columns</p>\n</div>"
     },
     "execution_count": 2,
     "metadata": {},
     "output_type": "execute_result"
    }
   ],
   "source": [
    "from api.containers import analyze_container\n",
    "\n",
    "analyze = analyze_container.service()\n",
    "df = analyze.collect_all()\n",
    "df"
   ],
   "metadata": {
    "collapsed": false
   }
  },
  {
   "cell_type": "code",
   "execution_count": null,
   "outputs": [],
   "source": [
    "# Dump into CSV file\n",
    "\n",
    "prefix = datetime.utcnow().strftime('%d%m%Y_%H%M%S')\n",
    "\n",
    "teams.to_csv(f'../data/{prefix}_teams.csv')"
   ],
   "metadata": {
    "collapsed": false
   }
  },
  {
   "cell_type": "code",
   "execution_count": null,
   "outputs": [],
   "source": [
    "sum_teams = teams.groupby('Team').sum('Score')\n",
    "sum_teams"
   ],
   "metadata": {
    "collapsed": false
   }
  },
  {
   "cell_type": "code",
   "execution_count": null,
   "outputs": [],
   "source": [
    "sum_teams['Matches'] = teams.groupby('Team').size()\n",
    "sum_teams"
   ],
   "metadata": {
    "collapsed": false
   }
  },
  {
   "cell_type": "code",
   "execution_count": null,
   "outputs": [],
   "source": [
    "sum_teams['Winrate'] = sum_teams['Is Winner'] * 100 / sum_teams['Matches']\n",
    "sum_teams.sort_values('Matches', ascending=False)"
   ],
   "metadata": {
    "collapsed": false
   }
  },
  {
   "cell_type": "code",
   "execution_count": null,
   "outputs": [],
   "source": [
    "sum_teams[sum_teams['Matches']> 15].sort_values('Winrate', ascending=False)"
   ],
   "metadata": {
    "collapsed": false
   }
  },
  {
   "cell_type": "code",
   "execution_count": null,
   "outputs": [],
   "source": [],
   "metadata": {
    "collapsed": false
   }
  },
  {
   "cell_type": "code",
   "execution_count": null,
   "outputs": [],
   "source": [],
   "metadata": {
    "collapsed": false
   }
  },
  {
   "cell_type": "code",
   "execution_count": null,
   "outputs": [],
   "source": [],
   "metadata": {
    "collapsed": false
   }
  }
 ],
 "metadata": {
  "kernelspec": {
   "display_name": "Python 3",
   "language": "python",
   "name": "python3"
  },
  "language_info": {
   "codemirror_mode": {
    "name": "ipython",
    "version": 2
   },
   "file_extension": ".py",
   "mimetype": "text/x-python",
   "name": "python",
   "nbconvert_exporter": "python",
   "pygments_lexer": "ipython2",
   "version": "2.7.6"
  }
 },
 "nbformat": 4,
 "nbformat_minor": 0
}
