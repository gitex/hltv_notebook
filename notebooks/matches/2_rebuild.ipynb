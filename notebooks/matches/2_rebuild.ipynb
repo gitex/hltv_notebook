{
 "cells": [
  {
   "cell_type": "code",
   "execution_count": 1,
   "metadata": {
    "collapsed": true
   },
   "outputs": [],
   "source": [
    "import sys\n",
    "from pathlib import Path\n",
    "\n",
    "current_dir = Path('.')\n",
    "current_dir = current_dir.absolute()\n",
    "root_dir = current_dir.parent.parent\n",
    "src_dir = root_dir / 'src'\n",
    "\n",
    "sys.path.append(str(src_dir))\n",
    "\n",
    "%load_ext autoreload\n",
    "%autoreload 2"
   ]
  },
  {
   "cell_type": "code",
   "execution_count": 2,
   "outputs": [
    {
     "data": {
      "text/plain": "True"
     },
     "execution_count": 2,
     "metadata": {},
     "output_type": "execute_result"
    }
   ],
   "source": [
    "from dotenv import load_dotenv\n",
    "\n",
    "load_dotenv(str(src_dir / '.env'))"
   ],
   "metadata": {
    "collapsed": false
   }
  },
  {
   "cell_type": "code",
   "execution_count": 3,
   "outputs": [
    {
     "ename": "ImportError",
     "evalue": "cannot import name 'CSVFactory' from 'infra.storage.factories' (F:\\Projects\\hltv_notebook\\src\\infra\\storage\\factories\\__init__.py)",
     "output_type": "error",
     "traceback": [
      "\u001B[1;31m---------------------------------------------------------------------------\u001B[0m",
      "\u001B[1;31mImportError\u001B[0m                               Traceback (most recent call last)",
      "Cell \u001B[1;32mIn[3], line 1\u001B[0m\n\u001B[1;32m----> 1\u001B[0m \u001B[38;5;28;01mfrom\u001B[39;00m \u001B[38;5;21;01mapi\u001B[39;00m\u001B[38;5;21;01m.\u001B[39;00m\u001B[38;5;21;01mcontainers\u001B[39;00m \u001B[38;5;28;01mimport\u001B[39;00m analyze_container\n\u001B[0;32m      3\u001B[0m analyze \u001B[38;5;241m=\u001B[39m analyze_container\u001B[38;5;241m.\u001B[39mservice()\n\u001B[0;32m      4\u001B[0m df \u001B[38;5;241m=\u001B[39m analyze\u001B[38;5;241m.\u001B[39mcollect_all()\n",
      "File \u001B[1;32mF:\\Projects\\hltv_notebook\\src\\api\\__init__.py:1\u001B[0m\n\u001B[1;32m----> 1\u001B[0m \u001B[38;5;28;01mfrom\u001B[39;00m \u001B[38;5;21;01m.\u001B[39;00m\u001B[38;5;21;01mcontainers\u001B[39;00m \u001B[38;5;28;01mimport\u001B[39;00m analyze_container, download_container\n",
      "File \u001B[1;32mF:\\Projects\\hltv_notebook\\src\\api\\containers\\__init__.py:1\u001B[0m\n\u001B[1;32m----> 1\u001B[0m \u001B[38;5;28;01mfrom\u001B[39;00m \u001B[38;5;21;01m.\u001B[39;00m\u001B[38;5;21;01mdownload\u001B[39;00m \u001B[38;5;28;01mimport\u001B[39;00m DownloadMatchesContainer\n\u001B[0;32m      2\u001B[0m \u001B[38;5;28;01mfrom\u001B[39;00m \u001B[38;5;21;01m.\u001B[39;00m\u001B[38;5;21;01manalyze\u001B[39;00m \u001B[38;5;28;01mimport\u001B[39;00m AnalyzeMatchesContainer\n\u001B[0;32m      5\u001B[0m download_container \u001B[38;5;241m=\u001B[39m DownloadMatchesContainer()\n",
      "File \u001B[1;32mF:\\Projects\\hltv_notebook\\src\\api\\containers\\download.py:6\u001B[0m\n\u001B[0;32m      4\u001B[0m \u001B[38;5;28;01mfrom\u001B[39;00m \u001B[38;5;21;01minfra\u001B[39;00m\u001B[38;5;21;01m.\u001B[39;00m\u001B[38;5;21;01mhltv_client\u001B[39;00m \u001B[38;5;28;01mimport\u001B[39;00m HLTVClient\n\u001B[0;32m      5\u001B[0m \u001B[38;5;28;01mfrom\u001B[39;00m \u001B[38;5;21;01minfra\u001B[39;00m\u001B[38;5;21;01m.\u001B[39;00m\u001B[38;5;21;01mstorage\u001B[39;00m\u001B[38;5;21;01m.\u001B[39;00m\u001B[38;5;21;01mchoices\u001B[39;00m \u001B[38;5;28;01mimport\u001B[39;00m DataType\n\u001B[1;32m----> 6\u001B[0m \u001B[38;5;28;01mfrom\u001B[39;00m \u001B[38;5;21;01mapi\u001B[39;00m\u001B[38;5;21;01m.\u001B[39;00m\u001B[38;5;21;01mservices\u001B[39;00m\u001B[38;5;21;01m.\u001B[39;00m\u001B[38;5;21;01mdownload\u001B[39;00m \u001B[38;5;28;01mimport\u001B[39;00m DownloadMatchesService\n\u001B[0;32m      7\u001B[0m \u001B[38;5;28;01mfrom\u001B[39;00m \u001B[38;5;21;01minfra\u001B[39;00m\u001B[38;5;21;01m.\u001B[39;00m\u001B[38;5;21;01mstorage\u001B[39;00m\u001B[38;5;21;01m.\u001B[39;00m\u001B[38;5;21;01mrepositories\u001B[39;00m \u001B[38;5;28;01mimport\u001B[39;00m CsvRepository\n\u001B[0;32m      8\u001B[0m \u001B[38;5;28;01mfrom\u001B[39;00m \u001B[38;5;21;01minfra\u001B[39;00m\u001B[38;5;21;01m.\u001B[39;00m\u001B[38;5;21;01mstorage\u001B[39;00m\u001B[38;5;21;01m.\u001B[39;00m\u001B[38;5;21;01mformatters\u001B[39;00m \u001B[38;5;28;01mimport\u001B[39;00m HtmlToCsv\n",
      "File \u001B[1;32mF:\\Projects\\hltv_notebook\\src\\api\\services\\__init__.py:1\u001B[0m\n\u001B[1;32m----> 1\u001B[0m \u001B[38;5;28;01mfrom\u001B[39;00m \u001B[38;5;21;01m.\u001B[39;00m\u001B[38;5;21;01mdownload\u001B[39;00m \u001B[38;5;28;01mimport\u001B[39;00m DownloadMatchesService\n\u001B[0;32m      2\u001B[0m \u001B[38;5;28;01mfrom\u001B[39;00m \u001B[38;5;21;01m.\u001B[39;00m\u001B[38;5;21;01manalyze\u001B[39;00m \u001B[38;5;28;01mimport\u001B[39;00m AnalyzeService\n",
      "File \u001B[1;32mF:\\Projects\\hltv_notebook\\src\\api\\services\\download.py:6\u001B[0m\n\u001B[0;32m      4\u001B[0m \u001B[38;5;28;01mfrom\u001B[39;00m \u001B[38;5;21;01minfra\u001B[39;00m\u001B[38;5;21;01m.\u001B[39;00m\u001B[38;5;21;01mhltv_client\u001B[39;00m \u001B[38;5;28;01mimport\u001B[39;00m HLTVClient\n\u001B[0;32m      5\u001B[0m \u001B[38;5;28;01mfrom\u001B[39;00m \u001B[38;5;21;01minfra\u001B[39;00m\u001B[38;5;21;01m.\u001B[39;00m\u001B[38;5;21;01mstorage\u001B[39;00m\u001B[38;5;21;01m.\u001B[39;00m\u001B[38;5;21;01mrepositories\u001B[39;00m \u001B[38;5;28;01mimport\u001B[39;00m IRepository\n\u001B[1;32m----> 6\u001B[0m \u001B[38;5;28;01mfrom\u001B[39;00m \u001B[38;5;21;01minfra\u001B[39;00m\u001B[38;5;21;01m.\u001B[39;00m\u001B[38;5;21;01mstorage\u001B[39;00m\u001B[38;5;21;01m.\u001B[39;00m\u001B[38;5;21;01mformatters\u001B[39;00m \u001B[38;5;28;01mimport\u001B[39;00m IFormatter\n\u001B[0;32m      7\u001B[0m \u001B[38;5;28;01mfrom\u001B[39;00m \u001B[38;5;21;01minfra\u001B[39;00m\u001B[38;5;21;01m.\u001B[39;00m\u001B[38;5;21;01mstorage\u001B[39;00m\u001B[38;5;21;01m.\u001B[39;00m\u001B[38;5;21;01mstubs\u001B[39;00m \u001B[38;5;28;01mimport\u001B[39;00m SuccessMessage\n\u001B[0;32m     10\u001B[0m logger \u001B[38;5;241m=\u001B[39m logging\u001B[38;5;241m.\u001B[39mgetLogger(\u001B[38;5;124m'\u001B[39m\u001B[38;5;124mservices\u001B[39m\u001B[38;5;124m'\u001B[39m)\n",
      "File \u001B[1;32mF:\\Projects\\hltv_notebook\\src\\infra\\storage\\formatters\\__init__.py:1\u001B[0m\n\u001B[1;32m----> 1\u001B[0m \u001B[38;5;28;01mfrom\u001B[39;00m \u001B[38;5;21;01m.\u001B[39;00m\u001B[38;5;21;01mhtml_to_csv\u001B[39;00m \u001B[38;5;28;01mimport\u001B[39;00m HtmlToCsv\n\u001B[0;32m      2\u001B[0m \u001B[38;5;28;01mfrom\u001B[39;00m \u001B[38;5;21;01m.\u001B[39;00m\u001B[38;5;21;01mbase\u001B[39;00m \u001B[38;5;28;01mimport\u001B[39;00m Pass, IFormatter\n",
      "File \u001B[1;32mF:\\Projects\\hltv_notebook\\src\\infra\\storage\\formatters\\html_to_csv.py:1\u001B[0m\n\u001B[1;32m----> 1\u001B[0m \u001B[38;5;28;01mfrom\u001B[39;00m \u001B[38;5;21;01minfra\u001B[39;00m\u001B[38;5;21;01m.\u001B[39;00m\u001B[38;5;21;01mstorage\u001B[39;00m\u001B[38;5;21;01m.\u001B[39;00m\u001B[38;5;21;01mfactories\u001B[39;00m \u001B[38;5;28;01mimport\u001B[39;00m IFactory, CSVFactory\n\u001B[0;32m      2\u001B[0m \u001B[38;5;28;01mfrom\u001B[39;00m \u001B[38;5;21;01minfra\u001B[39;00m\u001B[38;5;21;01m.\u001B[39;00m\u001B[38;5;21;01mstubs\u001B[39;00m \u001B[38;5;28;01mimport\u001B[39;00m CSV, Html\n\u001B[0;32m      4\u001B[0m \u001B[38;5;28;01mfrom\u001B[39;00m \u001B[38;5;21;01m.\u001B[39;00m\u001B[38;5;21;01mbase\u001B[39;00m \u001B[38;5;28;01mimport\u001B[39;00m ITextFormatter\n",
      "\u001B[1;31mImportError\u001B[0m: cannot import name 'CSVFactory' from 'infra.storage.factories' (F:\\Projects\\hltv_notebook\\src\\infra\\storage\\factories\\__init__.py)"
     ]
    }
   ],
   "source": [
    "from api.containers import analyze_container\n",
    "\n",
    "analyze = analyze_container.service()\n",
    "df = analyze.collect_all()\n",
    "df"
   ],
   "metadata": {
    "collapsed": false
   }
  },
  {
   "cell_type": "code",
   "execution_count": 1,
   "outputs": [
    {
     "ename": "NameError",
     "evalue": "name 'df' is not defined",
     "output_type": "error",
     "traceback": [
      "\u001B[1;31m---------------------------------------------------------------------------\u001B[0m",
      "\u001B[1;31mNameError\u001B[0m                                 Traceback (most recent call last)",
      "Cell \u001B[1;32mIn[1], line 2\u001B[0m\n\u001B[0;32m      1\u001B[0m \u001B[38;5;66;03m# Columns Team1 and Team2 has score as (19). Remove it and add it as a separate column Team1 Score and Team2 Score\u001B[39;00m\n\u001B[1;32m----> 2\u001B[0m df[\u001B[38;5;124m'\u001B[39m\u001B[38;5;124mTeam1\u001B[39m\u001B[38;5;124m'\u001B[39m] \u001B[38;5;241m=\u001B[39m \u001B[43mdf\u001B[49m[\u001B[38;5;124m'\u001B[39m\u001B[38;5;124mTeam1\u001B[39m\u001B[38;5;124m'\u001B[39m]\u001B[38;5;241m.\u001B[39mstr\u001B[38;5;241m.\u001B[39mreplace(\u001B[38;5;124mr\u001B[39m\u001B[38;5;124m'\u001B[39m\u001B[38;5;124m\\\u001B[39m\u001B[38;5;124ms\u001B[39m\u001B[38;5;124m\\\u001B[39m\u001B[38;5;124m(\u001B[39m\u001B[38;5;124m\\\u001B[39m\u001B[38;5;124md+\u001B[39m\u001B[38;5;124m\\\u001B[39m\u001B[38;5;124m)$\u001B[39m\u001B[38;5;124m'\u001B[39m, \u001B[38;5;124m'\u001B[39m\u001B[38;5;124m'\u001B[39m)    \n\u001B[0;32m      3\u001B[0m df[\u001B[38;5;124m'\u001B[39m\u001B[38;5;124mTeam2\u001B[39m\u001B[38;5;124m'\u001B[39m] \u001B[38;5;241m=\u001B[39m df[\u001B[38;5;124m'\u001B[39m\u001B[38;5;124mTeam2\u001B[39m\u001B[38;5;124m'\u001B[39m]\u001B[38;5;241m.\u001B[39mstr\u001B[38;5;241m.\u001B[39mreplace(\u001B[38;5;124mr\u001B[39m\u001B[38;5;124m'\u001B[39m\u001B[38;5;124m\\\u001B[39m\u001B[38;5;124ms\u001B[39m\u001B[38;5;124m\\\u001B[39m\u001B[38;5;124m(\u001B[39m\u001B[38;5;124m\\\u001B[39m\u001B[38;5;124md+\u001B[39m\u001B[38;5;124m\\\u001B[39m\u001B[38;5;124m)$\u001B[39m\u001B[38;5;124m'\u001B[39m, \u001B[38;5;124m'\u001B[39m\u001B[38;5;124m'\u001B[39m)\n\u001B[0;32m      4\u001B[0m df\n",
      "\u001B[1;31mNameError\u001B[0m: name 'df' is not defined"
     ]
    }
   ],
   "source": [
    "# Columns Team1 and Team2 has score as (19). Remove it and add it as a separate column Team1 Score and Team2 Score\n",
    "df['Team1'] = df['Team1'].str.replace(r'\\s\\(\\d+\\)$', '')\n",
    "df['Team2'] = df['Team2'].str.replace(r'\\s\\(\\d+\\)$', '')\n"
   ],
   "metadata": {
    "collapsed": false
   }
  },
  {
   "cell_type": "code",
   "execution_count": 14,
   "outputs": [
    {
     "data": {
      "text/plain": "            Date                Team1               Team2  \\\n0   \\n 23/2/23\\n     Let us cook (18)           9INE (18)   \n1   \\n 23/2/23\\n    Eternal Fire (16)  Evil Geniuses (14)   \n2   \\n 23/2/23\\n    Evil Geniuses (6)   Eternal Fire (16)   \n3   \\n 23/2/23\\n  Into the Breach (5)  The Prodigies (16)   \n4   \\n 23/2/23\\n            MIBR (16)            IHC (12)   \n..           ...                  ...                 ...   \n45       22/2/23              G2 (16)    Eternal Fire (9)   \n46       22/2/23    Evil Geniuses (4)         Cloud9 (16)   \n47       22/2/23          Cloud9 (16)   Evil Geniuses (5)   \n48       22/2/23         iNation (16)          FORZE (12)   \n49       22/2/23         iNation (13)          FORZE (16)   \n\n                    Map                                Event  Team1 Score  \\\n0    \\n vtg\\n Vertigo\\n  European Development Championship 7           18   \n1   \\n ovp\\n Overpass\\n             ESL Pro League Season 17           16   \n2     \\n anb\\n Anubis\\n             ESL Pro League Season 17            6   \n3     \\n anb\\n Anubis\\n         European Pro League Season 6            5   \n4    \\n inf\\n Inferno\\n             ESL Pro League Season 17           16   \n..                  ...                                  ...          ...   \n45          anb  Anubis             ESL Pro League Season 17           16   \n46          mrg  Mirage             ESL Pro League Season 17            4   \n47         inf  Inferno             ESL Pro League Season 17           16   \n48         inf  Inferno             CCT West Europe Series 1           16   \n49          anb  Anubis             CCT West Europe Series 1           13   \n\n    Team2 Score  \n0            18  \n1            14  \n2            16  \n3            16  \n4            12  \n..          ...  \n45            9  \n46           16  \n47            5  \n48           12  \n49           16  \n\n[100 rows x 7 columns]",
      "text/html": "<div>\n<style scoped>\n    .dataframe tbody tr th:only-of-type {\n        vertical-align: middle;\n    }\n\n    .dataframe tbody tr th {\n        vertical-align: top;\n    }\n\n    .dataframe thead th {\n        text-align: right;\n    }\n</style>\n<table border=\"1\" class=\"dataframe\">\n  <thead>\n    <tr style=\"text-align: right;\">\n      <th></th>\n      <th>Date</th>\n      <th>Team1</th>\n      <th>Team2</th>\n      <th>Map</th>\n      <th>Event</th>\n      <th>Team1 Score</th>\n      <th>Team2 Score</th>\n    </tr>\n  </thead>\n  <tbody>\n    <tr>\n      <th>0</th>\n      <td>\\n 23/2/23\\n</td>\n      <td>Let us cook (18)</td>\n      <td>9INE (18)</td>\n      <td>\\n vtg\\n Vertigo\\n</td>\n      <td>European Development Championship 7</td>\n      <td>18</td>\n      <td>18</td>\n    </tr>\n    <tr>\n      <th>1</th>\n      <td>\\n 23/2/23\\n</td>\n      <td>Eternal Fire (16)</td>\n      <td>Evil Geniuses (14)</td>\n      <td>\\n ovp\\n Overpass\\n</td>\n      <td>ESL Pro League Season 17</td>\n      <td>16</td>\n      <td>14</td>\n    </tr>\n    <tr>\n      <th>2</th>\n      <td>\\n 23/2/23\\n</td>\n      <td>Evil Geniuses (6)</td>\n      <td>Eternal Fire (16)</td>\n      <td>\\n anb\\n Anubis\\n</td>\n      <td>ESL Pro League Season 17</td>\n      <td>6</td>\n      <td>16</td>\n    </tr>\n    <tr>\n      <th>3</th>\n      <td>\\n 23/2/23\\n</td>\n      <td>Into the Breach (5)</td>\n      <td>The Prodigies (16)</td>\n      <td>\\n anb\\n Anubis\\n</td>\n      <td>European Pro League Season 6</td>\n      <td>5</td>\n      <td>16</td>\n    </tr>\n    <tr>\n      <th>4</th>\n      <td>\\n 23/2/23\\n</td>\n      <td>MIBR (16)</td>\n      <td>IHC (12)</td>\n      <td>\\n inf\\n Inferno\\n</td>\n      <td>ESL Pro League Season 17</td>\n      <td>16</td>\n      <td>12</td>\n    </tr>\n    <tr>\n      <th>...</th>\n      <td>...</td>\n      <td>...</td>\n      <td>...</td>\n      <td>...</td>\n      <td>...</td>\n      <td>...</td>\n      <td>...</td>\n    </tr>\n    <tr>\n      <th>45</th>\n      <td>22/2/23</td>\n      <td>G2 (16)</td>\n      <td>Eternal Fire (9)</td>\n      <td>anb  Anubis</td>\n      <td>ESL Pro League Season 17</td>\n      <td>16</td>\n      <td>9</td>\n    </tr>\n    <tr>\n      <th>46</th>\n      <td>22/2/23</td>\n      <td>Evil Geniuses (4)</td>\n      <td>Cloud9 (16)</td>\n      <td>mrg  Mirage</td>\n      <td>ESL Pro League Season 17</td>\n      <td>4</td>\n      <td>16</td>\n    </tr>\n    <tr>\n      <th>47</th>\n      <td>22/2/23</td>\n      <td>Cloud9 (16)</td>\n      <td>Evil Geniuses (5)</td>\n      <td>inf  Inferno</td>\n      <td>ESL Pro League Season 17</td>\n      <td>16</td>\n      <td>5</td>\n    </tr>\n    <tr>\n      <th>48</th>\n      <td>22/2/23</td>\n      <td>iNation (16)</td>\n      <td>FORZE (12)</td>\n      <td>inf  Inferno</td>\n      <td>CCT West Europe Series 1</td>\n      <td>16</td>\n      <td>12</td>\n    </tr>\n    <tr>\n      <th>49</th>\n      <td>22/2/23</td>\n      <td>iNation (13)</td>\n      <td>FORZE (16)</td>\n      <td>anb  Anubis</td>\n      <td>CCT West Europe Series 1</td>\n      <td>13</td>\n      <td>16</td>\n    </tr>\n  </tbody>\n</table>\n<p>100 rows × 7 columns</p>\n</div>"
     },
     "execution_count": 14,
     "metadata": {},
     "output_type": "execute_result"
    }
   ],
   "source": [
    "import re\n",
    "\n",
    "def get_score(value: str) -> int:\n",
    "    return int(re.search(r'\\((\\d+)\\)$', value).group(1))\n",
    "\n",
    "df['Team1 Score'] = list(map(get_score, df['Team1'].tolist()))\n",
    "df['Team2 Score'] = list(map(get_score, df['Team2'].tolist()))\n",
    "df"
   ],
   "metadata": {
    "collapsed": false
   }
  },
  {
   "cell_type": "code",
   "execution_count": 15,
   "outputs": [
    {
     "data": {
      "text/plain": "        Date                Team1               Team2            Map  \\\n0    23/2/23     Let us cook (18)           9INE (18)    vtg Vertigo   \n1    23/2/23    Eternal Fire (16)  Evil Geniuses (14)   ovp Overpass   \n2    23/2/23    Evil Geniuses (6)   Eternal Fire (16)     anb Anubis   \n3    23/2/23  Into the Breach (5)  The Prodigies (16)     anb Anubis   \n4    23/2/23            MIBR (16)            IHC (12)    inf Inferno   \n..       ...                  ...                 ...            ...   \n45   22/2/23              G2 (16)    Eternal Fire (9)    anb  Anubis   \n46   22/2/23    Evil Geniuses (4)         Cloud9 (16)    mrg  Mirage   \n47   22/2/23          Cloud9 (16)   Evil Geniuses (5)   inf  Inferno   \n48   22/2/23         iNation (16)          FORZE (12)   inf  Inferno   \n49   22/2/23         iNation (13)          FORZE (16)    anb  Anubis   \n\n                                  Event  Team1 Score  Team2 Score  \n0   European Development Championship 7           18           18  \n1              ESL Pro League Season 17           16           14  \n2              ESL Pro League Season 17            6           16  \n3          European Pro League Season 6            5           16  \n4              ESL Pro League Season 17           16           12  \n..                                  ...          ...          ...  \n45             ESL Pro League Season 17           16            9  \n46             ESL Pro League Season 17            4           16  \n47             ESL Pro League Season 17           16            5  \n48             CCT West Europe Series 1           16           12  \n49             CCT West Europe Series 1           13           16  \n\n[100 rows x 7 columns]",
      "text/html": "<div>\n<style scoped>\n    .dataframe tbody tr th:only-of-type {\n        vertical-align: middle;\n    }\n\n    .dataframe tbody tr th {\n        vertical-align: top;\n    }\n\n    .dataframe thead th {\n        text-align: right;\n    }\n</style>\n<table border=\"1\" class=\"dataframe\">\n  <thead>\n    <tr style=\"text-align: right;\">\n      <th></th>\n      <th>Date</th>\n      <th>Team1</th>\n      <th>Team2</th>\n      <th>Map</th>\n      <th>Event</th>\n      <th>Team1 Score</th>\n      <th>Team2 Score</th>\n    </tr>\n  </thead>\n  <tbody>\n    <tr>\n      <th>0</th>\n      <td>23/2/23</td>\n      <td>Let us cook (18)</td>\n      <td>9INE (18)</td>\n      <td>vtg Vertigo</td>\n      <td>European Development Championship 7</td>\n      <td>18</td>\n      <td>18</td>\n    </tr>\n    <tr>\n      <th>1</th>\n      <td>23/2/23</td>\n      <td>Eternal Fire (16)</td>\n      <td>Evil Geniuses (14)</td>\n      <td>ovp Overpass</td>\n      <td>ESL Pro League Season 17</td>\n      <td>16</td>\n      <td>14</td>\n    </tr>\n    <tr>\n      <th>2</th>\n      <td>23/2/23</td>\n      <td>Evil Geniuses (6)</td>\n      <td>Eternal Fire (16)</td>\n      <td>anb Anubis</td>\n      <td>ESL Pro League Season 17</td>\n      <td>6</td>\n      <td>16</td>\n    </tr>\n    <tr>\n      <th>3</th>\n      <td>23/2/23</td>\n      <td>Into the Breach (5)</td>\n      <td>The Prodigies (16)</td>\n      <td>anb Anubis</td>\n      <td>European Pro League Season 6</td>\n      <td>5</td>\n      <td>16</td>\n    </tr>\n    <tr>\n      <th>4</th>\n      <td>23/2/23</td>\n      <td>MIBR (16)</td>\n      <td>IHC (12)</td>\n      <td>inf Inferno</td>\n      <td>ESL Pro League Season 17</td>\n      <td>16</td>\n      <td>12</td>\n    </tr>\n    <tr>\n      <th>...</th>\n      <td>...</td>\n      <td>...</td>\n      <td>...</td>\n      <td>...</td>\n      <td>...</td>\n      <td>...</td>\n      <td>...</td>\n    </tr>\n    <tr>\n      <th>45</th>\n      <td>22/2/23</td>\n      <td>G2 (16)</td>\n      <td>Eternal Fire (9)</td>\n      <td>anb  Anubis</td>\n      <td>ESL Pro League Season 17</td>\n      <td>16</td>\n      <td>9</td>\n    </tr>\n    <tr>\n      <th>46</th>\n      <td>22/2/23</td>\n      <td>Evil Geniuses (4)</td>\n      <td>Cloud9 (16)</td>\n      <td>mrg  Mirage</td>\n      <td>ESL Pro League Season 17</td>\n      <td>4</td>\n      <td>16</td>\n    </tr>\n    <tr>\n      <th>47</th>\n      <td>22/2/23</td>\n      <td>Cloud9 (16)</td>\n      <td>Evil Geniuses (5)</td>\n      <td>inf  Inferno</td>\n      <td>ESL Pro League Season 17</td>\n      <td>16</td>\n      <td>5</td>\n    </tr>\n    <tr>\n      <th>48</th>\n      <td>22/2/23</td>\n      <td>iNation (16)</td>\n      <td>FORZE (12)</td>\n      <td>inf  Inferno</td>\n      <td>CCT West Europe Series 1</td>\n      <td>16</td>\n      <td>12</td>\n    </tr>\n    <tr>\n      <th>49</th>\n      <td>22/2/23</td>\n      <td>iNation (13)</td>\n      <td>FORZE (16)</td>\n      <td>anb  Anubis</td>\n      <td>CCT West Europe Series 1</td>\n      <td>13</td>\n      <td>16</td>\n    </tr>\n  </tbody>\n</table>\n<p>100 rows × 7 columns</p>\n</div>"
     },
     "execution_count": 15,
     "metadata": {},
     "output_type": "execute_result"
    }
   ],
   "source": [
    "for column in df.columns:\n",
    "    df[column].replace({r\"\\\\n\": ''}, inplace=True, regex=True)\n",
    "df"
   ],
   "metadata": {
    "collapsed": false
   }
  },
  {
   "cell_type": "code",
   "execution_count": null,
   "outputs": [],
   "source": [
    "# Remove score from team name\n",
    "\n",
    "def get_team(value: str) -> str:\n",
    "    return re.search(r'.+?(?=\\s\\()', value).group()\n",
    "\n",
    "df['Team1'] = list(map(get_team, df['Team1'].tolist()))\n",
    "df['Team2'] = list(map(get_team, df['Team2'].tolist()))\n",
    "df"
   ],
   "metadata": {
    "collapsed": false
   }
  },
  {
   "cell_type": "code",
   "execution_count": 22,
   "outputs": [],
   "source": [
    "from typing import Generator, Optional\n",
    "import itertools\n",
    "\n",
    "\n",
    "def possible_final_scores() -> Generator[int, None, None]:\n",
    "    yield from itertools.count(start=16, step=3)\n",
    "\n",
    "\n",
    "class Score(int):\n",
    "\n",
    "    def is_final(self) -> bool:\n",
    "        for score in possible_final_scores():\n",
    "            if score == self:\n",
    "                return True\n",
    "\n",
    "            if score > self:\n",
    "                break\n",
    "\n",
    "        return False\n",
    "\n",
    "    def __contains__(self, score: int) -> bool:\n",
    "        return self > score\n",
    "\n",
    "    def __or__(self, other: 'Score') -> Optional['Score']:\n",
    "        if self > other and self.is_final():\n",
    "            return self\n",
    "\n",
    "        elif self < other and other.is_final():\n",
    "            return other\n",
    "\n",
    "        return None"
   ],
   "metadata": {
    "collapsed": false
   }
  },
  {
   "cell_type": "code",
   "execution_count": 29,
   "outputs": [
    {
     "data": {
      "text/plain": "    Team1 Score  Team2 Score\n0            18           18\n1            16           14\n2             6           16\n3             5           16\n4            16           12\n..          ...          ...\n45           16            9\n46            4           16\n47           16            5\n48           16           12\n49           13           16\n\n[100 rows x 2 columns]",
      "text/html": "<div>\n<style scoped>\n    .dataframe tbody tr th:only-of-type {\n        vertical-align: middle;\n    }\n\n    .dataframe tbody tr th {\n        vertical-align: top;\n    }\n\n    .dataframe thead th {\n        text-align: right;\n    }\n</style>\n<table border=\"1\" class=\"dataframe\">\n  <thead>\n    <tr style=\"text-align: right;\">\n      <th></th>\n      <th>Team1 Score</th>\n      <th>Team2 Score</th>\n    </tr>\n  </thead>\n  <tbody>\n    <tr>\n      <th>0</th>\n      <td>18</td>\n      <td>18</td>\n    </tr>\n    <tr>\n      <th>1</th>\n      <td>16</td>\n      <td>14</td>\n    </tr>\n    <tr>\n      <th>2</th>\n      <td>6</td>\n      <td>16</td>\n    </tr>\n    <tr>\n      <th>3</th>\n      <td>5</td>\n      <td>16</td>\n    </tr>\n    <tr>\n      <th>4</th>\n      <td>16</td>\n      <td>12</td>\n    </tr>\n    <tr>\n      <th>...</th>\n      <td>...</td>\n      <td>...</td>\n    </tr>\n    <tr>\n      <th>45</th>\n      <td>16</td>\n      <td>9</td>\n    </tr>\n    <tr>\n      <th>46</th>\n      <td>4</td>\n      <td>16</td>\n    </tr>\n    <tr>\n      <th>47</th>\n      <td>16</td>\n      <td>5</td>\n    </tr>\n    <tr>\n      <th>48</th>\n      <td>16</td>\n      <td>12</td>\n    </tr>\n    <tr>\n      <th>49</th>\n      <td>13</td>\n      <td>16</td>\n    </tr>\n  </tbody>\n</table>\n<p>100 rows × 2 columns</p>\n</div>"
     },
     "execution_count": 29,
     "metadata": {},
     "output_type": "execute_result"
    }
   ],
   "source": [
    "sub = df.filter(items=['Team1 Score', 'Team2 Score'])\n",
    "sub"
   ],
   "metadata": {
    "collapsed": false
   }
  },
  {
   "cell_type": "code",
   "execution_count": 40,
   "outputs": [
    {
     "data": {
      "text/plain": "        Date                Team1               Team2            Map  \\\n0    23/2/23     Let us cook (18)           9INE (18)    vtg Vertigo   \n1    23/2/23    Eternal Fire (16)  Evil Geniuses (14)   ovp Overpass   \n2    23/2/23    Evil Geniuses (6)   Eternal Fire (16)     anb Anubis   \n3    23/2/23  Into the Breach (5)  The Prodigies (16)     anb Anubis   \n4    23/2/23            MIBR (16)            IHC (12)    inf Inferno   \n..       ...                  ...                 ...            ...   \n45   22/2/23              G2 (16)    Eternal Fire (9)    anb  Anubis   \n46   22/2/23    Evil Geniuses (4)         Cloud9 (16)    mrg  Mirage   \n47   22/2/23          Cloud9 (16)   Evil Geniuses (5)   inf  Inferno   \n48   22/2/23         iNation (16)          FORZE (12)   inf  Inferno   \n49   22/2/23         iNation (13)          FORZE (16)    anb  Anubis   \n\n                                  Event  Team1 Score  Team2 Score  Team1 Won  \\\n0   European Development Championship 7           18           18      False   \n1              ESL Pro League Season 17           16           14       True   \n2              ESL Pro League Season 17            6           16      False   \n3          European Pro League Season 6            5           16      False   \n4              ESL Pro League Season 17           16           12       True   \n..                                  ...          ...          ...        ...   \n45             ESL Pro League Season 17           16            9       True   \n46             ESL Pro League Season 17            4           16      False   \n47             ESL Pro League Season 17           16            5       True   \n48             CCT West Europe Series 1           16           12       True   \n49             CCT West Europe Series 1           13           16      False   \n\n    Team2 Won  \n0       False  \n1       False  \n2        True  \n3        True  \n4       False  \n..        ...  \n45      False  \n46       True  \n47      False  \n48      False  \n49       True  \n\n[100 rows x 9 columns]",
      "text/html": "<div>\n<style scoped>\n    .dataframe tbody tr th:only-of-type {\n        vertical-align: middle;\n    }\n\n    .dataframe tbody tr th {\n        vertical-align: top;\n    }\n\n    .dataframe thead th {\n        text-align: right;\n    }\n</style>\n<table border=\"1\" class=\"dataframe\">\n  <thead>\n    <tr style=\"text-align: right;\">\n      <th></th>\n      <th>Date</th>\n      <th>Team1</th>\n      <th>Team2</th>\n      <th>Map</th>\n      <th>Event</th>\n      <th>Team1 Score</th>\n      <th>Team2 Score</th>\n      <th>Team1 Won</th>\n      <th>Team2 Won</th>\n    </tr>\n  </thead>\n  <tbody>\n    <tr>\n      <th>0</th>\n      <td>23/2/23</td>\n      <td>Let us cook (18)</td>\n      <td>9INE (18)</td>\n      <td>vtg Vertigo</td>\n      <td>European Development Championship 7</td>\n      <td>18</td>\n      <td>18</td>\n      <td>False</td>\n      <td>False</td>\n    </tr>\n    <tr>\n      <th>1</th>\n      <td>23/2/23</td>\n      <td>Eternal Fire (16)</td>\n      <td>Evil Geniuses (14)</td>\n      <td>ovp Overpass</td>\n      <td>ESL Pro League Season 17</td>\n      <td>16</td>\n      <td>14</td>\n      <td>True</td>\n      <td>False</td>\n    </tr>\n    <tr>\n      <th>2</th>\n      <td>23/2/23</td>\n      <td>Evil Geniuses (6)</td>\n      <td>Eternal Fire (16)</td>\n      <td>anb Anubis</td>\n      <td>ESL Pro League Season 17</td>\n      <td>6</td>\n      <td>16</td>\n      <td>False</td>\n      <td>True</td>\n    </tr>\n    <tr>\n      <th>3</th>\n      <td>23/2/23</td>\n      <td>Into the Breach (5)</td>\n      <td>The Prodigies (16)</td>\n      <td>anb Anubis</td>\n      <td>European Pro League Season 6</td>\n      <td>5</td>\n      <td>16</td>\n      <td>False</td>\n      <td>True</td>\n    </tr>\n    <tr>\n      <th>4</th>\n      <td>23/2/23</td>\n      <td>MIBR (16)</td>\n      <td>IHC (12)</td>\n      <td>inf Inferno</td>\n      <td>ESL Pro League Season 17</td>\n      <td>16</td>\n      <td>12</td>\n      <td>True</td>\n      <td>False</td>\n    </tr>\n    <tr>\n      <th>...</th>\n      <td>...</td>\n      <td>...</td>\n      <td>...</td>\n      <td>...</td>\n      <td>...</td>\n      <td>...</td>\n      <td>...</td>\n      <td>...</td>\n      <td>...</td>\n    </tr>\n    <tr>\n      <th>45</th>\n      <td>22/2/23</td>\n      <td>G2 (16)</td>\n      <td>Eternal Fire (9)</td>\n      <td>anb  Anubis</td>\n      <td>ESL Pro League Season 17</td>\n      <td>16</td>\n      <td>9</td>\n      <td>True</td>\n      <td>False</td>\n    </tr>\n    <tr>\n      <th>46</th>\n      <td>22/2/23</td>\n      <td>Evil Geniuses (4)</td>\n      <td>Cloud9 (16)</td>\n      <td>mrg  Mirage</td>\n      <td>ESL Pro League Season 17</td>\n      <td>4</td>\n      <td>16</td>\n      <td>False</td>\n      <td>True</td>\n    </tr>\n    <tr>\n      <th>47</th>\n      <td>22/2/23</td>\n      <td>Cloud9 (16)</td>\n      <td>Evil Geniuses (5)</td>\n      <td>inf  Inferno</td>\n      <td>ESL Pro League Season 17</td>\n      <td>16</td>\n      <td>5</td>\n      <td>True</td>\n      <td>False</td>\n    </tr>\n    <tr>\n      <th>48</th>\n      <td>22/2/23</td>\n      <td>iNation (16)</td>\n      <td>FORZE (12)</td>\n      <td>inf  Inferno</td>\n      <td>CCT West Europe Series 1</td>\n      <td>16</td>\n      <td>12</td>\n      <td>True</td>\n      <td>False</td>\n    </tr>\n    <tr>\n      <th>49</th>\n      <td>22/2/23</td>\n      <td>iNation (13)</td>\n      <td>FORZE (16)</td>\n      <td>anb  Anubis</td>\n      <td>CCT West Europe Series 1</td>\n      <td>13</td>\n      <td>16</td>\n      <td>False</td>\n      <td>True</td>\n    </tr>\n  </tbody>\n</table>\n<p>100 rows × 9 columns</p>\n</div>"
     },
     "execution_count": 40,
     "metadata": {},
     "output_type": "execute_result"
    }
   ],
   "source": [
    "# Score(df['Team1 Score']) | Score(df['Team2 Score'])\n",
    "# del sub['Team1 Is Final']\n",
    "# del sub['Team2 Is Final']\n",
    "df['Team1 Won'] = df['Team1 Score'].map(Score.is_final)\n",
    "df['Team2 Won'] = df['Team2 Score'].map(Score.is_final)\n",
    "# sub['Match Completed'] = sub['Team1 Is Final'] | sub['Team2 Is Final']\n",
    "# sub['Match Completed'] = sub['Team1 Score'].map(Score.is_final) | sub['Team2 Score'].map(Score.is_final)\n",
    "# del sub['Match Completed']\n",
    "df"
   ],
   "metadata": {
    "collapsed": false
   }
  },
  {
   "cell_type": "code",
   "execution_count": 42,
   "outputs": [
    {
     "data": {
      "text/plain": "        Date                Team1                 Team2            Map  \\\n1    23/2/23    Eternal Fire (16)    Evil Geniuses (14)   ovp Overpass   \n2    23/2/23    Evil Geniuses (6)     Eternal Fire (16)     anb Anubis   \n3    23/2/23  Into the Breach (5)    The Prodigies (16)     anb Anubis   \n4    23/2/23            MIBR (16)              IHC (12)    inf Inferno   \n5    23/2/23   The Prodigies (11)  Into the Breach (16)     mrg Mirage   \n..       ...                  ...                   ...            ...   \n45   22/2/23              G2 (16)      Eternal Fire (9)    anb  Anubis   \n46   22/2/23    Evil Geniuses (4)           Cloud9 (16)    mrg  Mirage   \n47   22/2/23          Cloud9 (16)     Evil Geniuses (5)   inf  Inferno   \n48   22/2/23         iNation (16)            FORZE (12)   inf  Inferno   \n49   22/2/23         iNation (13)            FORZE (16)    anb  Anubis   \n\n                           Event  Team1 Score  Team2 Score  Team1 Won  \\\n1       ESL Pro League Season 17           16           14       True   \n2       ESL Pro League Season 17            6           16      False   \n3   European Pro League Season 6            5           16      False   \n4       ESL Pro League Season 17           16           12       True   \n5   European Pro League Season 6           11           16      False   \n..                           ...          ...          ...        ...   \n45      ESL Pro League Season 17           16            9       True   \n46      ESL Pro League Season 17            4           16      False   \n47      ESL Pro League Season 17           16            5       True   \n48      CCT West Europe Series 1           16           12       True   \n49      CCT West Europe Series 1           13           16      False   \n\n    Team2 Won  \n1       False  \n2        True  \n3        True  \n4       False  \n5        True  \n..        ...  \n45      False  \n46       True  \n47      False  \n48      False  \n49       True  \n\n[99 rows x 9 columns]",
      "text/html": "<div>\n<style scoped>\n    .dataframe tbody tr th:only-of-type {\n        vertical-align: middle;\n    }\n\n    .dataframe tbody tr th {\n        vertical-align: top;\n    }\n\n    .dataframe thead th {\n        text-align: right;\n    }\n</style>\n<table border=\"1\" class=\"dataframe\">\n  <thead>\n    <tr style=\"text-align: right;\">\n      <th></th>\n      <th>Date</th>\n      <th>Team1</th>\n      <th>Team2</th>\n      <th>Map</th>\n      <th>Event</th>\n      <th>Team1 Score</th>\n      <th>Team2 Score</th>\n      <th>Team1 Won</th>\n      <th>Team2 Won</th>\n    </tr>\n  </thead>\n  <tbody>\n    <tr>\n      <th>1</th>\n      <td>23/2/23</td>\n      <td>Eternal Fire (16)</td>\n      <td>Evil Geniuses (14)</td>\n      <td>ovp Overpass</td>\n      <td>ESL Pro League Season 17</td>\n      <td>16</td>\n      <td>14</td>\n      <td>True</td>\n      <td>False</td>\n    </tr>\n    <tr>\n      <th>2</th>\n      <td>23/2/23</td>\n      <td>Evil Geniuses (6)</td>\n      <td>Eternal Fire (16)</td>\n      <td>anb Anubis</td>\n      <td>ESL Pro League Season 17</td>\n      <td>6</td>\n      <td>16</td>\n      <td>False</td>\n      <td>True</td>\n    </tr>\n    <tr>\n      <th>3</th>\n      <td>23/2/23</td>\n      <td>Into the Breach (5)</td>\n      <td>The Prodigies (16)</td>\n      <td>anb Anubis</td>\n      <td>European Pro League Season 6</td>\n      <td>5</td>\n      <td>16</td>\n      <td>False</td>\n      <td>True</td>\n    </tr>\n    <tr>\n      <th>4</th>\n      <td>23/2/23</td>\n      <td>MIBR (16)</td>\n      <td>IHC (12)</td>\n      <td>inf Inferno</td>\n      <td>ESL Pro League Season 17</td>\n      <td>16</td>\n      <td>12</td>\n      <td>True</td>\n      <td>False</td>\n    </tr>\n    <tr>\n      <th>5</th>\n      <td>23/2/23</td>\n      <td>The Prodigies (11)</td>\n      <td>Into the Breach (16)</td>\n      <td>mrg Mirage</td>\n      <td>European Pro League Season 6</td>\n      <td>11</td>\n      <td>16</td>\n      <td>False</td>\n      <td>True</td>\n    </tr>\n    <tr>\n      <th>...</th>\n      <td>...</td>\n      <td>...</td>\n      <td>...</td>\n      <td>...</td>\n      <td>...</td>\n      <td>...</td>\n      <td>...</td>\n      <td>...</td>\n      <td>...</td>\n    </tr>\n    <tr>\n      <th>45</th>\n      <td>22/2/23</td>\n      <td>G2 (16)</td>\n      <td>Eternal Fire (9)</td>\n      <td>anb  Anubis</td>\n      <td>ESL Pro League Season 17</td>\n      <td>16</td>\n      <td>9</td>\n      <td>True</td>\n      <td>False</td>\n    </tr>\n    <tr>\n      <th>46</th>\n      <td>22/2/23</td>\n      <td>Evil Geniuses (4)</td>\n      <td>Cloud9 (16)</td>\n      <td>mrg  Mirage</td>\n      <td>ESL Pro League Season 17</td>\n      <td>4</td>\n      <td>16</td>\n      <td>False</td>\n      <td>True</td>\n    </tr>\n    <tr>\n      <th>47</th>\n      <td>22/2/23</td>\n      <td>Cloud9 (16)</td>\n      <td>Evil Geniuses (5)</td>\n      <td>inf  Inferno</td>\n      <td>ESL Pro League Season 17</td>\n      <td>16</td>\n      <td>5</td>\n      <td>True</td>\n      <td>False</td>\n    </tr>\n    <tr>\n      <th>48</th>\n      <td>22/2/23</td>\n      <td>iNation (16)</td>\n      <td>FORZE (12)</td>\n      <td>inf  Inferno</td>\n      <td>CCT West Europe Series 1</td>\n      <td>16</td>\n      <td>12</td>\n      <td>True</td>\n      <td>False</td>\n    </tr>\n    <tr>\n      <th>49</th>\n      <td>22/2/23</td>\n      <td>iNation (13)</td>\n      <td>FORZE (16)</td>\n      <td>anb  Anubis</td>\n      <td>CCT West Europe Series 1</td>\n      <td>13</td>\n      <td>16</td>\n      <td>False</td>\n      <td>True</td>\n    </tr>\n  </tbody>\n</table>\n<p>99 rows × 9 columns</p>\n</div>"
     },
     "execution_count": 42,
     "metadata": {},
     "output_type": "execute_result"
    }
   ],
   "source": [
    "df = df[df['Team1 Won'] | df['Team2 Won']]\n",
    "df"
   ],
   "metadata": {
    "collapsed": false
   }
  },
  {
   "cell_type": "code",
   "execution_count": null,
   "outputs": [],
   "source": [
    "teams['Team1 Won'] = teams['Team1 Score'] > teams['Team2 Score']\n",
    "teams['Team2 Won'] = teams['Team1 Score'] < teams['Team2 Score']\n",
    "teams"
   ],
   "metadata": {
    "collapsed": false
   }
  },
  {
   "cell_type": "code",
   "execution_count": null,
   "outputs": [],
   "source": [],
   "metadata": {
    "collapsed": false
   }
  },
  {
   "cell_type": "code",
   "execution_count": null,
   "outputs": [],
   "source": [
    "winners = []\n",
    "\n",
    "for index, row in teams.iterrows():\n",
    "    if row['Team1 Won']:\n",
    "        winners.append(row['Team1'])\n",
    "    else:\n",
    "        winners.append(row['Team2'])\n",
    "\n",
    "teams['Winner'] = winners\n",
    "teams"
   ],
   "metadata": {
    "collapsed": false
   }
  },
  {
   "cell_type": "code",
   "execution_count": null,
   "outputs": [],
   "source": [
    "full_teams = teams.copy(deep=True)\n",
    "teams = teams[['Date', 'Team1', 'Team2', 'Team1 Score', 'Team2 Score', 'Winner', 'Map']]\n",
    "teams"
   ],
   "metadata": {
    "collapsed": false
   }
  },
  {
   "cell_type": "code",
   "execution_count": null,
   "outputs": [],
   "source": [
    "team_1_df = teams[['Team1', 'Team1 Score', 'Winner', 'Map', 'Team2', 'Team2 Score']].rename(columns={\n",
    "    'Team1': 'Team',\n",
    "    'Team1 Score': 'Score',\n",
    "    'Team2': 'Opponent',\n",
    "    'Team2 Score': 'Opponent Score',\n",
    "})\n",
    "team_1_df['Is Winner'] = team_1_df['Team'] == team_1_df['Winner']\n",
    "\n",
    "team_2_df = teams[['Team2', 'Team2 Score', 'Winner', 'Map', 'Team1', 'Team1 Score']].rename(columns={\n",
    "    'Team2': 'Team',\n",
    "    'Team2 Score': 'Score',\n",
    "    'Team1': 'Opponent',\n",
    "    'Team1 Score': 'Opponent Score',\n",
    "})\n",
    "team_2_df['Is Winner'] = team_2_df['Team'] == team_2_df['Winner']\n",
    "\n",
    "teams = pd.concat([team_1_df, team_2_df])\n",
    "teams"
   ],
   "metadata": {
    "collapsed": false
   }
  },
  {
   "cell_type": "code",
   "execution_count": null,
   "outputs": [],
   "source": [
    "# Dump into CSV file\n",
    "\n",
    "prefix = datetime.utcnow().strftime('%d%m%Y_%H%M%S')\n",
    "\n",
    "teams.to_csv(f'../data/{prefix}_teams.csv')"
   ],
   "metadata": {
    "collapsed": false
   }
  },
  {
   "cell_type": "code",
   "execution_count": null,
   "outputs": [],
   "source": [
    "sum_teams = teams.groupby('Team').sum('Score')\n",
    "sum_teams"
   ],
   "metadata": {
    "collapsed": false
   }
  },
  {
   "cell_type": "code",
   "execution_count": null,
   "outputs": [],
   "source": [
    "sum_teams['Matches'] = teams.groupby('Team').size()\n",
    "sum_teams"
   ],
   "metadata": {
    "collapsed": false
   }
  },
  {
   "cell_type": "code",
   "execution_count": null,
   "outputs": [],
   "source": [
    "sum_teams['Winrate'] = sum_teams['Is Winner'] * 100 / sum_teams['Matches']\n",
    "sum_teams.sort_values('Matches', ascending=False)"
   ],
   "metadata": {
    "collapsed": false
   }
  },
  {
   "cell_type": "code",
   "execution_count": null,
   "outputs": [],
   "source": [
    "sum_teams[sum_teams['Matches']> 15].sort_values('Winrate', ascending=False)"
   ],
   "metadata": {
    "collapsed": false
   }
  },
  {
   "cell_type": "code",
   "execution_count": null,
   "outputs": [],
   "source": [],
   "metadata": {
    "collapsed": false
   }
  },
  {
   "cell_type": "code",
   "execution_count": null,
   "outputs": [],
   "source": [],
   "metadata": {
    "collapsed": false
   }
  },
  {
   "cell_type": "code",
   "execution_count": null,
   "outputs": [],
   "source": [],
   "metadata": {
    "collapsed": false
   }
  }
 ],
 "metadata": {
  "kernelspec": {
   "display_name": "Python 3",
   "language": "python",
   "name": "python3"
  },
  "language_info": {
   "codemirror_mode": {
    "name": "ipython",
    "version": 2
   },
   "file_extension": ".py",
   "mimetype": "text/x-python",
   "name": "python",
   "nbconvert_exporter": "python",
   "pygments_lexer": "ipython2",
   "version": "2.7.6"
  }
 },
 "nbformat": 4,
 "nbformat_minor": 0
}
