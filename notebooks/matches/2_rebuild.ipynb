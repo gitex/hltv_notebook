{
 "cells": [
  {
   "cell_type": "code",
   "execution_count": 1,
   "metadata": {
    "collapsed": true
   },
   "outputs": [],
   "source": [
    "import sys\n",
    "from pathlib import Path\n",
    "\n",
    "current_dir = Path('.')\n",
    "current_dir = current_dir.absolute()\n",
    "root_dir = current_dir.parent.parent\n",
    "src_dir = root_dir / 'src'\n",
    "\n",
    "sys.path.append(str(src_dir))\n",
    "\n",
    "%load_ext autoreload\n",
    "%autoreload 2"
   ]
  },
  {
   "cell_type": "code",
   "execution_count": 2,
   "outputs": [
    {
     "data": {
      "text/plain": "True"
     },
     "execution_count": 2,
     "metadata": {},
     "output_type": "execute_result"
    }
   ],
   "source": [
    "from dotenv import load_dotenv\n",
    "\n",
    "load_dotenv(str(src_dir / '.env'))"
   ],
   "metadata": {
    "collapsed": false
   }
  },
  {
   "cell_type": "code",
   "execution_count": 4,
   "outputs": [
    {
     "ename": "OSError",
     "evalue": "[Errno 22] Invalid argument: 'Date,Team1,Team2,Map,Event\\n26/2/23,Budapest Five (5),Katuna (16),inf  Inferno,CCT South Europe Series 3\\n26/2/23,Katuna (14),Budapest Five (16),anc  Ancient,CCT South Europe Series 3\\n26/2/23,Budapest Five (12),Katuna (16),ovp  Overpass,CCT South Europe Series 3\\n26/2/23,ECSTATIC (14),Astralis Talent (16),inf  Inferno,CCT North Europe Series 4 Closed Qualifier\\n26/2/23,Eternal Fire (15),fnatic (19),ovp  Overpass,ESL Pro League Season 17\\n26/2/23,fnatic (9),Eternal Fire (16),inf  Inferno,ESL Pro League Season 17\\n26/2/23,SD Invicta (16),sYnck (14),inf  Inferno,Baltic Blastoff Spring 2023\\n26/2/23,sYnck (16),SD Invicta (9),vtg  Vertigo,Baltic Blastoff Spring 2023\\n26/2/23,SD Invicta (19),sYnck (17),mrg  Mirage,Baltic Blastoff Spring 2023\\n26/2/23,Partizan (4),VOYVODA (16),mrg  Mirage,RES Season 4\\n26/2/23,VOYVODA (16),Partizan (1),nuke  Nuke,RES Season 4\\n26/2/23,Apeks Rebels (4),Websterz (16),anb  Anubis,CCT North Europe Series 4 Closed Qualifier\\n26/2/23,Websterz (13),Apeks Rebels (16),ovp  Overpass,CCT North Europe Series 4 Closed Qualifier\\n26/2/23,Apeks Rebels (13),Websterz (16),inf  Inferno,CCT North Europe Series 4 Closed Qualifier\\n26/2/23,MCE (10),Permitta (16),mrg  Mirage,Polish Pro League AMA PRO Season 4\\n26/2/23,Permitta (10),MCE (16),ovp  Overpass,Polish Pro League AMA PRO Season 4\\n26/2/23,MCE (16),Permitta (19),nuke  Nuke,Polish Pro League AMA PRO Season 4\\n26/2/23,Entropiq (16),MASONIC (13),vtg  Vertigo,CCT South Europe Series 3\\n26/2/23,Entropiq (13),MASONIC (16),nuke  Nuke,CCT South Europe Series 3\\n26/2/23,MASONIC (11),Entropiq (16),inf  Inferno,CCT South Europe Series 3\\n26/2/23,HYDRA (11),ECSTATIC (16),ovp  Overpass,ESL Challenger Melbourne 2023 Europe Open Qualifier\\n26/2/23,HYDRA (16),ECSTATIC (6),anc  Ancient,ESL Challenger Melbourne 2023 Europe Open Qualifier\\n26/2/23,ECSTATIC (16),HYDRA (14),nuke  Nuke,ESL Challenger Melbourne 2023 Europe Open Qualifier\\n26/2/23,HONORIS (16),Spirit Academy (14),inf  Inferno,ESL Challenger Melbourne 2023 Europe Open Qualifier\\n26/2/23,Spirit Academy (16),HONORIS (5),nuke  Nuke,ESL Challenger Melbourne 2023 Europe Open Qualifier\\n26/2/23,HONORIS (16),Spirit Academy (10),mrg  Mirage,ESL Challenger Melbourne 2023 Europe Open Qualifier\\n26/2/23,ex-Rapid Ninjas (13),Apeks (16),anb  Anubis,ESL Challenger Melbourne 2023 Europe Open Qualifier\\n26/2/23,Apeks (16),ex-Rapid Ninjas (12),inf  Inferno,ESL Challenger Melbourne 2023 Europe Open Qualifier\\n26/2/23,SINNERS (8),1WIN (16),mrg  Mirage,ESL Challenger Melbourne 2023 Europe Open Qualifier\\n26/2/23,1WIN (16),SINNERS (7),vtg  Vertigo,ESL Challenger Melbourne 2023 Europe Open Qualifier\\n26/2/23,GenOne (7),Astralis Talent (16),vtg  Vertigo,CCT North Europe Series 4 Closed Qualifier\\n26/2/23,GenOne (16),Astralis Talent (10),anb  Anubis,CCT North Europe Series 4 Closed Qualifier\\n26/2/23,GenOne (12),Astralis Talent (16),inf  Inferno,CCT North Europe Series 4 Closed Qualifier\\n26/2/23,iNation (16),Nexus (12),nuke  Nuke,RES Season 4\\n26/2/23,Nexus (10),iNation (16),ovp  Overpass,RES Season 4\\n26/2/23,iNation (9),Nexus (16),vtg  Vertigo,RES Season 4\\n26/2/23,EC Brugge (6),Websterz (16),inf  Inferno,CCT North Europe Series 4 Closed Qualifier\\n26/2/23,Websterz (16),EC Brugge (7),vtg  Vertigo,CCT North Europe Series 4 Closed Qualifier\\n26/2/23,Cloud9 (16),Outsiders (8),anc  Ancient,ESL Pro League Season 17\\n26/2/23,Cloud9 (14),Outsiders (16),mrg  Mirage,ESL Pro League Season 17\\n26/2/23,Outsiders (9),Cloud9 (16),vtg  Vertigo,ESL Pro League Season 17\\n26/2/23,500 (16),MOUZ NXT (14),mrg  Mirage,European Development Championship 7\\n26/2/23,500 (16),MOUZ NXT (2),anc  Ancient,European Development Championship 7\\n26/2/23,MOUZ NXT (16),500 (12),ovp  Overpass,European Development Championship 7\\n26/2/23,Twisted Minds (16),Ooredoo Thunders (12),anb  Anubis,BLAST.tv Paris Major 2023 Middle East RMR Closed Qualifier\\n26/2/23,Twisted Minds (16),Ooredoo Thunders (7),ovp  Overpass,BLAST.tv Paris Major 2023 Middle East RMR Closed Qualifier\\n26/2/23,LDLC (13),1WIN (16),ovp  Overpass,ESL Challenger Melbourne 2023 Europe Open Qualifier\\n26/2/23,ECLOT (16),Into the Breach (9),vtg  Vertigo,European Pro League Season 6\\n26/2/23,Into the Breach (11),ECLOT (16),mrg  Mirage,European Pro League Season 6\\n26/2/23,ECLOT (7),Into the Breach (16),inf  Inferno,European Pro League Season 6\\n'",
     "output_type": "error",
     "traceback": [
      "\u001B[1;31m---------------------------------------------------------------------------\u001B[0m",
      "\u001B[1;31mOSError\u001B[0m                                   Traceback (most recent call last)",
      "Cell \u001B[1;32mIn[4], line 4\u001B[0m\n\u001B[0;32m      1\u001B[0m \u001B[38;5;28;01mfrom\u001B[39;00m \u001B[38;5;21;01mapi\u001B[39;00m\u001B[38;5;21;01m.\u001B[39;00m\u001B[38;5;21;01mcontainers\u001B[39;00m \u001B[38;5;28;01mimport\u001B[39;00m analyze_container\n\u001B[0;32m      3\u001B[0m analyze \u001B[38;5;241m=\u001B[39m analyze_container\u001B[38;5;241m.\u001B[39mservice()\n\u001B[1;32m----> 4\u001B[0m df \u001B[38;5;241m=\u001B[39m \u001B[43manalyze\u001B[49m\u001B[38;5;241;43m.\u001B[39;49m\u001B[43mcollect_all\u001B[49m\u001B[43m(\u001B[49m\u001B[43m)\u001B[49m\n\u001B[0;32m      5\u001B[0m df\n",
      "File \u001B[1;32mF:\\Projects\\hltv_notebook\\src\\api\\services\\analyze\\analyze.py:23\u001B[0m, in \u001B[0;36mAnalyzeService.collect_all\u001B[1;34m(self)\u001B[0m\n\u001B[0;32m     20\u001B[0m data_frames: \u001B[38;5;28mlist\u001B[39m[pd\u001B[38;5;241m.\u001B[39mDataFrame] \u001B[38;5;241m=\u001B[39m []\n\u001B[0;32m     22\u001B[0m \u001B[38;5;28;01mfor\u001B[39;00m data \u001B[38;5;129;01min\u001B[39;00m \u001B[38;5;28mself\u001B[39m\u001B[38;5;241m.\u001B[39mrepository\u001B[38;5;241m.\u001B[39mget_many():\n\u001B[1;32m---> 23\u001B[0m     df \u001B[38;5;241m=\u001B[39m \u001B[38;5;28;43mself\u001B[39;49m\u001B[38;5;241;43m.\u001B[39;49m\u001B[43mdf_factory\u001B[49m\u001B[43m(\u001B[49m\u001B[43mdata\u001B[49m\u001B[43m)\u001B[49m\n\u001B[0;32m     25\u001B[0m     \u001B[38;5;28;01mif\u001B[39;00m df \u001B[38;5;129;01mis\u001B[39;00m \u001B[38;5;28;01mNone\u001B[39;00m:\n\u001B[0;32m     26\u001B[0m         \u001B[38;5;28;01mcontinue\u001B[39;00m\n",
      "File \u001B[1;32mF:\\Projects\\hltv_notebook\\src\\infra\\storage\\factories\\data_frame.py:38\u001B[0m, in \u001B[0;36mDataFrameFromCSVFactory.__call__\u001B[1;34m(self, data)\u001B[0m\n\u001B[0;32m     35\u001B[0m \u001B[38;5;28;01mif\u001B[39;00m \u001B[38;5;129;01mnot\u001B[39;00m data:\n\u001B[0;32m     36\u001B[0m     \u001B[38;5;28;01mreturn\u001B[39;00m \u001B[38;5;28;01mNone\u001B[39;00m\n\u001B[1;32m---> 38\u001B[0m df \u001B[38;5;241m=\u001B[39m \u001B[43mpd\u001B[49m\u001B[38;5;241;43m.\u001B[39;49m\u001B[43mread_csv\u001B[49m\u001B[43m(\u001B[49m\u001B[43mdata\u001B[49m\u001B[43m)\u001B[49m\n\u001B[0;32m     40\u001B[0m \u001B[38;5;28;01mreturn\u001B[39;00m pd\u001B[38;5;241m.\u001B[39mconcat(df)\n",
      "File \u001B[1;32mF:\\Projects\\hltv_notebook\\venv\\Lib\\site-packages\\pandas\\util\\_decorators.py:211\u001B[0m, in \u001B[0;36mdeprecate_kwarg.<locals>._deprecate_kwarg.<locals>.wrapper\u001B[1;34m(*args, **kwargs)\u001B[0m\n\u001B[0;32m    209\u001B[0m     \u001B[38;5;28;01melse\u001B[39;00m:\n\u001B[0;32m    210\u001B[0m         kwargs[new_arg_name] \u001B[38;5;241m=\u001B[39m new_arg_value\n\u001B[1;32m--> 211\u001B[0m \u001B[38;5;28;01mreturn\u001B[39;00m \u001B[43mfunc\u001B[49m\u001B[43m(\u001B[49m\u001B[38;5;241;43m*\u001B[39;49m\u001B[43margs\u001B[49m\u001B[43m,\u001B[49m\u001B[43m \u001B[49m\u001B[38;5;241;43m*\u001B[39;49m\u001B[38;5;241;43m*\u001B[39;49m\u001B[43mkwargs\u001B[49m\u001B[43m)\u001B[49m\n",
      "File \u001B[1;32mF:\\Projects\\hltv_notebook\\venv\\Lib\\site-packages\\pandas\\util\\_decorators.py:331\u001B[0m, in \u001B[0;36mdeprecate_nonkeyword_arguments.<locals>.decorate.<locals>.wrapper\u001B[1;34m(*args, **kwargs)\u001B[0m\n\u001B[0;32m    325\u001B[0m \u001B[38;5;28;01mif\u001B[39;00m \u001B[38;5;28mlen\u001B[39m(args) \u001B[38;5;241m>\u001B[39m num_allow_args:\n\u001B[0;32m    326\u001B[0m     warnings\u001B[38;5;241m.\u001B[39mwarn(\n\u001B[0;32m    327\u001B[0m         msg\u001B[38;5;241m.\u001B[39mformat(arguments\u001B[38;5;241m=\u001B[39m_format_argument_list(allow_args)),\n\u001B[0;32m    328\u001B[0m         \u001B[38;5;167;01mFutureWarning\u001B[39;00m,\n\u001B[0;32m    329\u001B[0m         stacklevel\u001B[38;5;241m=\u001B[39mfind_stack_level(),\n\u001B[0;32m    330\u001B[0m     )\n\u001B[1;32m--> 331\u001B[0m \u001B[38;5;28;01mreturn\u001B[39;00m \u001B[43mfunc\u001B[49m\u001B[43m(\u001B[49m\u001B[38;5;241;43m*\u001B[39;49m\u001B[43margs\u001B[49m\u001B[43m,\u001B[49m\u001B[43m \u001B[49m\u001B[38;5;241;43m*\u001B[39;49m\u001B[38;5;241;43m*\u001B[39;49m\u001B[43mkwargs\u001B[49m\u001B[43m)\u001B[49m\n",
      "File \u001B[1;32mF:\\Projects\\hltv_notebook\\venv\\Lib\\site-packages\\pandas\\io\\parsers\\readers.py:950\u001B[0m, in \u001B[0;36mread_csv\u001B[1;34m(filepath_or_buffer, sep, delimiter, header, names, index_col, usecols, squeeze, prefix, mangle_dupe_cols, dtype, engine, converters, true_values, false_values, skipinitialspace, skiprows, skipfooter, nrows, na_values, keep_default_na, na_filter, verbose, skip_blank_lines, parse_dates, infer_datetime_format, keep_date_col, date_parser, dayfirst, cache_dates, iterator, chunksize, compression, thousands, decimal, lineterminator, quotechar, quoting, doublequote, escapechar, comment, encoding, encoding_errors, dialect, error_bad_lines, warn_bad_lines, on_bad_lines, delim_whitespace, low_memory, memory_map, float_precision, storage_options)\u001B[0m\n\u001B[0;32m    935\u001B[0m kwds_defaults \u001B[38;5;241m=\u001B[39m _refine_defaults_read(\n\u001B[0;32m    936\u001B[0m     dialect,\n\u001B[0;32m    937\u001B[0m     delimiter,\n\u001B[1;32m   (...)\u001B[0m\n\u001B[0;32m    946\u001B[0m     defaults\u001B[38;5;241m=\u001B[39m{\u001B[38;5;124m\"\u001B[39m\u001B[38;5;124mdelimiter\u001B[39m\u001B[38;5;124m\"\u001B[39m: \u001B[38;5;124m\"\u001B[39m\u001B[38;5;124m,\u001B[39m\u001B[38;5;124m\"\u001B[39m},\n\u001B[0;32m    947\u001B[0m )\n\u001B[0;32m    948\u001B[0m kwds\u001B[38;5;241m.\u001B[39mupdate(kwds_defaults)\n\u001B[1;32m--> 950\u001B[0m \u001B[38;5;28;01mreturn\u001B[39;00m \u001B[43m_read\u001B[49m\u001B[43m(\u001B[49m\u001B[43mfilepath_or_buffer\u001B[49m\u001B[43m,\u001B[49m\u001B[43m \u001B[49m\u001B[43mkwds\u001B[49m\u001B[43m)\u001B[49m\n",
      "File \u001B[1;32mF:\\Projects\\hltv_notebook\\venv\\Lib\\site-packages\\pandas\\io\\parsers\\readers.py:605\u001B[0m, in \u001B[0;36m_read\u001B[1;34m(filepath_or_buffer, kwds)\u001B[0m\n\u001B[0;32m    602\u001B[0m _validate_names(kwds\u001B[38;5;241m.\u001B[39mget(\u001B[38;5;124m\"\u001B[39m\u001B[38;5;124mnames\u001B[39m\u001B[38;5;124m\"\u001B[39m, \u001B[38;5;28;01mNone\u001B[39;00m))\n\u001B[0;32m    604\u001B[0m \u001B[38;5;66;03m# Create the parser.\u001B[39;00m\n\u001B[1;32m--> 605\u001B[0m parser \u001B[38;5;241m=\u001B[39m \u001B[43mTextFileReader\u001B[49m\u001B[43m(\u001B[49m\u001B[43mfilepath_or_buffer\u001B[49m\u001B[43m,\u001B[49m\u001B[43m \u001B[49m\u001B[38;5;241;43m*\u001B[39;49m\u001B[38;5;241;43m*\u001B[39;49m\u001B[43mkwds\u001B[49m\u001B[43m)\u001B[49m\n\u001B[0;32m    607\u001B[0m \u001B[38;5;28;01mif\u001B[39;00m chunksize \u001B[38;5;129;01mor\u001B[39;00m iterator:\n\u001B[0;32m    608\u001B[0m     \u001B[38;5;28;01mreturn\u001B[39;00m parser\n",
      "File \u001B[1;32mF:\\Projects\\hltv_notebook\\venv\\Lib\\site-packages\\pandas\\io\\parsers\\readers.py:1442\u001B[0m, in \u001B[0;36mTextFileReader.__init__\u001B[1;34m(self, f, engine, **kwds)\u001B[0m\n\u001B[0;32m   1439\u001B[0m     \u001B[38;5;28mself\u001B[39m\u001B[38;5;241m.\u001B[39moptions[\u001B[38;5;124m\"\u001B[39m\u001B[38;5;124mhas_index_names\u001B[39m\u001B[38;5;124m\"\u001B[39m] \u001B[38;5;241m=\u001B[39m kwds[\u001B[38;5;124m\"\u001B[39m\u001B[38;5;124mhas_index_names\u001B[39m\u001B[38;5;124m\"\u001B[39m]\n\u001B[0;32m   1441\u001B[0m \u001B[38;5;28mself\u001B[39m\u001B[38;5;241m.\u001B[39mhandles: IOHandles \u001B[38;5;241m|\u001B[39m \u001B[38;5;28;01mNone\u001B[39;00m \u001B[38;5;241m=\u001B[39m \u001B[38;5;28;01mNone\u001B[39;00m\n\u001B[1;32m-> 1442\u001B[0m \u001B[38;5;28mself\u001B[39m\u001B[38;5;241m.\u001B[39m_engine \u001B[38;5;241m=\u001B[39m \u001B[38;5;28;43mself\u001B[39;49m\u001B[38;5;241;43m.\u001B[39;49m\u001B[43m_make_engine\u001B[49m\u001B[43m(\u001B[49m\u001B[43mf\u001B[49m\u001B[43m,\u001B[49m\u001B[43m \u001B[49m\u001B[38;5;28;43mself\u001B[39;49m\u001B[38;5;241;43m.\u001B[39;49m\u001B[43mengine\u001B[49m\u001B[43m)\u001B[49m\n",
      "File \u001B[1;32mF:\\Projects\\hltv_notebook\\venv\\Lib\\site-packages\\pandas\\io\\parsers\\readers.py:1735\u001B[0m, in \u001B[0;36mTextFileReader._make_engine\u001B[1;34m(self, f, engine)\u001B[0m\n\u001B[0;32m   1733\u001B[0m     \u001B[38;5;28;01mif\u001B[39;00m \u001B[38;5;124m\"\u001B[39m\u001B[38;5;124mb\u001B[39m\u001B[38;5;124m\"\u001B[39m \u001B[38;5;129;01mnot\u001B[39;00m \u001B[38;5;129;01min\u001B[39;00m mode:\n\u001B[0;32m   1734\u001B[0m         mode \u001B[38;5;241m+\u001B[39m\u001B[38;5;241m=\u001B[39m \u001B[38;5;124m\"\u001B[39m\u001B[38;5;124mb\u001B[39m\u001B[38;5;124m\"\u001B[39m\n\u001B[1;32m-> 1735\u001B[0m \u001B[38;5;28mself\u001B[39m\u001B[38;5;241m.\u001B[39mhandles \u001B[38;5;241m=\u001B[39m \u001B[43mget_handle\u001B[49m\u001B[43m(\u001B[49m\n\u001B[0;32m   1736\u001B[0m \u001B[43m    \u001B[49m\u001B[43mf\u001B[49m\u001B[43m,\u001B[49m\n\u001B[0;32m   1737\u001B[0m \u001B[43m    \u001B[49m\u001B[43mmode\u001B[49m\u001B[43m,\u001B[49m\n\u001B[0;32m   1738\u001B[0m \u001B[43m    \u001B[49m\u001B[43mencoding\u001B[49m\u001B[38;5;241;43m=\u001B[39;49m\u001B[38;5;28;43mself\u001B[39;49m\u001B[38;5;241;43m.\u001B[39;49m\u001B[43moptions\u001B[49m\u001B[38;5;241;43m.\u001B[39;49m\u001B[43mget\u001B[49m\u001B[43m(\u001B[49m\u001B[38;5;124;43m\"\u001B[39;49m\u001B[38;5;124;43mencoding\u001B[39;49m\u001B[38;5;124;43m\"\u001B[39;49m\u001B[43m,\u001B[49m\u001B[43m \u001B[49m\u001B[38;5;28;43;01mNone\u001B[39;49;00m\u001B[43m)\u001B[49m\u001B[43m,\u001B[49m\n\u001B[0;32m   1739\u001B[0m \u001B[43m    \u001B[49m\u001B[43mcompression\u001B[49m\u001B[38;5;241;43m=\u001B[39;49m\u001B[38;5;28;43mself\u001B[39;49m\u001B[38;5;241;43m.\u001B[39;49m\u001B[43moptions\u001B[49m\u001B[38;5;241;43m.\u001B[39;49m\u001B[43mget\u001B[49m\u001B[43m(\u001B[49m\u001B[38;5;124;43m\"\u001B[39;49m\u001B[38;5;124;43mcompression\u001B[39;49m\u001B[38;5;124;43m\"\u001B[39;49m\u001B[43m,\u001B[49m\u001B[43m \u001B[49m\u001B[38;5;28;43;01mNone\u001B[39;49;00m\u001B[43m)\u001B[49m\u001B[43m,\u001B[49m\n\u001B[0;32m   1740\u001B[0m \u001B[43m    \u001B[49m\u001B[43mmemory_map\u001B[49m\u001B[38;5;241;43m=\u001B[39;49m\u001B[38;5;28;43mself\u001B[39;49m\u001B[38;5;241;43m.\u001B[39;49m\u001B[43moptions\u001B[49m\u001B[38;5;241;43m.\u001B[39;49m\u001B[43mget\u001B[49m\u001B[43m(\u001B[49m\u001B[38;5;124;43m\"\u001B[39;49m\u001B[38;5;124;43mmemory_map\u001B[39;49m\u001B[38;5;124;43m\"\u001B[39;49m\u001B[43m,\u001B[49m\u001B[43m \u001B[49m\u001B[38;5;28;43;01mFalse\u001B[39;49;00m\u001B[43m)\u001B[49m\u001B[43m,\u001B[49m\n\u001B[0;32m   1741\u001B[0m \u001B[43m    \u001B[49m\u001B[43mis_text\u001B[49m\u001B[38;5;241;43m=\u001B[39;49m\u001B[43mis_text\u001B[49m\u001B[43m,\u001B[49m\n\u001B[0;32m   1742\u001B[0m \u001B[43m    \u001B[49m\u001B[43merrors\u001B[49m\u001B[38;5;241;43m=\u001B[39;49m\u001B[38;5;28;43mself\u001B[39;49m\u001B[38;5;241;43m.\u001B[39;49m\u001B[43moptions\u001B[49m\u001B[38;5;241;43m.\u001B[39;49m\u001B[43mget\u001B[49m\u001B[43m(\u001B[49m\u001B[38;5;124;43m\"\u001B[39;49m\u001B[38;5;124;43mencoding_errors\u001B[39;49m\u001B[38;5;124;43m\"\u001B[39;49m\u001B[43m,\u001B[49m\u001B[43m \u001B[49m\u001B[38;5;124;43m\"\u001B[39;49m\u001B[38;5;124;43mstrict\u001B[39;49m\u001B[38;5;124;43m\"\u001B[39;49m\u001B[43m)\u001B[49m\u001B[43m,\u001B[49m\n\u001B[0;32m   1743\u001B[0m \u001B[43m    \u001B[49m\u001B[43mstorage_options\u001B[49m\u001B[38;5;241;43m=\u001B[39;49m\u001B[38;5;28;43mself\u001B[39;49m\u001B[38;5;241;43m.\u001B[39;49m\u001B[43moptions\u001B[49m\u001B[38;5;241;43m.\u001B[39;49m\u001B[43mget\u001B[49m\u001B[43m(\u001B[49m\u001B[38;5;124;43m\"\u001B[39;49m\u001B[38;5;124;43mstorage_options\u001B[39;49m\u001B[38;5;124;43m\"\u001B[39;49m\u001B[43m,\u001B[49m\u001B[43m \u001B[49m\u001B[38;5;28;43;01mNone\u001B[39;49;00m\u001B[43m)\u001B[49m\u001B[43m,\u001B[49m\n\u001B[0;32m   1744\u001B[0m \u001B[43m\u001B[49m\u001B[43m)\u001B[49m\n\u001B[0;32m   1745\u001B[0m \u001B[38;5;28;01massert\u001B[39;00m \u001B[38;5;28mself\u001B[39m\u001B[38;5;241m.\u001B[39mhandles \u001B[38;5;129;01mis\u001B[39;00m \u001B[38;5;129;01mnot\u001B[39;00m \u001B[38;5;28;01mNone\u001B[39;00m\n\u001B[0;32m   1746\u001B[0m f \u001B[38;5;241m=\u001B[39m \u001B[38;5;28mself\u001B[39m\u001B[38;5;241m.\u001B[39mhandles\u001B[38;5;241m.\u001B[39mhandle\n",
      "File \u001B[1;32mF:\\Projects\\hltv_notebook\\venv\\Lib\\site-packages\\pandas\\io\\common.py:856\u001B[0m, in \u001B[0;36mget_handle\u001B[1;34m(path_or_buf, mode, encoding, compression, memory_map, is_text, errors, storage_options)\u001B[0m\n\u001B[0;32m    851\u001B[0m \u001B[38;5;28;01melif\u001B[39;00m \u001B[38;5;28misinstance\u001B[39m(handle, \u001B[38;5;28mstr\u001B[39m):\n\u001B[0;32m    852\u001B[0m     \u001B[38;5;66;03m# Check whether the filename is to be opened in binary mode.\u001B[39;00m\n\u001B[0;32m    853\u001B[0m     \u001B[38;5;66;03m# Binary mode does not support 'encoding' and 'newline'.\u001B[39;00m\n\u001B[0;32m    854\u001B[0m     \u001B[38;5;28;01mif\u001B[39;00m ioargs\u001B[38;5;241m.\u001B[39mencoding \u001B[38;5;129;01mand\u001B[39;00m \u001B[38;5;124m\"\u001B[39m\u001B[38;5;124mb\u001B[39m\u001B[38;5;124m\"\u001B[39m \u001B[38;5;129;01mnot\u001B[39;00m \u001B[38;5;129;01min\u001B[39;00m ioargs\u001B[38;5;241m.\u001B[39mmode:\n\u001B[0;32m    855\u001B[0m         \u001B[38;5;66;03m# Encoding\u001B[39;00m\n\u001B[1;32m--> 856\u001B[0m         handle \u001B[38;5;241m=\u001B[39m \u001B[38;5;28;43mopen\u001B[39;49m\u001B[43m(\u001B[49m\n\u001B[0;32m    857\u001B[0m \u001B[43m            \u001B[49m\u001B[43mhandle\u001B[49m\u001B[43m,\u001B[49m\n\u001B[0;32m    858\u001B[0m \u001B[43m            \u001B[49m\u001B[43mioargs\u001B[49m\u001B[38;5;241;43m.\u001B[39;49m\u001B[43mmode\u001B[49m\u001B[43m,\u001B[49m\n\u001B[0;32m    859\u001B[0m \u001B[43m            \u001B[49m\u001B[43mencoding\u001B[49m\u001B[38;5;241;43m=\u001B[39;49m\u001B[43mioargs\u001B[49m\u001B[38;5;241;43m.\u001B[39;49m\u001B[43mencoding\u001B[49m\u001B[43m,\u001B[49m\n\u001B[0;32m    860\u001B[0m \u001B[43m            \u001B[49m\u001B[43merrors\u001B[49m\u001B[38;5;241;43m=\u001B[39;49m\u001B[43merrors\u001B[49m\u001B[43m,\u001B[49m\n\u001B[0;32m    861\u001B[0m \u001B[43m            \u001B[49m\u001B[43mnewline\u001B[49m\u001B[38;5;241;43m=\u001B[39;49m\u001B[38;5;124;43m\"\u001B[39;49m\u001B[38;5;124;43m\"\u001B[39;49m\u001B[43m,\u001B[49m\n\u001B[0;32m    862\u001B[0m \u001B[43m        \u001B[49m\u001B[43m)\u001B[49m\n\u001B[0;32m    863\u001B[0m     \u001B[38;5;28;01melse\u001B[39;00m:\n\u001B[0;32m    864\u001B[0m         \u001B[38;5;66;03m# Binary mode\u001B[39;00m\n\u001B[0;32m    865\u001B[0m         handle \u001B[38;5;241m=\u001B[39m \u001B[38;5;28mopen\u001B[39m(handle, ioargs\u001B[38;5;241m.\u001B[39mmode)\n",
      "\u001B[1;31mOSError\u001B[0m: [Errno 22] Invalid argument: 'Date,Team1,Team2,Map,Event\\n26/2/23,Budapest Five (5),Katuna (16),inf  Inferno,CCT South Europe Series 3\\n26/2/23,Katuna (14),Budapest Five (16),anc  Ancient,CCT South Europe Series 3\\n26/2/23,Budapest Five (12),Katuna (16),ovp  Overpass,CCT South Europe Series 3\\n26/2/23,ECSTATIC (14),Astralis Talent (16),inf  Inferno,CCT North Europe Series 4 Closed Qualifier\\n26/2/23,Eternal Fire (15),fnatic (19),ovp  Overpass,ESL Pro League Season 17\\n26/2/23,fnatic (9),Eternal Fire (16),inf  Inferno,ESL Pro League Season 17\\n26/2/23,SD Invicta (16),sYnck (14),inf  Inferno,Baltic Blastoff Spring 2023\\n26/2/23,sYnck (16),SD Invicta (9),vtg  Vertigo,Baltic Blastoff Spring 2023\\n26/2/23,SD Invicta (19),sYnck (17),mrg  Mirage,Baltic Blastoff Spring 2023\\n26/2/23,Partizan (4),VOYVODA (16),mrg  Mirage,RES Season 4\\n26/2/23,VOYVODA (16),Partizan (1),nuke  Nuke,RES Season 4\\n26/2/23,Apeks Rebels (4),Websterz (16),anb  Anubis,CCT North Europe Series 4 Closed Qualifier\\n26/2/23,Websterz (13),Apeks Rebels (16),ovp  Overpass,CCT North Europe Series 4 Closed Qualifier\\n26/2/23,Apeks Rebels (13),Websterz (16),inf  Inferno,CCT North Europe Series 4 Closed Qualifier\\n26/2/23,MCE (10),Permitta (16),mrg  Mirage,Polish Pro League AMA PRO Season 4\\n26/2/23,Permitta (10),MCE (16),ovp  Overpass,Polish Pro League AMA PRO Season 4\\n26/2/23,MCE (16),Permitta (19),nuke  Nuke,Polish Pro League AMA PRO Season 4\\n26/2/23,Entropiq (16),MASONIC (13),vtg  Vertigo,CCT South Europe Series 3\\n26/2/23,Entropiq (13),MASONIC (16),nuke  Nuke,CCT South Europe Series 3\\n26/2/23,MASONIC (11),Entropiq (16),inf  Inferno,CCT South Europe Series 3\\n26/2/23,HYDRA (11),ECSTATIC (16),ovp  Overpass,ESL Challenger Melbourne 2023 Europe Open Qualifier\\n26/2/23,HYDRA (16),ECSTATIC (6),anc  Ancient,ESL Challenger Melbourne 2023 Europe Open Qualifier\\n26/2/23,ECSTATIC (16),HYDRA (14),nuke  Nuke,ESL Challenger Melbourne 2023 Europe Open Qualifier\\n26/2/23,HONORIS (16),Spirit Academy (14),inf  Inferno,ESL Challenger Melbourne 2023 Europe Open Qualifier\\n26/2/23,Spirit Academy (16),HONORIS (5),nuke  Nuke,ESL Challenger Melbourne 2023 Europe Open Qualifier\\n26/2/23,HONORIS (16),Spirit Academy (10),mrg  Mirage,ESL Challenger Melbourne 2023 Europe Open Qualifier\\n26/2/23,ex-Rapid Ninjas (13),Apeks (16),anb  Anubis,ESL Challenger Melbourne 2023 Europe Open Qualifier\\n26/2/23,Apeks (16),ex-Rapid Ninjas (12),inf  Inferno,ESL Challenger Melbourne 2023 Europe Open Qualifier\\n26/2/23,SINNERS (8),1WIN (16),mrg  Mirage,ESL Challenger Melbourne 2023 Europe Open Qualifier\\n26/2/23,1WIN (16),SINNERS (7),vtg  Vertigo,ESL Challenger Melbourne 2023 Europe Open Qualifier\\n26/2/23,GenOne (7),Astralis Talent (16),vtg  Vertigo,CCT North Europe Series 4 Closed Qualifier\\n26/2/23,GenOne (16),Astralis Talent (10),anb  Anubis,CCT North Europe Series 4 Closed Qualifier\\n26/2/23,GenOne (12),Astralis Talent (16),inf  Inferno,CCT North Europe Series 4 Closed Qualifier\\n26/2/23,iNation (16),Nexus (12),nuke  Nuke,RES Season 4\\n26/2/23,Nexus (10),iNation (16),ovp  Overpass,RES Season 4\\n26/2/23,iNation (9),Nexus (16),vtg  Vertigo,RES Season 4\\n26/2/23,EC Brugge (6),Websterz (16),inf  Inferno,CCT North Europe Series 4 Closed Qualifier\\n26/2/23,Websterz (16),EC Brugge (7),vtg  Vertigo,CCT North Europe Series 4 Closed Qualifier\\n26/2/23,Cloud9 (16),Outsiders (8),anc  Ancient,ESL Pro League Season 17\\n26/2/23,Cloud9 (14),Outsiders (16),mrg  Mirage,ESL Pro League Season 17\\n26/2/23,Outsiders (9),Cloud9 (16),vtg  Vertigo,ESL Pro League Season 17\\n26/2/23,500 (16),MOUZ NXT (14),mrg  Mirage,European Development Championship 7\\n26/2/23,500 (16),MOUZ NXT (2),anc  Ancient,European Development Championship 7\\n26/2/23,MOUZ NXT (16),500 (12),ovp  Overpass,European Development Championship 7\\n26/2/23,Twisted Minds (16),Ooredoo Thunders (12),anb  Anubis,BLAST.tv Paris Major 2023 Middle East RMR Closed Qualifier\\n26/2/23,Twisted Minds (16),Ooredoo Thunders (7),ovp  Overpass,BLAST.tv Paris Major 2023 Middle East RMR Closed Qualifier\\n26/2/23,LDLC (13),1WIN (16),ovp  Overpass,ESL Challenger Melbourne 2023 Europe Open Qualifier\\n26/2/23,ECLOT (16),Into the Breach (9),vtg  Vertigo,European Pro League Season 6\\n26/2/23,Into the Breach (11),ECLOT (16),mrg  Mirage,European Pro League Season 6\\n26/2/23,ECLOT (7),Into the Breach (16),inf  Inferno,European Pro League Season 6\\n'"
     ]
    }
   ],
   "source": [
    "from api.containers import analyze_container\n",
    "\n",
    "analyze = analyze_container.service()\n",
    "df = analyze.collect_all()\n",
    "df"
   ],
   "metadata": {
    "collapsed": false
   }
  },
  {
   "cell_type": "code",
   "execution_count": 1,
   "outputs": [
    {
     "ename": "NameError",
     "evalue": "name 'df' is not defined",
     "output_type": "error",
     "traceback": [
      "\u001B[1;31m---------------------------------------------------------------------------\u001B[0m",
      "\u001B[1;31mNameError\u001B[0m                                 Traceback (most recent call last)",
      "Cell \u001B[1;32mIn[1], line 2\u001B[0m\n\u001B[0;32m      1\u001B[0m \u001B[38;5;66;03m# Columns Team1 and Team2 has score as (19). Remove it and add it as a separate column Team1 Score and Team2 Score\u001B[39;00m\n\u001B[1;32m----> 2\u001B[0m df[\u001B[38;5;124m'\u001B[39m\u001B[38;5;124mTeam1\u001B[39m\u001B[38;5;124m'\u001B[39m] \u001B[38;5;241m=\u001B[39m \u001B[43mdf\u001B[49m[\u001B[38;5;124m'\u001B[39m\u001B[38;5;124mTeam1\u001B[39m\u001B[38;5;124m'\u001B[39m]\u001B[38;5;241m.\u001B[39mstr\u001B[38;5;241m.\u001B[39mreplace(\u001B[38;5;124mr\u001B[39m\u001B[38;5;124m'\u001B[39m\u001B[38;5;124m\\\u001B[39m\u001B[38;5;124ms\u001B[39m\u001B[38;5;124m\\\u001B[39m\u001B[38;5;124m(\u001B[39m\u001B[38;5;124m\\\u001B[39m\u001B[38;5;124md+\u001B[39m\u001B[38;5;124m\\\u001B[39m\u001B[38;5;124m)$\u001B[39m\u001B[38;5;124m'\u001B[39m, \u001B[38;5;124m'\u001B[39m\u001B[38;5;124m'\u001B[39m)    \n\u001B[0;32m      3\u001B[0m df[\u001B[38;5;124m'\u001B[39m\u001B[38;5;124mTeam2\u001B[39m\u001B[38;5;124m'\u001B[39m] \u001B[38;5;241m=\u001B[39m df[\u001B[38;5;124m'\u001B[39m\u001B[38;5;124mTeam2\u001B[39m\u001B[38;5;124m'\u001B[39m]\u001B[38;5;241m.\u001B[39mstr\u001B[38;5;241m.\u001B[39mreplace(\u001B[38;5;124mr\u001B[39m\u001B[38;5;124m'\u001B[39m\u001B[38;5;124m\\\u001B[39m\u001B[38;5;124ms\u001B[39m\u001B[38;5;124m\\\u001B[39m\u001B[38;5;124m(\u001B[39m\u001B[38;5;124m\\\u001B[39m\u001B[38;5;124md+\u001B[39m\u001B[38;5;124m\\\u001B[39m\u001B[38;5;124m)$\u001B[39m\u001B[38;5;124m'\u001B[39m, \u001B[38;5;124m'\u001B[39m\u001B[38;5;124m'\u001B[39m)\n\u001B[0;32m      4\u001B[0m df\n",
      "\u001B[1;31mNameError\u001B[0m: name 'df' is not defined"
     ]
    }
   ],
   "source": [
    "# Columns Team1 and Team2 has score as (19). Remove it and add it as a separate column Team1 Score and Team2 Score\n",
    "df['Team1'] = df['Team1'].str.replace(r'\\s\\(\\d+\\)$', '')\n",
    "df['Team2'] = df['Team2'].str.replace(r'\\s\\(\\d+\\)$', '')\n"
   ],
   "metadata": {
    "collapsed": false
   }
  },
  {
   "cell_type": "code",
   "execution_count": 14,
   "outputs": [
    {
     "data": {
      "text/plain": "            Date                Team1               Team2  \\\n0   \\n 23/2/23\\n     Let us cook (18)           9INE (18)   \n1   \\n 23/2/23\\n    Eternal Fire (16)  Evil Geniuses (14)   \n2   \\n 23/2/23\\n    Evil Geniuses (6)   Eternal Fire (16)   \n3   \\n 23/2/23\\n  Into the Breach (5)  The Prodigies (16)   \n4   \\n 23/2/23\\n            MIBR (16)            IHC (12)   \n..           ...                  ...                 ...   \n45       22/2/23              G2 (16)    Eternal Fire (9)   \n46       22/2/23    Evil Geniuses (4)         Cloud9 (16)   \n47       22/2/23          Cloud9 (16)   Evil Geniuses (5)   \n48       22/2/23         iNation (16)          FORZE (12)   \n49       22/2/23         iNation (13)          FORZE (16)   \n\n                    Map                                Event  Team1 Score  \\\n0    \\n vtg\\n Vertigo\\n  European Development Championship 7           18   \n1   \\n ovp\\n Overpass\\n             ESL Pro League Season 17           16   \n2     \\n anb\\n Anubis\\n             ESL Pro League Season 17            6   \n3     \\n anb\\n Anubis\\n         European Pro League Season 6            5   \n4    \\n inf\\n Inferno\\n             ESL Pro League Season 17           16   \n..                  ...                                  ...          ...   \n45          anb  Anubis             ESL Pro League Season 17           16   \n46          mrg  Mirage             ESL Pro League Season 17            4   \n47         inf  Inferno             ESL Pro League Season 17           16   \n48         inf  Inferno             CCT West Europe Series 1           16   \n49          anb  Anubis             CCT West Europe Series 1           13   \n\n    Team2 Score  \n0            18  \n1            14  \n2            16  \n3            16  \n4            12  \n..          ...  \n45            9  \n46           16  \n47            5  \n48           12  \n49           16  \n\n[100 rows x 7 columns]",
      "text/html": "<div>\n<style scoped>\n    .dataframe tbody tr th:only-of-type {\n        vertical-align: middle;\n    }\n\n    .dataframe tbody tr th {\n        vertical-align: top;\n    }\n\n    .dataframe thead th {\n        text-align: right;\n    }\n</style>\n<table border=\"1\" class=\"dataframe\">\n  <thead>\n    <tr style=\"text-align: right;\">\n      <th></th>\n      <th>Date</th>\n      <th>Team1</th>\n      <th>Team2</th>\n      <th>Map</th>\n      <th>Event</th>\n      <th>Team1 Score</th>\n      <th>Team2 Score</th>\n    </tr>\n  </thead>\n  <tbody>\n    <tr>\n      <th>0</th>\n      <td>\\n 23/2/23\\n</td>\n      <td>Let us cook (18)</td>\n      <td>9INE (18)</td>\n      <td>\\n vtg\\n Vertigo\\n</td>\n      <td>European Development Championship 7</td>\n      <td>18</td>\n      <td>18</td>\n    </tr>\n    <tr>\n      <th>1</th>\n      <td>\\n 23/2/23\\n</td>\n      <td>Eternal Fire (16)</td>\n      <td>Evil Geniuses (14)</td>\n      <td>\\n ovp\\n Overpass\\n</td>\n      <td>ESL Pro League Season 17</td>\n      <td>16</td>\n      <td>14</td>\n    </tr>\n    <tr>\n      <th>2</th>\n      <td>\\n 23/2/23\\n</td>\n      <td>Evil Geniuses (6)</td>\n      <td>Eternal Fire (16)</td>\n      <td>\\n anb\\n Anubis\\n</td>\n      <td>ESL Pro League Season 17</td>\n      <td>6</td>\n      <td>16</td>\n    </tr>\n    <tr>\n      <th>3</th>\n      <td>\\n 23/2/23\\n</td>\n      <td>Into the Breach (5)</td>\n      <td>The Prodigies (16)</td>\n      <td>\\n anb\\n Anubis\\n</td>\n      <td>European Pro League Season 6</td>\n      <td>5</td>\n      <td>16</td>\n    </tr>\n    <tr>\n      <th>4</th>\n      <td>\\n 23/2/23\\n</td>\n      <td>MIBR (16)</td>\n      <td>IHC (12)</td>\n      <td>\\n inf\\n Inferno\\n</td>\n      <td>ESL Pro League Season 17</td>\n      <td>16</td>\n      <td>12</td>\n    </tr>\n    <tr>\n      <th>...</th>\n      <td>...</td>\n      <td>...</td>\n      <td>...</td>\n      <td>...</td>\n      <td>...</td>\n      <td>...</td>\n      <td>...</td>\n    </tr>\n    <tr>\n      <th>45</th>\n      <td>22/2/23</td>\n      <td>G2 (16)</td>\n      <td>Eternal Fire (9)</td>\n      <td>anb  Anubis</td>\n      <td>ESL Pro League Season 17</td>\n      <td>16</td>\n      <td>9</td>\n    </tr>\n    <tr>\n      <th>46</th>\n      <td>22/2/23</td>\n      <td>Evil Geniuses (4)</td>\n      <td>Cloud9 (16)</td>\n      <td>mrg  Mirage</td>\n      <td>ESL Pro League Season 17</td>\n      <td>4</td>\n      <td>16</td>\n    </tr>\n    <tr>\n      <th>47</th>\n      <td>22/2/23</td>\n      <td>Cloud9 (16)</td>\n      <td>Evil Geniuses (5)</td>\n      <td>inf  Inferno</td>\n      <td>ESL Pro League Season 17</td>\n      <td>16</td>\n      <td>5</td>\n    </tr>\n    <tr>\n      <th>48</th>\n      <td>22/2/23</td>\n      <td>iNation (16)</td>\n      <td>FORZE (12)</td>\n      <td>inf  Inferno</td>\n      <td>CCT West Europe Series 1</td>\n      <td>16</td>\n      <td>12</td>\n    </tr>\n    <tr>\n      <th>49</th>\n      <td>22/2/23</td>\n      <td>iNation (13)</td>\n      <td>FORZE (16)</td>\n      <td>anb  Anubis</td>\n      <td>CCT West Europe Series 1</td>\n      <td>13</td>\n      <td>16</td>\n    </tr>\n  </tbody>\n</table>\n<p>100 rows × 7 columns</p>\n</div>"
     },
     "execution_count": 14,
     "metadata": {},
     "output_type": "execute_result"
    }
   ],
   "source": [
    "import re\n",
    "\n",
    "def get_score(value: str) -> int:\n",
    "    return int(re.search(r'\\((\\d+)\\)$', value).group(1))\n",
    "\n",
    "df['Team1 Score'] = list(map(get_score, df['Team1'].tolist()))\n",
    "df['Team2 Score'] = list(map(get_score, df['Team2'].tolist()))\n",
    "df"
   ],
   "metadata": {
    "collapsed": false
   }
  },
  {
   "cell_type": "code",
   "execution_count": 15,
   "outputs": [
    {
     "data": {
      "text/plain": "        Date                Team1               Team2            Map  \\\n0    23/2/23     Let us cook (18)           9INE (18)    vtg Vertigo   \n1    23/2/23    Eternal Fire (16)  Evil Geniuses (14)   ovp Overpass   \n2    23/2/23    Evil Geniuses (6)   Eternal Fire (16)     anb Anubis   \n3    23/2/23  Into the Breach (5)  The Prodigies (16)     anb Anubis   \n4    23/2/23            MIBR (16)            IHC (12)    inf Inferno   \n..       ...                  ...                 ...            ...   \n45   22/2/23              G2 (16)    Eternal Fire (9)    anb  Anubis   \n46   22/2/23    Evil Geniuses (4)         Cloud9 (16)    mrg  Mirage   \n47   22/2/23          Cloud9 (16)   Evil Geniuses (5)   inf  Inferno   \n48   22/2/23         iNation (16)          FORZE (12)   inf  Inferno   \n49   22/2/23         iNation (13)          FORZE (16)    anb  Anubis   \n\n                                  Event  Team1 Score  Team2 Score  \n0   European Development Championship 7           18           18  \n1              ESL Pro League Season 17           16           14  \n2              ESL Pro League Season 17            6           16  \n3          European Pro League Season 6            5           16  \n4              ESL Pro League Season 17           16           12  \n..                                  ...          ...          ...  \n45             ESL Pro League Season 17           16            9  \n46             ESL Pro League Season 17            4           16  \n47             ESL Pro League Season 17           16            5  \n48             CCT West Europe Series 1           16           12  \n49             CCT West Europe Series 1           13           16  \n\n[100 rows x 7 columns]",
      "text/html": "<div>\n<style scoped>\n    .dataframe tbody tr th:only-of-type {\n        vertical-align: middle;\n    }\n\n    .dataframe tbody tr th {\n        vertical-align: top;\n    }\n\n    .dataframe thead th {\n        text-align: right;\n    }\n</style>\n<table border=\"1\" class=\"dataframe\">\n  <thead>\n    <tr style=\"text-align: right;\">\n      <th></th>\n      <th>Date</th>\n      <th>Team1</th>\n      <th>Team2</th>\n      <th>Map</th>\n      <th>Event</th>\n      <th>Team1 Score</th>\n      <th>Team2 Score</th>\n    </tr>\n  </thead>\n  <tbody>\n    <tr>\n      <th>0</th>\n      <td>23/2/23</td>\n      <td>Let us cook (18)</td>\n      <td>9INE (18)</td>\n      <td>vtg Vertigo</td>\n      <td>European Development Championship 7</td>\n      <td>18</td>\n      <td>18</td>\n    </tr>\n    <tr>\n      <th>1</th>\n      <td>23/2/23</td>\n      <td>Eternal Fire (16)</td>\n      <td>Evil Geniuses (14)</td>\n      <td>ovp Overpass</td>\n      <td>ESL Pro League Season 17</td>\n      <td>16</td>\n      <td>14</td>\n    </tr>\n    <tr>\n      <th>2</th>\n      <td>23/2/23</td>\n      <td>Evil Geniuses (6)</td>\n      <td>Eternal Fire (16)</td>\n      <td>anb Anubis</td>\n      <td>ESL Pro League Season 17</td>\n      <td>6</td>\n      <td>16</td>\n    </tr>\n    <tr>\n      <th>3</th>\n      <td>23/2/23</td>\n      <td>Into the Breach (5)</td>\n      <td>The Prodigies (16)</td>\n      <td>anb Anubis</td>\n      <td>European Pro League Season 6</td>\n      <td>5</td>\n      <td>16</td>\n    </tr>\n    <tr>\n      <th>4</th>\n      <td>23/2/23</td>\n      <td>MIBR (16)</td>\n      <td>IHC (12)</td>\n      <td>inf Inferno</td>\n      <td>ESL Pro League Season 17</td>\n      <td>16</td>\n      <td>12</td>\n    </tr>\n    <tr>\n      <th>...</th>\n      <td>...</td>\n      <td>...</td>\n      <td>...</td>\n      <td>...</td>\n      <td>...</td>\n      <td>...</td>\n      <td>...</td>\n    </tr>\n    <tr>\n      <th>45</th>\n      <td>22/2/23</td>\n      <td>G2 (16)</td>\n      <td>Eternal Fire (9)</td>\n      <td>anb  Anubis</td>\n      <td>ESL Pro League Season 17</td>\n      <td>16</td>\n      <td>9</td>\n    </tr>\n    <tr>\n      <th>46</th>\n      <td>22/2/23</td>\n      <td>Evil Geniuses (4)</td>\n      <td>Cloud9 (16)</td>\n      <td>mrg  Mirage</td>\n      <td>ESL Pro League Season 17</td>\n      <td>4</td>\n      <td>16</td>\n    </tr>\n    <tr>\n      <th>47</th>\n      <td>22/2/23</td>\n      <td>Cloud9 (16)</td>\n      <td>Evil Geniuses (5)</td>\n      <td>inf  Inferno</td>\n      <td>ESL Pro League Season 17</td>\n      <td>16</td>\n      <td>5</td>\n    </tr>\n    <tr>\n      <th>48</th>\n      <td>22/2/23</td>\n      <td>iNation (16)</td>\n      <td>FORZE (12)</td>\n      <td>inf  Inferno</td>\n      <td>CCT West Europe Series 1</td>\n      <td>16</td>\n      <td>12</td>\n    </tr>\n    <tr>\n      <th>49</th>\n      <td>22/2/23</td>\n      <td>iNation (13)</td>\n      <td>FORZE (16)</td>\n      <td>anb  Anubis</td>\n      <td>CCT West Europe Series 1</td>\n      <td>13</td>\n      <td>16</td>\n    </tr>\n  </tbody>\n</table>\n<p>100 rows × 7 columns</p>\n</div>"
     },
     "execution_count": 15,
     "metadata": {},
     "output_type": "execute_result"
    }
   ],
   "source": [
    "for column in df.columns:\n",
    "    df[column].replace({r\"\\\\n\": ''}, inplace=True, regex=True)\n",
    "df"
   ],
   "metadata": {
    "collapsed": false
   }
  },
  {
   "cell_type": "code",
   "execution_count": null,
   "outputs": [],
   "source": [
    "# Remove score from team name\n",
    "\n",
    "def get_team(value: str) -> str:\n",
    "    return re.search(r'.+?(?=\\s\\()', value).group()\n",
    "\n",
    "df['Team1'] = list(map(get_team, df['Team1'].tolist()))\n",
    "df['Team2'] = list(map(get_team, df['Team2'].tolist()))\n",
    "df"
   ],
   "metadata": {
    "collapsed": false
   }
  },
  {
   "cell_type": "code",
   "execution_count": 22,
   "outputs": [],
   "source": [
    "from typing import Generator, Optional\n",
    "import itertools\n",
    "\n",
    "\n",
    "def possible_final_scores() -> Generator[int, None, None]:\n",
    "    yield from itertools.count(start=16, step=3)\n",
    "\n",
    "\n",
    "class Score(int):\n",
    "\n",
    "    def is_final(self) -> bool:\n",
    "        for score in possible_final_scores():\n",
    "            if score == self:\n",
    "                return True\n",
    "\n",
    "            if score > self:\n",
    "                break\n",
    "\n",
    "        return False\n",
    "\n",
    "    def __contains__(self, score: int) -> bool:\n",
    "        return self > score\n",
    "\n",
    "    def __or__(self, other: 'Score') -> Optional['Score']:\n",
    "        if self > other and self.is_final():\n",
    "            return self\n",
    "\n",
    "        elif self < other and other.is_final():\n",
    "            return other\n",
    "\n",
    "        return None"
   ],
   "metadata": {
    "collapsed": false
   }
  },
  {
   "cell_type": "code",
   "execution_count": 29,
   "outputs": [
    {
     "data": {
      "text/plain": "    Team1 Score  Team2 Score\n0            18           18\n1            16           14\n2             6           16\n3             5           16\n4            16           12\n..          ...          ...\n45           16            9\n46            4           16\n47           16            5\n48           16           12\n49           13           16\n\n[100 rows x 2 columns]",
      "text/html": "<div>\n<style scoped>\n    .dataframe tbody tr th:only-of-type {\n        vertical-align: middle;\n    }\n\n    .dataframe tbody tr th {\n        vertical-align: top;\n    }\n\n    .dataframe thead th {\n        text-align: right;\n    }\n</style>\n<table border=\"1\" class=\"dataframe\">\n  <thead>\n    <tr style=\"text-align: right;\">\n      <th></th>\n      <th>Team1 Score</th>\n      <th>Team2 Score</th>\n    </tr>\n  </thead>\n  <tbody>\n    <tr>\n      <th>0</th>\n      <td>18</td>\n      <td>18</td>\n    </tr>\n    <tr>\n      <th>1</th>\n      <td>16</td>\n      <td>14</td>\n    </tr>\n    <tr>\n      <th>2</th>\n      <td>6</td>\n      <td>16</td>\n    </tr>\n    <tr>\n      <th>3</th>\n      <td>5</td>\n      <td>16</td>\n    </tr>\n    <tr>\n      <th>4</th>\n      <td>16</td>\n      <td>12</td>\n    </tr>\n    <tr>\n      <th>...</th>\n      <td>...</td>\n      <td>...</td>\n    </tr>\n    <tr>\n      <th>45</th>\n      <td>16</td>\n      <td>9</td>\n    </tr>\n    <tr>\n      <th>46</th>\n      <td>4</td>\n      <td>16</td>\n    </tr>\n    <tr>\n      <th>47</th>\n      <td>16</td>\n      <td>5</td>\n    </tr>\n    <tr>\n      <th>48</th>\n      <td>16</td>\n      <td>12</td>\n    </tr>\n    <tr>\n      <th>49</th>\n      <td>13</td>\n      <td>16</td>\n    </tr>\n  </tbody>\n</table>\n<p>100 rows × 2 columns</p>\n</div>"
     },
     "execution_count": 29,
     "metadata": {},
     "output_type": "execute_result"
    }
   ],
   "source": [
    "sub = df.filter(items=['Team1 Score', 'Team2 Score'])\n",
    "sub"
   ],
   "metadata": {
    "collapsed": false
   }
  },
  {
   "cell_type": "code",
   "execution_count": 40,
   "outputs": [
    {
     "data": {
      "text/plain": "        Date                Team1               Team2            Map  \\\n0    23/2/23     Let us cook (18)           9INE (18)    vtg Vertigo   \n1    23/2/23    Eternal Fire (16)  Evil Geniuses (14)   ovp Overpass   \n2    23/2/23    Evil Geniuses (6)   Eternal Fire (16)     anb Anubis   \n3    23/2/23  Into the Breach (5)  The Prodigies (16)     anb Anubis   \n4    23/2/23            MIBR (16)            IHC (12)    inf Inferno   \n..       ...                  ...                 ...            ...   \n45   22/2/23              G2 (16)    Eternal Fire (9)    anb  Anubis   \n46   22/2/23    Evil Geniuses (4)         Cloud9 (16)    mrg  Mirage   \n47   22/2/23          Cloud9 (16)   Evil Geniuses (5)   inf  Inferno   \n48   22/2/23         iNation (16)          FORZE (12)   inf  Inferno   \n49   22/2/23         iNation (13)          FORZE (16)    anb  Anubis   \n\n                                  Event  Team1 Score  Team2 Score  Team1 Won  \\\n0   European Development Championship 7           18           18      False   \n1              ESL Pro League Season 17           16           14       True   \n2              ESL Pro League Season 17            6           16      False   \n3          European Pro League Season 6            5           16      False   \n4              ESL Pro League Season 17           16           12       True   \n..                                  ...          ...          ...        ...   \n45             ESL Pro League Season 17           16            9       True   \n46             ESL Pro League Season 17            4           16      False   \n47             ESL Pro League Season 17           16            5       True   \n48             CCT West Europe Series 1           16           12       True   \n49             CCT West Europe Series 1           13           16      False   \n\n    Team2 Won  \n0       False  \n1       False  \n2        True  \n3        True  \n4       False  \n..        ...  \n45      False  \n46       True  \n47      False  \n48      False  \n49       True  \n\n[100 rows x 9 columns]",
      "text/html": "<div>\n<style scoped>\n    .dataframe tbody tr th:only-of-type {\n        vertical-align: middle;\n    }\n\n    .dataframe tbody tr th {\n        vertical-align: top;\n    }\n\n    .dataframe thead th {\n        text-align: right;\n    }\n</style>\n<table border=\"1\" class=\"dataframe\">\n  <thead>\n    <tr style=\"text-align: right;\">\n      <th></th>\n      <th>Date</th>\n      <th>Team1</th>\n      <th>Team2</th>\n      <th>Map</th>\n      <th>Event</th>\n      <th>Team1 Score</th>\n      <th>Team2 Score</th>\n      <th>Team1 Won</th>\n      <th>Team2 Won</th>\n    </tr>\n  </thead>\n  <tbody>\n    <tr>\n      <th>0</th>\n      <td>23/2/23</td>\n      <td>Let us cook (18)</td>\n      <td>9INE (18)</td>\n      <td>vtg Vertigo</td>\n      <td>European Development Championship 7</td>\n      <td>18</td>\n      <td>18</td>\n      <td>False</td>\n      <td>False</td>\n    </tr>\n    <tr>\n      <th>1</th>\n      <td>23/2/23</td>\n      <td>Eternal Fire (16)</td>\n      <td>Evil Geniuses (14)</td>\n      <td>ovp Overpass</td>\n      <td>ESL Pro League Season 17</td>\n      <td>16</td>\n      <td>14</td>\n      <td>True</td>\n      <td>False</td>\n    </tr>\n    <tr>\n      <th>2</th>\n      <td>23/2/23</td>\n      <td>Evil Geniuses (6)</td>\n      <td>Eternal Fire (16)</td>\n      <td>anb Anubis</td>\n      <td>ESL Pro League Season 17</td>\n      <td>6</td>\n      <td>16</td>\n      <td>False</td>\n      <td>True</td>\n    </tr>\n    <tr>\n      <th>3</th>\n      <td>23/2/23</td>\n      <td>Into the Breach (5)</td>\n      <td>The Prodigies (16)</td>\n      <td>anb Anubis</td>\n      <td>European Pro League Season 6</td>\n      <td>5</td>\n      <td>16</td>\n      <td>False</td>\n      <td>True</td>\n    </tr>\n    <tr>\n      <th>4</th>\n      <td>23/2/23</td>\n      <td>MIBR (16)</td>\n      <td>IHC (12)</td>\n      <td>inf Inferno</td>\n      <td>ESL Pro League Season 17</td>\n      <td>16</td>\n      <td>12</td>\n      <td>True</td>\n      <td>False</td>\n    </tr>\n    <tr>\n      <th>...</th>\n      <td>...</td>\n      <td>...</td>\n      <td>...</td>\n      <td>...</td>\n      <td>...</td>\n      <td>...</td>\n      <td>...</td>\n      <td>...</td>\n      <td>...</td>\n    </tr>\n    <tr>\n      <th>45</th>\n      <td>22/2/23</td>\n      <td>G2 (16)</td>\n      <td>Eternal Fire (9)</td>\n      <td>anb  Anubis</td>\n      <td>ESL Pro League Season 17</td>\n      <td>16</td>\n      <td>9</td>\n      <td>True</td>\n      <td>False</td>\n    </tr>\n    <tr>\n      <th>46</th>\n      <td>22/2/23</td>\n      <td>Evil Geniuses (4)</td>\n      <td>Cloud9 (16)</td>\n      <td>mrg  Mirage</td>\n      <td>ESL Pro League Season 17</td>\n      <td>4</td>\n      <td>16</td>\n      <td>False</td>\n      <td>True</td>\n    </tr>\n    <tr>\n      <th>47</th>\n      <td>22/2/23</td>\n      <td>Cloud9 (16)</td>\n      <td>Evil Geniuses (5)</td>\n      <td>inf  Inferno</td>\n      <td>ESL Pro League Season 17</td>\n      <td>16</td>\n      <td>5</td>\n      <td>True</td>\n      <td>False</td>\n    </tr>\n    <tr>\n      <th>48</th>\n      <td>22/2/23</td>\n      <td>iNation (16)</td>\n      <td>FORZE (12)</td>\n      <td>inf  Inferno</td>\n      <td>CCT West Europe Series 1</td>\n      <td>16</td>\n      <td>12</td>\n      <td>True</td>\n      <td>False</td>\n    </tr>\n    <tr>\n      <th>49</th>\n      <td>22/2/23</td>\n      <td>iNation (13)</td>\n      <td>FORZE (16)</td>\n      <td>anb  Anubis</td>\n      <td>CCT West Europe Series 1</td>\n      <td>13</td>\n      <td>16</td>\n      <td>False</td>\n      <td>True</td>\n    </tr>\n  </tbody>\n</table>\n<p>100 rows × 9 columns</p>\n</div>"
     },
     "execution_count": 40,
     "metadata": {},
     "output_type": "execute_result"
    }
   ],
   "source": [
    "# Score(df['Team1 Score']) | Score(df['Team2 Score'])\n",
    "# del sub['Team1 Is Final']\n",
    "# del sub['Team2 Is Final']\n",
    "df['Team1 Won'] = df['Team1 Score'].map(Score.is_final)\n",
    "df['Team2 Won'] = df['Team2 Score'].map(Score.is_final)\n",
    "# sub['Match Completed'] = sub['Team1 Is Final'] | sub['Team2 Is Final']\n",
    "# sub['Match Completed'] = sub['Team1 Score'].map(Score.is_final) | sub['Team2 Score'].map(Score.is_final)\n",
    "# del sub['Match Completed']\n",
    "df"
   ],
   "metadata": {
    "collapsed": false
   }
  },
  {
   "cell_type": "code",
   "execution_count": 42,
   "outputs": [
    {
     "data": {
      "text/plain": "        Date                Team1                 Team2            Map  \\\n1    23/2/23    Eternal Fire (16)    Evil Geniuses (14)   ovp Overpass   \n2    23/2/23    Evil Geniuses (6)     Eternal Fire (16)     anb Anubis   \n3    23/2/23  Into the Breach (5)    The Prodigies (16)     anb Anubis   \n4    23/2/23            MIBR (16)              IHC (12)    inf Inferno   \n5    23/2/23   The Prodigies (11)  Into the Breach (16)     mrg Mirage   \n..       ...                  ...                   ...            ...   \n45   22/2/23              G2 (16)      Eternal Fire (9)    anb  Anubis   \n46   22/2/23    Evil Geniuses (4)           Cloud9 (16)    mrg  Mirage   \n47   22/2/23          Cloud9 (16)     Evil Geniuses (5)   inf  Inferno   \n48   22/2/23         iNation (16)            FORZE (12)   inf  Inferno   \n49   22/2/23         iNation (13)            FORZE (16)    anb  Anubis   \n\n                           Event  Team1 Score  Team2 Score  Team1 Won  \\\n1       ESL Pro League Season 17           16           14       True   \n2       ESL Pro League Season 17            6           16      False   \n3   European Pro League Season 6            5           16      False   \n4       ESL Pro League Season 17           16           12       True   \n5   European Pro League Season 6           11           16      False   \n..                           ...          ...          ...        ...   \n45      ESL Pro League Season 17           16            9       True   \n46      ESL Pro League Season 17            4           16      False   \n47      ESL Pro League Season 17           16            5       True   \n48      CCT West Europe Series 1           16           12       True   \n49      CCT West Europe Series 1           13           16      False   \n\n    Team2 Won  \n1       False  \n2        True  \n3        True  \n4       False  \n5        True  \n..        ...  \n45      False  \n46       True  \n47      False  \n48      False  \n49       True  \n\n[99 rows x 9 columns]",
      "text/html": "<div>\n<style scoped>\n    .dataframe tbody tr th:only-of-type {\n        vertical-align: middle;\n    }\n\n    .dataframe tbody tr th {\n        vertical-align: top;\n    }\n\n    .dataframe thead th {\n        text-align: right;\n    }\n</style>\n<table border=\"1\" class=\"dataframe\">\n  <thead>\n    <tr style=\"text-align: right;\">\n      <th></th>\n      <th>Date</th>\n      <th>Team1</th>\n      <th>Team2</th>\n      <th>Map</th>\n      <th>Event</th>\n      <th>Team1 Score</th>\n      <th>Team2 Score</th>\n      <th>Team1 Won</th>\n      <th>Team2 Won</th>\n    </tr>\n  </thead>\n  <tbody>\n    <tr>\n      <th>1</th>\n      <td>23/2/23</td>\n      <td>Eternal Fire (16)</td>\n      <td>Evil Geniuses (14)</td>\n      <td>ovp Overpass</td>\n      <td>ESL Pro League Season 17</td>\n      <td>16</td>\n      <td>14</td>\n      <td>True</td>\n      <td>False</td>\n    </tr>\n    <tr>\n      <th>2</th>\n      <td>23/2/23</td>\n      <td>Evil Geniuses (6)</td>\n      <td>Eternal Fire (16)</td>\n      <td>anb Anubis</td>\n      <td>ESL Pro League Season 17</td>\n      <td>6</td>\n      <td>16</td>\n      <td>False</td>\n      <td>True</td>\n    </tr>\n    <tr>\n      <th>3</th>\n      <td>23/2/23</td>\n      <td>Into the Breach (5)</td>\n      <td>The Prodigies (16)</td>\n      <td>anb Anubis</td>\n      <td>European Pro League Season 6</td>\n      <td>5</td>\n      <td>16</td>\n      <td>False</td>\n      <td>True</td>\n    </tr>\n    <tr>\n      <th>4</th>\n      <td>23/2/23</td>\n      <td>MIBR (16)</td>\n      <td>IHC (12)</td>\n      <td>inf Inferno</td>\n      <td>ESL Pro League Season 17</td>\n      <td>16</td>\n      <td>12</td>\n      <td>True</td>\n      <td>False</td>\n    </tr>\n    <tr>\n      <th>5</th>\n      <td>23/2/23</td>\n      <td>The Prodigies (11)</td>\n      <td>Into the Breach (16)</td>\n      <td>mrg Mirage</td>\n      <td>European Pro League Season 6</td>\n      <td>11</td>\n      <td>16</td>\n      <td>False</td>\n      <td>True</td>\n    </tr>\n    <tr>\n      <th>...</th>\n      <td>...</td>\n      <td>...</td>\n      <td>...</td>\n      <td>...</td>\n      <td>...</td>\n      <td>...</td>\n      <td>...</td>\n      <td>...</td>\n      <td>...</td>\n    </tr>\n    <tr>\n      <th>45</th>\n      <td>22/2/23</td>\n      <td>G2 (16)</td>\n      <td>Eternal Fire (9)</td>\n      <td>anb  Anubis</td>\n      <td>ESL Pro League Season 17</td>\n      <td>16</td>\n      <td>9</td>\n      <td>True</td>\n      <td>False</td>\n    </tr>\n    <tr>\n      <th>46</th>\n      <td>22/2/23</td>\n      <td>Evil Geniuses (4)</td>\n      <td>Cloud9 (16)</td>\n      <td>mrg  Mirage</td>\n      <td>ESL Pro League Season 17</td>\n      <td>4</td>\n      <td>16</td>\n      <td>False</td>\n      <td>True</td>\n    </tr>\n    <tr>\n      <th>47</th>\n      <td>22/2/23</td>\n      <td>Cloud9 (16)</td>\n      <td>Evil Geniuses (5)</td>\n      <td>inf  Inferno</td>\n      <td>ESL Pro League Season 17</td>\n      <td>16</td>\n      <td>5</td>\n      <td>True</td>\n      <td>False</td>\n    </tr>\n    <tr>\n      <th>48</th>\n      <td>22/2/23</td>\n      <td>iNation (16)</td>\n      <td>FORZE (12)</td>\n      <td>inf  Inferno</td>\n      <td>CCT West Europe Series 1</td>\n      <td>16</td>\n      <td>12</td>\n      <td>True</td>\n      <td>False</td>\n    </tr>\n    <tr>\n      <th>49</th>\n      <td>22/2/23</td>\n      <td>iNation (13)</td>\n      <td>FORZE (16)</td>\n      <td>anb  Anubis</td>\n      <td>CCT West Europe Series 1</td>\n      <td>13</td>\n      <td>16</td>\n      <td>False</td>\n      <td>True</td>\n    </tr>\n  </tbody>\n</table>\n<p>99 rows × 9 columns</p>\n</div>"
     },
     "execution_count": 42,
     "metadata": {},
     "output_type": "execute_result"
    }
   ],
   "source": [
    "df = df[df['Team1 Won'] | df['Team2 Won']]\n",
    "df"
   ],
   "metadata": {
    "collapsed": false
   }
  },
  {
   "cell_type": "code",
   "execution_count": null,
   "outputs": [],
   "source": [
    "teams['Team1 Won'] = teams['Team1 Score'] > teams['Team2 Score']\n",
    "teams['Team2 Won'] = teams['Team1 Score'] < teams['Team2 Score']\n",
    "teams"
   ],
   "metadata": {
    "collapsed": false
   }
  },
  {
   "cell_type": "code",
   "execution_count": null,
   "outputs": [],
   "source": [],
   "metadata": {
    "collapsed": false
   }
  },
  {
   "cell_type": "code",
   "execution_count": null,
   "outputs": [],
   "source": [
    "winners = []\n",
    "\n",
    "for index, row in teams.iterrows():\n",
    "    if row['Team1 Won']:\n",
    "        winners.append(row['Team1'])\n",
    "    else:\n",
    "        winners.append(row['Team2'])\n",
    "\n",
    "teams['Winner'] = winners\n",
    "teams"
   ],
   "metadata": {
    "collapsed": false
   }
  },
  {
   "cell_type": "code",
   "execution_count": null,
   "outputs": [],
   "source": [
    "full_teams = teams.copy(deep=True)\n",
    "teams = teams[['Date', 'Team1', 'Team2', 'Team1 Score', 'Team2 Score', 'Winner', 'Map']]\n",
    "teams"
   ],
   "metadata": {
    "collapsed": false
   }
  },
  {
   "cell_type": "code",
   "execution_count": null,
   "outputs": [],
   "source": [
    "team_1_df = teams[['Team1', 'Team1 Score', 'Winner', 'Map', 'Team2', 'Team2 Score']].rename(columns={\n",
    "    'Team1': 'Team',\n",
    "    'Team1 Score': 'Score',\n",
    "    'Team2': 'Opponent',\n",
    "    'Team2 Score': 'Opponent Score',\n",
    "})\n",
    "team_1_df['Is Winner'] = team_1_df['Team'] == team_1_df['Winner']\n",
    "\n",
    "team_2_df = teams[['Team2', 'Team2 Score', 'Winner', 'Map', 'Team1', 'Team1 Score']].rename(columns={\n",
    "    'Team2': 'Team',\n",
    "    'Team2 Score': 'Score',\n",
    "    'Team1': 'Opponent',\n",
    "    'Team1 Score': 'Opponent Score',\n",
    "})\n",
    "team_2_df['Is Winner'] = team_2_df['Team'] == team_2_df['Winner']\n",
    "\n",
    "teams = pd.concat([team_1_df, team_2_df])\n",
    "teams"
   ],
   "metadata": {
    "collapsed": false
   }
  },
  {
   "cell_type": "code",
   "execution_count": null,
   "outputs": [],
   "source": [
    "# Dump into CSV file\n",
    "\n",
    "prefix = datetime.utcnow().strftime('%d%m%Y_%H%M%S')\n",
    "\n",
    "teams.to_csv(f'../data/{prefix}_teams.csv')"
   ],
   "metadata": {
    "collapsed": false
   }
  },
  {
   "cell_type": "code",
   "execution_count": null,
   "outputs": [],
   "source": [
    "sum_teams = teams.groupby('Team').sum('Score')\n",
    "sum_teams"
   ],
   "metadata": {
    "collapsed": false
   }
  },
  {
   "cell_type": "code",
   "execution_count": null,
   "outputs": [],
   "source": [
    "sum_teams['Matches'] = teams.groupby('Team').size()\n",
    "sum_teams"
   ],
   "metadata": {
    "collapsed": false
   }
  },
  {
   "cell_type": "code",
   "execution_count": null,
   "outputs": [],
   "source": [
    "sum_teams['Winrate'] = sum_teams['Is Winner'] * 100 / sum_teams['Matches']\n",
    "sum_teams.sort_values('Matches', ascending=False)"
   ],
   "metadata": {
    "collapsed": false
   }
  },
  {
   "cell_type": "code",
   "execution_count": null,
   "outputs": [],
   "source": [
    "sum_teams[sum_teams['Matches']> 15].sort_values('Winrate', ascending=False)"
   ],
   "metadata": {
    "collapsed": false
   }
  },
  {
   "cell_type": "code",
   "execution_count": null,
   "outputs": [],
   "source": [],
   "metadata": {
    "collapsed": false
   }
  },
  {
   "cell_type": "code",
   "execution_count": null,
   "outputs": [],
   "source": [],
   "metadata": {
    "collapsed": false
   }
  },
  {
   "cell_type": "code",
   "execution_count": null,
   "outputs": [],
   "source": [],
   "metadata": {
    "collapsed": false
   }
  }
 ],
 "metadata": {
  "kernelspec": {
   "display_name": "Python 3",
   "language": "python",
   "name": "python3"
  },
  "language_info": {
   "codemirror_mode": {
    "name": "ipython",
    "version": 2
   },
   "file_extension": ".py",
   "mimetype": "text/x-python",
   "name": "python",
   "nbconvert_exporter": "python",
   "pygments_lexer": "ipython2",
   "version": "2.7.6"
  }
 },
 "nbformat": 4,
 "nbformat_minor": 0
}
