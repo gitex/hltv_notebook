{
 "cells": [
  {
   "cell_type": "code",
   "execution_count": 12,
   "metadata": {
    "collapsed": true
   },
   "outputs": [
    {
     "name": "stdout",
     "output_type": "stream",
     "text": [
      "The autoreload extension is already loaded. To reload it, use:\n",
      "  %reload_ext autoreload\n"
     ]
    },
    {
     "data": {
      "text/plain": "True"
     },
     "execution_count": 12,
     "metadata": {},
     "output_type": "execute_result"
    }
   ],
   "source": [
    "import sys\n",
    "from pathlib import Path\n",
    "\n",
    "import pandas as pd\n",
    "\n",
    "current_dir = Path('.')\n",
    "current_dir = current_dir.absolute()\n",
    "root_dir = current_dir.parent.parent\n",
    "src_dir = root_dir / 'src'\n",
    "\n",
    "sys.path.append(str(src_dir))\n",
    "\n",
    "%load_ext autoreload\n",
    "%autoreload 2\n",
    "\n",
    "from dotenv import load_dotenv\n",
    "load_dotenv(str(src_dir / '.env'))"
   ]
  },
  {
   "cell_type": "code",
   "execution_count": 13,
   "outputs": [
    {
     "name": "stderr",
     "output_type": "stream",
     "text": [
      "F:\\Projects\\hltv_notebook\\src\\infra\\data_frames\\pipeline\\matches.py:121: SettingWithCopyWarning: \n",
      "A value is trying to be set on a copy of a slice from a DataFrame.\n",
      "Try using .loc[row_indexer,col_indexer] = value instead\n",
      "\n",
      "See the caveats in the documentation: https://pandas.pydata.org/pandas-docs/stable/user_guide/indexing.html#returning-a-view-versus-a-copy\n",
      "  df[C.Winner] = winners\n",
      "F:\\Projects\\hltv_notebook\\src\\infra\\data_frames\\pipeline\\matches.py:162: SettingWithCopyWarning: \n",
      "A value is trying to be set on a copy of a slice from a DataFrame\n",
      "\n",
      "See the caveats in the documentation: https://pandas.pydata.org/pandas-docs/stable/user_guide/indexing.html#returning-a-view-versus-a-copy\n",
      "  part_df.rename(columns=dict(zip(part, new_columns)), inplace=True)\n",
      "F:\\Projects\\hltv_notebook\\src\\infra\\data_frames\\pipeline\\matches.py:163: SettingWithCopyWarning: \n",
      "A value is trying to be set on a copy of a slice from a DataFrame.\n",
      "Try using .loc[row_indexer,col_indexer] = value instead\n",
      "\n",
      "See the caveats in the documentation: https://pandas.pydata.org/pandas-docs/stable/user_guide/indexing.html#returning-a-view-versus-a-copy\n",
      "  part_df[C.IsWinner] = part_df['Team'] == part_df[C.Winner]\n",
      "F:\\Projects\\hltv_notebook\\src\\infra\\data_frames\\pipeline\\matches.py:162: SettingWithCopyWarning: \n",
      "A value is trying to be set on a copy of a slice from a DataFrame\n",
      "\n",
      "See the caveats in the documentation: https://pandas.pydata.org/pandas-docs/stable/user_guide/indexing.html#returning-a-view-versus-a-copy\n",
      "  part_df.rename(columns=dict(zip(part, new_columns)), inplace=True)\n",
      "F:\\Projects\\hltv_notebook\\src\\infra\\data_frames\\pipeline\\matches.py:163: SettingWithCopyWarning: \n",
      "A value is trying to be set on a copy of a slice from a DataFrame.\n",
      "Try using .loc[row_indexer,col_indexer] = value instead\n",
      "\n",
      "See the caveats in the documentation: https://pandas.pydata.org/pandas-docs/stable/user_guide/indexing.html#returning-a-view-versus-a-copy\n",
      "  part_df[C.IsWinner] = part_df['Team'] == part_df[C.Winner]\n"
     ]
    },
    {
     "data": {
      "text/plain": "                Team  Score       Map         Opponent  Opponent Score  \\\n0      Budapest Five      5   Inferno           Katuna              16   \n1             Katuna     14   Ancient    Budapest Five              16   \n2      Budapest Five     12  Overpass           Katuna              16   \n3           ECSTATIC     14   Inferno  Astralis Talent              16   \n4       Eternal Fire     15  Overpass           fnatic              19   \n...              ...    ...       ...              ...             ...   \n50715     Virtus.pro      7  Overpass           Spirit              16   \n50716     Virtus.pro     13     Dust2           Spirit              16   \n50717     Virtus.pro     16   Inferno           Spirit              11   \n50718         Gambit     16     Dust2            FORZE               6   \n50719          FORZE     12   Ancient           Gambit              16   \n\n          Date                                       Event  Is Winner  \n0      26/2/23                   CCT South Europe Series 3      False  \n1      26/2/23                   CCT South Europe Series 3      False  \n2      26/2/23                   CCT South Europe Series 3      False  \n3      26/2/23  CCT North Europe Series 4 Closed Qualifier      False  \n4      26/2/23                    ESL Pro League Season 17      False  \n...        ...                                         ...        ...  \n50715  29/6/21                     StarLadder CIS RMR 2021      False  \n50716  29/6/21                     StarLadder CIS RMR 2021      False  \n50717  29/6/21                     StarLadder CIS RMR 2021       True  \n50718  29/6/21                     StarLadder CIS RMR 2021       True  \n50719  29/6/21                     StarLadder CIS RMR 2021      False  \n\n[50720 rows x 8 columns]",
      "text/html": "<div>\n<style scoped>\n    .dataframe tbody tr th:only-of-type {\n        vertical-align: middle;\n    }\n\n    .dataframe tbody tr th {\n        vertical-align: top;\n    }\n\n    .dataframe thead th {\n        text-align: right;\n    }\n</style>\n<table border=\"1\" class=\"dataframe\">\n  <thead>\n    <tr style=\"text-align: right;\">\n      <th></th>\n      <th>Team</th>\n      <th>Score</th>\n      <th>Map</th>\n      <th>Opponent</th>\n      <th>Opponent Score</th>\n      <th>Date</th>\n      <th>Event</th>\n      <th>Is Winner</th>\n    </tr>\n  </thead>\n  <tbody>\n    <tr>\n      <th>0</th>\n      <td>Budapest Five</td>\n      <td>5</td>\n      <td>Inferno</td>\n      <td>Katuna</td>\n      <td>16</td>\n      <td>26/2/23</td>\n      <td>CCT South Europe Series 3</td>\n      <td>False</td>\n    </tr>\n    <tr>\n      <th>1</th>\n      <td>Katuna</td>\n      <td>14</td>\n      <td>Ancient</td>\n      <td>Budapest Five</td>\n      <td>16</td>\n      <td>26/2/23</td>\n      <td>CCT South Europe Series 3</td>\n      <td>False</td>\n    </tr>\n    <tr>\n      <th>2</th>\n      <td>Budapest Five</td>\n      <td>12</td>\n      <td>Overpass</td>\n      <td>Katuna</td>\n      <td>16</td>\n      <td>26/2/23</td>\n      <td>CCT South Europe Series 3</td>\n      <td>False</td>\n    </tr>\n    <tr>\n      <th>3</th>\n      <td>ECSTATIC</td>\n      <td>14</td>\n      <td>Inferno</td>\n      <td>Astralis Talent</td>\n      <td>16</td>\n      <td>26/2/23</td>\n      <td>CCT North Europe Series 4 Closed Qualifier</td>\n      <td>False</td>\n    </tr>\n    <tr>\n      <th>4</th>\n      <td>Eternal Fire</td>\n      <td>15</td>\n      <td>Overpass</td>\n      <td>fnatic</td>\n      <td>19</td>\n      <td>26/2/23</td>\n      <td>ESL Pro League Season 17</td>\n      <td>False</td>\n    </tr>\n    <tr>\n      <th>...</th>\n      <td>...</td>\n      <td>...</td>\n      <td>...</td>\n      <td>...</td>\n      <td>...</td>\n      <td>...</td>\n      <td>...</td>\n      <td>...</td>\n    </tr>\n    <tr>\n      <th>50715</th>\n      <td>Virtus.pro</td>\n      <td>7</td>\n      <td>Overpass</td>\n      <td>Spirit</td>\n      <td>16</td>\n      <td>29/6/21</td>\n      <td>StarLadder CIS RMR 2021</td>\n      <td>False</td>\n    </tr>\n    <tr>\n      <th>50716</th>\n      <td>Virtus.pro</td>\n      <td>13</td>\n      <td>Dust2</td>\n      <td>Spirit</td>\n      <td>16</td>\n      <td>29/6/21</td>\n      <td>StarLadder CIS RMR 2021</td>\n      <td>False</td>\n    </tr>\n    <tr>\n      <th>50717</th>\n      <td>Virtus.pro</td>\n      <td>16</td>\n      <td>Inferno</td>\n      <td>Spirit</td>\n      <td>11</td>\n      <td>29/6/21</td>\n      <td>StarLadder CIS RMR 2021</td>\n      <td>True</td>\n    </tr>\n    <tr>\n      <th>50718</th>\n      <td>Gambit</td>\n      <td>16</td>\n      <td>Dust2</td>\n      <td>FORZE</td>\n      <td>6</td>\n      <td>29/6/21</td>\n      <td>StarLadder CIS RMR 2021</td>\n      <td>True</td>\n    </tr>\n    <tr>\n      <th>50719</th>\n      <td>FORZE</td>\n      <td>12</td>\n      <td>Ancient</td>\n      <td>Gambit</td>\n      <td>16</td>\n      <td>29/6/21</td>\n      <td>StarLadder CIS RMR 2021</td>\n      <td>False</td>\n    </tr>\n  </tbody>\n</table>\n<p>50720 rows × 8 columns</p>\n</div>"
     },
     "execution_count": 13,
     "metadata": {},
     "output_type": "execute_result"
    }
   ],
   "source": [
    "from api.containers import analyze_container\n",
    "\n",
    "\n",
    "analyze = analyze_container.service()\n",
    "df = analyze.collect_all()\n",
    "df"
   ],
   "metadata": {
    "collapsed": false
   }
  },
  {
   "cell_type": "code",
   "execution_count": 14,
   "outputs": [],
   "source": [
    "class Columns:\n",
    "    TEAM = 'Team'\n",
    "    SCORE = 'Score'\n",
    "    OPPONENT = 'Opponent'\n",
    "    OPPONENT_SCORE = 'Opponent Score'\n",
    "    DATE = 'Date'\n",
    "    IS_WINNER = 'Is Winner'\n",
    "    MAP = 'Map'\n",
    "    EVENT = 'Event'"
   ],
   "metadata": {
    "collapsed": false
   }
  },
  {
   "cell_type": "code",
   "execution_count": 15,
   "outputs": [
    {
     "data": {
      "text/plain": "Is Winner          False  True \nTeam     Map                   \n00NATION Ancient    10.0   14.0\n         Anubis      0.0    1.0\n         Dust2       5.0   11.0\n         Inferno    13.0   18.0\n         Mirage     19.0   14.0\n...                  ...    ...\nzu krass Ancient     1.0    1.0\n         Inferno     1.0    0.0\n         Overpass    0.0    1.0\nГћГіr    Nuke        1.0    0.0\n         Overpass    1.0    0.0\n\n[6042 rows x 2 columns]",
      "text/html": "<div>\n<style scoped>\n    .dataframe tbody tr th:only-of-type {\n        vertical-align: middle;\n    }\n\n    .dataframe tbody tr th {\n        vertical-align: top;\n    }\n\n    .dataframe thead th {\n        text-align: right;\n    }\n</style>\n<table border=\"1\" class=\"dataframe\">\n  <thead>\n    <tr style=\"text-align: right;\">\n      <th></th>\n      <th>Is Winner</th>\n      <th>False</th>\n      <th>True</th>\n    </tr>\n    <tr>\n      <th>Team</th>\n      <th>Map</th>\n      <th></th>\n      <th></th>\n    </tr>\n  </thead>\n  <tbody>\n    <tr>\n      <th rowspan=\"5\" valign=\"top\">00NATION</th>\n      <th>Ancient</th>\n      <td>10.0</td>\n      <td>14.0</td>\n    </tr>\n    <tr>\n      <th>Anubis</th>\n      <td>0.0</td>\n      <td>1.0</td>\n    </tr>\n    <tr>\n      <th>Dust2</th>\n      <td>5.0</td>\n      <td>11.0</td>\n    </tr>\n    <tr>\n      <th>Inferno</th>\n      <td>13.0</td>\n      <td>18.0</td>\n    </tr>\n    <tr>\n      <th>Mirage</th>\n      <td>19.0</td>\n      <td>14.0</td>\n    </tr>\n    <tr>\n      <th>...</th>\n      <th>...</th>\n      <td>...</td>\n      <td>...</td>\n    </tr>\n    <tr>\n      <th rowspan=\"3\" valign=\"top\">zu krass</th>\n      <th>Ancient</th>\n      <td>1.0</td>\n      <td>1.0</td>\n    </tr>\n    <tr>\n      <th>Inferno</th>\n      <td>1.0</td>\n      <td>0.0</td>\n    </tr>\n    <tr>\n      <th>Overpass</th>\n      <td>0.0</td>\n      <td>1.0</td>\n    </tr>\n    <tr>\n      <th rowspan=\"2\" valign=\"top\">ГћГіr</th>\n      <th>Nuke</th>\n      <td>1.0</td>\n      <td>0.0</td>\n    </tr>\n    <tr>\n      <th>Overpass</th>\n      <td>1.0</td>\n      <td>0.0</td>\n    </tr>\n  </tbody>\n</table>\n<p>6042 rows × 2 columns</p>\n</div>"
     },
     "execution_count": 15,
     "metadata": {},
     "output_type": "execute_result"
    }
   ],
   "source": [
    "wins = df.groupby([Columns.TEAM, Columns.MAP, Columns.IS_WINNER]).size()\n",
    "wins = wins.unstack().fillna(0)\n",
    "wins"
   ],
   "metadata": {
    "collapsed": false
   }
  },
  {
   "cell_type": "code",
   "execution_count": 16,
   "outputs": [
    {
     "data": {
      "text/plain": "Is Winner          False  True  Total  Win Rate\nTeam     Map                                   \n00NATION Ancient    10.0  14.0   24.0  0.583333\n         Anubis      0.0   1.0    1.0  1.000000\n         Dust2       5.0  11.0   16.0  0.687500\n         Inferno    13.0  18.0   31.0  0.580645\n         Mirage     19.0  14.0   33.0  0.424242\n...                  ...   ...    ...       ...\nzu krass Ancient     1.0   1.0    2.0  0.500000\n         Inferno     1.0   0.0    1.0  0.000000\n         Overpass    0.0   1.0    1.0  1.000000\nГћГіr    Nuke        1.0   0.0    1.0  0.000000\n         Overpass    1.0   0.0    1.0  0.000000\n\n[6042 rows x 4 columns]",
      "text/html": "<div>\n<style scoped>\n    .dataframe tbody tr th:only-of-type {\n        vertical-align: middle;\n    }\n\n    .dataframe tbody tr th {\n        vertical-align: top;\n    }\n\n    .dataframe thead th {\n        text-align: right;\n    }\n</style>\n<table border=\"1\" class=\"dataframe\">\n  <thead>\n    <tr style=\"text-align: right;\">\n      <th></th>\n      <th>Is Winner</th>\n      <th>False</th>\n      <th>True</th>\n      <th>Total</th>\n      <th>Win Rate</th>\n    </tr>\n    <tr>\n      <th>Team</th>\n      <th>Map</th>\n      <th></th>\n      <th></th>\n      <th></th>\n      <th></th>\n    </tr>\n  </thead>\n  <tbody>\n    <tr>\n      <th rowspan=\"5\" valign=\"top\">00NATION</th>\n      <th>Ancient</th>\n      <td>10.0</td>\n      <td>14.0</td>\n      <td>24.0</td>\n      <td>0.583333</td>\n    </tr>\n    <tr>\n      <th>Anubis</th>\n      <td>0.0</td>\n      <td>1.0</td>\n      <td>1.0</td>\n      <td>1.000000</td>\n    </tr>\n    <tr>\n      <th>Dust2</th>\n      <td>5.0</td>\n      <td>11.0</td>\n      <td>16.0</td>\n      <td>0.687500</td>\n    </tr>\n    <tr>\n      <th>Inferno</th>\n      <td>13.0</td>\n      <td>18.0</td>\n      <td>31.0</td>\n      <td>0.580645</td>\n    </tr>\n    <tr>\n      <th>Mirage</th>\n      <td>19.0</td>\n      <td>14.0</td>\n      <td>33.0</td>\n      <td>0.424242</td>\n    </tr>\n    <tr>\n      <th>...</th>\n      <th>...</th>\n      <td>...</td>\n      <td>...</td>\n      <td>...</td>\n      <td>...</td>\n    </tr>\n    <tr>\n      <th rowspan=\"3\" valign=\"top\">zu krass</th>\n      <th>Ancient</th>\n      <td>1.0</td>\n      <td>1.0</td>\n      <td>2.0</td>\n      <td>0.500000</td>\n    </tr>\n    <tr>\n      <th>Inferno</th>\n      <td>1.0</td>\n      <td>0.0</td>\n      <td>1.0</td>\n      <td>0.000000</td>\n    </tr>\n    <tr>\n      <th>Overpass</th>\n      <td>0.0</td>\n      <td>1.0</td>\n      <td>1.0</td>\n      <td>1.000000</td>\n    </tr>\n    <tr>\n      <th rowspan=\"2\" valign=\"top\">ГћГіr</th>\n      <th>Nuke</th>\n      <td>1.0</td>\n      <td>0.0</td>\n      <td>1.0</td>\n      <td>0.000000</td>\n    </tr>\n    <tr>\n      <th>Overpass</th>\n      <td>1.0</td>\n      <td>0.0</td>\n      <td>1.0</td>\n      <td>0.000000</td>\n    </tr>\n  </tbody>\n</table>\n<p>6042 rows × 4 columns</p>\n</div>"
     },
     "execution_count": 16,
     "metadata": {},
     "output_type": "execute_result"
    }
   ],
   "source": [
    "wins['Total'] = wins[True] + wins[False]\n",
    "wins['Win Rate'] = wins[True] / wins['Total']\n",
    "wins"
   ],
   "metadata": {
    "collapsed": false
   }
  },
  {
   "cell_type": "code",
   "execution_count": 39,
   "outputs": [
    {
     "data": {
      "text/plain": "Is Winner     L   W   TG        WR\nTeam                              \n00NATION     89  87  176  0.494318\n0to100       21  32   53  0.603774\n1 JIN        11  12   23  0.521739\n100PG        17  13   30  0.433333\n10org         1   0    1  0.000000\n...          ..  ..  ...       ...\nyologang420   2   0    2  0.000000\nyur           2   5    7  0.714286\nztrfanclub    0   4    4  1.000000\nzu krass      2   2    4  0.500000\nГћГіr         2   0    2  0.000000\n\n[1320 rows x 4 columns]",
      "text/html": "<div>\n<style scoped>\n    .dataframe tbody tr th:only-of-type {\n        vertical-align: middle;\n    }\n\n    .dataframe tbody tr th {\n        vertical-align: top;\n    }\n\n    .dataframe thead th {\n        text-align: right;\n    }\n</style>\n<table border=\"1\" class=\"dataframe\">\n  <thead>\n    <tr style=\"text-align: right;\">\n      <th>Is Winner</th>\n      <th>L</th>\n      <th>W</th>\n      <th>TG</th>\n      <th>WR</th>\n    </tr>\n    <tr>\n      <th>Team</th>\n      <th></th>\n      <th></th>\n      <th></th>\n      <th></th>\n    </tr>\n  </thead>\n  <tbody>\n    <tr>\n      <th>00NATION</th>\n      <td>89</td>\n      <td>87</td>\n      <td>176</td>\n      <td>0.494318</td>\n    </tr>\n    <tr>\n      <th>0to100</th>\n      <td>21</td>\n      <td>32</td>\n      <td>53</td>\n      <td>0.603774</td>\n    </tr>\n    <tr>\n      <th>1 JIN</th>\n      <td>11</td>\n      <td>12</td>\n      <td>23</td>\n      <td>0.521739</td>\n    </tr>\n    <tr>\n      <th>100PG</th>\n      <td>17</td>\n      <td>13</td>\n      <td>30</td>\n      <td>0.433333</td>\n    </tr>\n    <tr>\n      <th>10org</th>\n      <td>1</td>\n      <td>0</td>\n      <td>1</td>\n      <td>0.000000</td>\n    </tr>\n    <tr>\n      <th>...</th>\n      <td>...</td>\n      <td>...</td>\n      <td>...</td>\n      <td>...</td>\n    </tr>\n    <tr>\n      <th>yologang420</th>\n      <td>2</td>\n      <td>0</td>\n      <td>2</td>\n      <td>0.000000</td>\n    </tr>\n    <tr>\n      <th>yur</th>\n      <td>2</td>\n      <td>5</td>\n      <td>7</td>\n      <td>0.714286</td>\n    </tr>\n    <tr>\n      <th>ztrfanclub</th>\n      <td>0</td>\n      <td>4</td>\n      <td>4</td>\n      <td>1.000000</td>\n    </tr>\n    <tr>\n      <th>zu krass</th>\n      <td>2</td>\n      <td>2</td>\n      <td>4</td>\n      <td>0.500000</td>\n    </tr>\n    <tr>\n      <th>ГћГіr</th>\n      <td>2</td>\n      <td>0</td>\n      <td>2</td>\n      <td>0.000000</td>\n    </tr>\n  </tbody>\n</table>\n<p>1320 rows × 4 columns</p>\n</div>"
     },
     "execution_count": 39,
     "metadata": {},
     "output_type": "execute_result"
    }
   ],
   "source": [
    "wins_vs_any_team = df.groupby([Columns.TEAM, Columns.IS_WINNER]).size()\n",
    "wins_vs_any_team = wins_vs_any_team.unstack().fillna(0)\n",
    "\n",
    "wins_vs_any_team['TG'] = wins_vs_any_team[True] + wins_vs_any_team[False]\n",
    "wins_vs_any_team['WR'] = wins_vs_any_team[True] / wins_vs_any_team['TG']\n",
    "\n",
    "wins_vs_any_team.rename(columns={True: 'W', False: 'L'}, inplace=True)\n",
    "\n",
    "# Loses and wins as integers\n",
    "integer_columns = ['W', 'L', 'TG']\n",
    "\n",
    "\n",
    "for column in integer_columns:\n",
    "    wins_vs_any_team[column] = wins_vs_any_team[column].astype(int)\n",
    "\n",
    "wins_vs_any_team"
   ],
   "metadata": {
    "collapsed": false
   }
  },
  {
   "cell_type": "code",
   "execution_count": 43,
   "outputs": [
    {
     "data": {
      "text/plain": "Is Winner                   W  L  TG  TWR    TTWROM    TOWROM\nTeam     Opponent Map                                        \n00NATION 1WIN     Dust2     0  2   2  0.0  0.687500  0.604167\n                  Mirage    1  0   1  1.0  0.424242  0.548387\n                  Nuke      0  2   2  0.0  0.366667  0.647887\n         4glory   Dust2     1  0   1  1.0  0.687500  0.380952\n                  Inferno   1  0   1  1.0  0.580645  0.571429\n...                        .. ..  ..  ...       ...       ...\nzu krass ZURIA    Overpass  1  0   1  1.0  1.000000  0.500000\n         iNation  Ancient   0  1   1  0.0  0.500000  0.555556\n                  Inferno   0  1   1  0.0  0.000000  0.761905\nГћГіr    DUSTY    Nuke      0  1   1  0.0  0.000000  0.666667\n                  Overpass  0  1   1  0.0  0.000000  0.333333\n\n[39282 rows x 6 columns]",
      "text/html": "<div>\n<style scoped>\n    .dataframe tbody tr th:only-of-type {\n        vertical-align: middle;\n    }\n\n    .dataframe tbody tr th {\n        vertical-align: top;\n    }\n\n    .dataframe thead th {\n        text-align: right;\n    }\n</style>\n<table border=\"1\" class=\"dataframe\">\n  <thead>\n    <tr style=\"text-align: right;\">\n      <th></th>\n      <th></th>\n      <th>Is Winner</th>\n      <th>W</th>\n      <th>L</th>\n      <th>TG</th>\n      <th>TWR</th>\n      <th>TTWROM</th>\n      <th>TOWROM</th>\n    </tr>\n    <tr>\n      <th>Team</th>\n      <th>Opponent</th>\n      <th>Map</th>\n      <th></th>\n      <th></th>\n      <th></th>\n      <th></th>\n      <th></th>\n      <th></th>\n    </tr>\n  </thead>\n  <tbody>\n    <tr>\n      <th rowspan=\"5\" valign=\"top\">00NATION</th>\n      <th rowspan=\"3\" valign=\"top\">1WIN</th>\n      <th>Dust2</th>\n      <td>0</td>\n      <td>2</td>\n      <td>2</td>\n      <td>0.0</td>\n      <td>0.687500</td>\n      <td>0.604167</td>\n    </tr>\n    <tr>\n      <th>Mirage</th>\n      <td>1</td>\n      <td>0</td>\n      <td>1</td>\n      <td>1.0</td>\n      <td>0.424242</td>\n      <td>0.548387</td>\n    </tr>\n    <tr>\n      <th>Nuke</th>\n      <td>0</td>\n      <td>2</td>\n      <td>2</td>\n      <td>0.0</td>\n      <td>0.366667</td>\n      <td>0.647887</td>\n    </tr>\n    <tr>\n      <th rowspan=\"2\" valign=\"top\">4glory</th>\n      <th>Dust2</th>\n      <td>1</td>\n      <td>0</td>\n      <td>1</td>\n      <td>1.0</td>\n      <td>0.687500</td>\n      <td>0.380952</td>\n    </tr>\n    <tr>\n      <th>Inferno</th>\n      <td>1</td>\n      <td>0</td>\n      <td>1</td>\n      <td>1.0</td>\n      <td>0.580645</td>\n      <td>0.571429</td>\n    </tr>\n    <tr>\n      <th>...</th>\n      <th>...</th>\n      <th>...</th>\n      <td>...</td>\n      <td>...</td>\n      <td>...</td>\n      <td>...</td>\n      <td>...</td>\n      <td>...</td>\n    </tr>\n    <tr>\n      <th rowspan=\"3\" valign=\"top\">zu krass</th>\n      <th>ZURIA</th>\n      <th>Overpass</th>\n      <td>1</td>\n      <td>0</td>\n      <td>1</td>\n      <td>1.0</td>\n      <td>1.000000</td>\n      <td>0.500000</td>\n    </tr>\n    <tr>\n      <th rowspan=\"2\" valign=\"top\">iNation</th>\n      <th>Ancient</th>\n      <td>0</td>\n      <td>1</td>\n      <td>1</td>\n      <td>0.0</td>\n      <td>0.500000</td>\n      <td>0.555556</td>\n    </tr>\n    <tr>\n      <th>Inferno</th>\n      <td>0</td>\n      <td>1</td>\n      <td>1</td>\n      <td>0.0</td>\n      <td>0.000000</td>\n      <td>0.761905</td>\n    </tr>\n    <tr>\n      <th rowspan=\"2\" valign=\"top\">ГћГіr</th>\n      <th rowspan=\"2\" valign=\"top\">DUSTY</th>\n      <th>Nuke</th>\n      <td>0</td>\n      <td>1</td>\n      <td>1</td>\n      <td>0.0</td>\n      <td>0.000000</td>\n      <td>0.666667</td>\n    </tr>\n    <tr>\n      <th>Overpass</th>\n      <td>0</td>\n      <td>1</td>\n      <td>1</td>\n      <td>0.0</td>\n      <td>0.000000</td>\n      <td>0.333333</td>\n    </tr>\n  </tbody>\n</table>\n<p>39282 rows × 6 columns</p>\n</div>"
     },
     "execution_count": 43,
     "metadata": {},
     "output_type": "execute_result"
    }
   ],
   "source": [
    "teams = df.groupby([Columns.TEAM, Columns.OPPONENT, Columns.MAP, Columns.IS_WINNER]).size()\n",
    "teams = teams.unstack().fillna(0)\n",
    "\n",
    "\n",
    "# TG = Total Games\n",
    "teams['TG'] = teams[True] + teams[False]\n",
    "\n",
    "# TWR = Team Win Rate\n",
    "teams['TWR'] = teams[True] / teams['TG']\n",
    "\n",
    "\n",
    "for line in teams.itertuples():\n",
    "    team, opponent, map = line.Index\n",
    "\n",
    "    # TTWROM = Total Team Win Rate On Map\n",
    "    teams.at[line.Index, 'TTWROM'] = wins.at[(team, map), 'Win Rate']\n",
    "\n",
    "    # TOWROM = Total Opponent Win Rate On Map\n",
    "    teams.at[line.Index, 'TOWROM'] = wins.at[(opponent, map), 'Win Rate']\n",
    "\n",
    "teams.rename(columns={True: 'W', False: 'L'}, inplace=True)\n",
    "\n",
    "# Loses and wins as integers\n",
    "integer_columns = ['W', 'L', 'TG']\n",
    "\n",
    "\n",
    "for column in integer_columns:\n",
    "    teams[column] = teams[column].astype(int)\n",
    "\n",
    "teams = teams[['W', 'L', 'TG', 'TWR', 'TTWROM', 'TOWROM']]\n",
    "teams"
   ],
   "metadata": {
    "collapsed": false
   }
  },
  {
   "cell_type": "code",
   "execution_count": 54,
   "outputs": [],
   "source": [
    "teams.to_csv('grouped_by_maps.csv')"
   ],
   "metadata": {
    "collapsed": false
   }
  },
  {
   "cell_type": "code",
   "execution_count": 53,
   "outputs": [
    {
     "data": {
      "text/plain": "(118, 240)"
     },
     "execution_count": 53,
     "metadata": {},
     "output_type": "execute_result"
    }
   ],
   "source": [
    "correct_amount = 0\n",
    "incorrect_amount = 0\n",
    "\n",
    "for line in teams.itertuples():\n",
    "    team, opponent, map = line.Index\n",
    "\n",
    "    if line.TG < 5:\n",
    "        continue\n",
    "\n",
    "    if line.W > line.L and line.TTWROM > line.TOWROM:\n",
    "        correct_amount += 1\n",
    "    else:\n",
    "        incorrect_amount += 1\n",
    "\n",
    "correct_amount, incorrect_amount"
   ],
   "metadata": {
    "collapsed": false
   }
  },
  {
   "cell_type": "code",
   "execution_count": 52,
   "outputs": [
    {
     "data": {
      "text/plain": "Is Winner           W         L        TG       TWR    TTWROM    TOWROM\nTeam                                                                   \n00NATION     0.608392  0.622378  1.230769  0.476107  0.490965  0.524547\n0to100       0.780488  0.512195  1.292683  0.597561  0.601213  0.482391\n1 JIN        0.521739  0.478261  1.000000  0.521739  0.521739  0.434934\n100PG        0.448276  0.586207  1.034483  0.413793  0.434483  0.488608\n10org        0.000000  1.000000  1.000000  0.000000  0.000000  0.437500\n...               ...       ...       ...       ...       ...       ...\nyologang420  0.000000  1.000000  1.000000  0.000000  0.000000  0.833333\nyur          0.714286  0.285714  1.000000  0.714286  0.714286  0.367038\nztrfanclub   1.000000  0.000000  1.000000  1.000000  1.000000  0.125000\nzu krass     0.500000  0.500000  1.000000  0.500000  0.500000  0.454365\nГћГіr        0.000000  1.000000  1.000000  0.000000  0.000000  0.500000\n\n[1320 rows x 6 columns]",
      "text/html": "<div>\n<style scoped>\n    .dataframe tbody tr th:only-of-type {\n        vertical-align: middle;\n    }\n\n    .dataframe tbody tr th {\n        vertical-align: top;\n    }\n\n    .dataframe thead th {\n        text-align: right;\n    }\n</style>\n<table border=\"1\" class=\"dataframe\">\n  <thead>\n    <tr style=\"text-align: right;\">\n      <th>Is Winner</th>\n      <th>W</th>\n      <th>L</th>\n      <th>TG</th>\n      <th>TWR</th>\n      <th>TTWROM</th>\n      <th>TOWROM</th>\n    </tr>\n    <tr>\n      <th>Team</th>\n      <th></th>\n      <th></th>\n      <th></th>\n      <th></th>\n      <th></th>\n      <th></th>\n    </tr>\n  </thead>\n  <tbody>\n    <tr>\n      <th>00NATION</th>\n      <td>0.608392</td>\n      <td>0.622378</td>\n      <td>1.230769</td>\n      <td>0.476107</td>\n      <td>0.490965</td>\n      <td>0.524547</td>\n    </tr>\n    <tr>\n      <th>0to100</th>\n      <td>0.780488</td>\n      <td>0.512195</td>\n      <td>1.292683</td>\n      <td>0.597561</td>\n      <td>0.601213</td>\n      <td>0.482391</td>\n    </tr>\n    <tr>\n      <th>1 JIN</th>\n      <td>0.521739</td>\n      <td>0.478261</td>\n      <td>1.000000</td>\n      <td>0.521739</td>\n      <td>0.521739</td>\n      <td>0.434934</td>\n    </tr>\n    <tr>\n      <th>100PG</th>\n      <td>0.448276</td>\n      <td>0.586207</td>\n      <td>1.034483</td>\n      <td>0.413793</td>\n      <td>0.434483</td>\n      <td>0.488608</td>\n    </tr>\n    <tr>\n      <th>10org</th>\n      <td>0.000000</td>\n      <td>1.000000</td>\n      <td>1.000000</td>\n      <td>0.000000</td>\n      <td>0.000000</td>\n      <td>0.437500</td>\n    </tr>\n    <tr>\n      <th>...</th>\n      <td>...</td>\n      <td>...</td>\n      <td>...</td>\n      <td>...</td>\n      <td>...</td>\n      <td>...</td>\n    </tr>\n    <tr>\n      <th>yologang420</th>\n      <td>0.000000</td>\n      <td>1.000000</td>\n      <td>1.000000</td>\n      <td>0.000000</td>\n      <td>0.000000</td>\n      <td>0.833333</td>\n    </tr>\n    <tr>\n      <th>yur</th>\n      <td>0.714286</td>\n      <td>0.285714</td>\n      <td>1.000000</td>\n      <td>0.714286</td>\n      <td>0.714286</td>\n      <td>0.367038</td>\n    </tr>\n    <tr>\n      <th>ztrfanclub</th>\n      <td>1.000000</td>\n      <td>0.000000</td>\n      <td>1.000000</td>\n      <td>1.000000</td>\n      <td>1.000000</td>\n      <td>0.125000</td>\n    </tr>\n    <tr>\n      <th>zu krass</th>\n      <td>0.500000</td>\n      <td>0.500000</td>\n      <td>1.000000</td>\n      <td>0.500000</td>\n      <td>0.500000</td>\n      <td>0.454365</td>\n    </tr>\n    <tr>\n      <th>ГћГіr</th>\n      <td>0.000000</td>\n      <td>1.000000</td>\n      <td>1.000000</td>\n      <td>0.000000</td>\n      <td>0.000000</td>\n      <td>0.500000</td>\n    </tr>\n  </tbody>\n</table>\n<p>1320 rows × 6 columns</p>\n</div>"
     },
     "execution_count": 52,
     "metadata": {},
     "output_type": "execute_result"
    }
   ],
   "source": [
    "teams.groupby([Columns.TEAM]).mean()"
   ],
   "metadata": {
    "collapsed": false
   }
  },
  {
   "cell_type": "code",
   "execution_count": null,
   "outputs": [],
   "source": [],
   "metadata": {
    "collapsed": false
   }
  }
 ],
 "metadata": {
  "kernelspec": {
   "display_name": "Python 3",
   "language": "python",
   "name": "python3"
  },
  "language_info": {
   "codemirror_mode": {
    "name": "ipython",
    "version": 2
   },
   "file_extension": ".py",
   "mimetype": "text/x-python",
   "name": "python",
   "nbconvert_exporter": "python",
   "pygments_lexer": "ipython2",
   "version": "2.7.6"
  }
 },
 "nbformat": 4,
 "nbformat_minor": 0
}
