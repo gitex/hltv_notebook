{
 "cells": [
  {
   "cell_type": "code",
   "execution_count": 1,
   "metadata": {
    "collapsed": true
   },
   "outputs": [],
   "source": [
    "import numpy as np\n",
    "import pandas as pd\n",
    "import requests"
   ]
  },
  {
   "cell_type": "code",
   "execution_count": 14,
   "outputs": [
    {
     "data": {
      "text/plain": "       Date             Team1                    Team2            Map  \\\n0   19/2/23     EG White (16)          Villainous (12)    mrg  Mirage   \n1   19/2/23          paiN (4)  caffeine marauders (16)   inf  Inferno   \n2   19/2/23  Fuscão 1500 (16)         Corinthians (11)  ovp  Overpass   \n3   19/2/23  Corinthians (14)         Fuscão 1500 (16)   vtg  Vertigo   \n4   19/2/23        ODDIK (11)                  9z (16)  ovp  Overpass   \n..      ...               ...                      ...            ...   \n45  18/2/23       Sangal (16)             MASONIC (10)  ovp  Overpass   \n46  18/2/23      Viperio (16)           PGE Turow (13)   anc  Ancient   \n47  18/2/23          LDLC (6)                  B8 (16)     nuke  Nuke   \n48  18/2/23      Anonymo (12)                JANO (16)    mrg  Mirage   \n49  18/2/23   EYEBALLERS (10)             iNation (16)    anb  Anubis   \n\n                                                Event  \n0           ESEA Winter 2023 Cash Cup 3 North America  \n1           ESEA Winter 2023 Cash Cup 3 North America  \n2   BLAST.tv Paris Major 2023 South America RMR Cl...  \n3   BLAST.tv Paris Major 2023 South America RMR Cl...  \n4   BLAST.tv Paris Major 2023 South America RMR Cl...  \n..                                                ...  \n45                European Development Championship 7  \n46  BLAST.tv Paris Major 2023 Europe RMR Closed Qu...  \n47  BLAST.tv Paris Major 2023 Europe RMR Closed Qu...  \n48  BLAST.tv Paris Major 2023 Europe RMR Closed Qu...  \n49  BLAST.tv Paris Major 2023 Europe RMR Closed Qu...  \n\n[150 rows x 5 columns]",
      "text/html": "<div>\n<style scoped>\n    .dataframe tbody tr th:only-of-type {\n        vertical-align: middle;\n    }\n\n    .dataframe tbody tr th {\n        vertical-align: top;\n    }\n\n    .dataframe thead th {\n        text-align: right;\n    }\n</style>\n<table border=\"1\" class=\"dataframe\">\n  <thead>\n    <tr style=\"text-align: right;\">\n      <th></th>\n      <th>Date</th>\n      <th>Team1</th>\n      <th>Team2</th>\n      <th>Map</th>\n      <th>Event</th>\n    </tr>\n  </thead>\n  <tbody>\n    <tr>\n      <th>0</th>\n      <td>19/2/23</td>\n      <td>EG White (16)</td>\n      <td>Villainous (12)</td>\n      <td>mrg  Mirage</td>\n      <td>ESEA Winter 2023 Cash Cup 3 North America</td>\n    </tr>\n    <tr>\n      <th>1</th>\n      <td>19/2/23</td>\n      <td>paiN (4)</td>\n      <td>caffeine marauders (16)</td>\n      <td>inf  Inferno</td>\n      <td>ESEA Winter 2023 Cash Cup 3 North America</td>\n    </tr>\n    <tr>\n      <th>2</th>\n      <td>19/2/23</td>\n      <td>Fuscão 1500 (16)</td>\n      <td>Corinthians (11)</td>\n      <td>ovp  Overpass</td>\n      <td>BLAST.tv Paris Major 2023 South America RMR Cl...</td>\n    </tr>\n    <tr>\n      <th>3</th>\n      <td>19/2/23</td>\n      <td>Corinthians (14)</td>\n      <td>Fuscão 1500 (16)</td>\n      <td>vtg  Vertigo</td>\n      <td>BLAST.tv Paris Major 2023 South America RMR Cl...</td>\n    </tr>\n    <tr>\n      <th>4</th>\n      <td>19/2/23</td>\n      <td>ODDIK (11)</td>\n      <td>9z (16)</td>\n      <td>ovp  Overpass</td>\n      <td>BLAST.tv Paris Major 2023 South America RMR Cl...</td>\n    </tr>\n    <tr>\n      <th>...</th>\n      <td>...</td>\n      <td>...</td>\n      <td>...</td>\n      <td>...</td>\n      <td>...</td>\n    </tr>\n    <tr>\n      <th>45</th>\n      <td>18/2/23</td>\n      <td>Sangal (16)</td>\n      <td>MASONIC (10)</td>\n      <td>ovp  Overpass</td>\n      <td>European Development Championship 7</td>\n    </tr>\n    <tr>\n      <th>46</th>\n      <td>18/2/23</td>\n      <td>Viperio (16)</td>\n      <td>PGE Turow (13)</td>\n      <td>anc  Ancient</td>\n      <td>BLAST.tv Paris Major 2023 Europe RMR Closed Qu...</td>\n    </tr>\n    <tr>\n      <th>47</th>\n      <td>18/2/23</td>\n      <td>LDLC (6)</td>\n      <td>B8 (16)</td>\n      <td>nuke  Nuke</td>\n      <td>BLAST.tv Paris Major 2023 Europe RMR Closed Qu...</td>\n    </tr>\n    <tr>\n      <th>48</th>\n      <td>18/2/23</td>\n      <td>Anonymo (12)</td>\n      <td>JANO (16)</td>\n      <td>mrg  Mirage</td>\n      <td>BLAST.tv Paris Major 2023 Europe RMR Closed Qu...</td>\n    </tr>\n    <tr>\n      <th>49</th>\n      <td>18/2/23</td>\n      <td>EYEBALLERS (10)</td>\n      <td>iNation (16)</td>\n      <td>anb  Anubis</td>\n      <td>BLAST.tv Paris Major 2023 Europe RMR Closed Qu...</td>\n    </tr>\n  </tbody>\n</table>\n<p>150 rows × 5 columns</p>\n</div>"
     },
     "execution_count": 14,
     "metadata": {},
     "output_type": "execute_result"
    }
   ],
   "source": [
    "def url_from_page(page: int) -> str:\n",
    "    offset = (page - 1) * 50\n",
    "    return f\"https://www.hltv.org/stats/matches?startDate=all&offset={offset}\"\n",
    "\n",
    "data_frames = []\n",
    "\n",
    "for page in range(1, 4):\n",
    "    url = url_from_page(page)\n",
    "\n",
    "    response = requests.get(url)\n",
    "\n",
    "    df = pd.read_html(response.text)\n",
    "    data_frames.append(pd.concat(df))\n",
    "\n",
    "teams = pd.concat(data_frames)\n",
    "teams"
   ],
   "metadata": {
    "collapsed": false,
    "pycharm": {
     "name": "#%%\n"
    }
   }
  },
  {
   "cell_type": "code",
   "execution_count": 45,
   "outputs": [],
   "source": [
    "import re\n",
    "\n",
    "def get_score(value: str) -> int:\n",
    "    return int(re.search(r'\\((\\d+)\\)', value).group(1))\n",
    "\n",
    "teams['Team1 Score'] = list(map(get_score, teams['Team1'].tolist()))\n",
    "teams['Team2 Score'] = list(map(get_score, teams['Team2'].tolist()))"
   ],
   "metadata": {
    "collapsed": false,
    "pycharm": {
     "name": "#%%\n"
    }
   }
  },
  {
   "cell_type": "code",
   "execution_count": 52,
   "outputs": [
    {
     "data": {
      "text/plain": "       Date        Team1               Team2            Map  \\\n0   19/2/23     EG White          Villainous    mrg  Mirage   \n1   19/2/23         paiN  caffeine marauders   inf  Inferno   \n2   19/2/23  Fuscão 1500         Corinthians  ovp  Overpass   \n3   19/2/23  Corinthians         Fuscão 1500   vtg  Vertigo   \n4   19/2/23        ODDIK                  9z  ovp  Overpass   \n..      ...          ...                 ...            ...   \n45  18/2/23       Sangal             MASONIC  ovp  Overpass   \n46  18/2/23      Viperio           PGE Turow   anc  Ancient   \n47  18/2/23         LDLC                  B8     nuke  Nuke   \n48  18/2/23      Anonymo                JANO    mrg  Mirage   \n49  18/2/23   EYEBALLERS             iNation    anb  Anubis   \n\n                                                Event  Team1 Score  \\\n0           ESEA Winter 2023 Cash Cup 3 North America           16   \n1           ESEA Winter 2023 Cash Cup 3 North America            4   \n2   BLAST.tv Paris Major 2023 South America RMR Cl...           16   \n3   BLAST.tv Paris Major 2023 South America RMR Cl...           14   \n4   BLAST.tv Paris Major 2023 South America RMR Cl...           11   \n..                                                ...          ...   \n45                European Development Championship 7           16   \n46  BLAST.tv Paris Major 2023 Europe RMR Closed Qu...           16   \n47  BLAST.tv Paris Major 2023 Europe RMR Closed Qu...            6   \n48  BLAST.tv Paris Major 2023 Europe RMR Closed Qu...           12   \n49  BLAST.tv Paris Major 2023 Europe RMR Closed Qu...           10   \n\n    Team2 Score  Team1 Won  Team2 Won  \n0            12       True      False  \n1            16      False       True  \n2            11       True      False  \n3            16      False       True  \n4            16      False       True  \n..          ...        ...        ...  \n45           10       True      False  \n46           13       True      False  \n47           16      False       True  \n48           16      False       True  \n49           16      False       True  \n\n[150 rows x 9 columns]",
      "text/html": "<div>\n<style scoped>\n    .dataframe tbody tr th:only-of-type {\n        vertical-align: middle;\n    }\n\n    .dataframe tbody tr th {\n        vertical-align: top;\n    }\n\n    .dataframe thead th {\n        text-align: right;\n    }\n</style>\n<table border=\"1\" class=\"dataframe\">\n  <thead>\n    <tr style=\"text-align: right;\">\n      <th></th>\n      <th>Date</th>\n      <th>Team1</th>\n      <th>Team2</th>\n      <th>Map</th>\n      <th>Event</th>\n      <th>Team1 Score</th>\n      <th>Team2 Score</th>\n      <th>Team1 Won</th>\n      <th>Team2 Won</th>\n    </tr>\n  </thead>\n  <tbody>\n    <tr>\n      <th>0</th>\n      <td>19/2/23</td>\n      <td>EG White</td>\n      <td>Villainous</td>\n      <td>mrg  Mirage</td>\n      <td>ESEA Winter 2023 Cash Cup 3 North America</td>\n      <td>16</td>\n      <td>12</td>\n      <td>True</td>\n      <td>False</td>\n    </tr>\n    <tr>\n      <th>1</th>\n      <td>19/2/23</td>\n      <td>paiN</td>\n      <td>caffeine marauders</td>\n      <td>inf  Inferno</td>\n      <td>ESEA Winter 2023 Cash Cup 3 North America</td>\n      <td>4</td>\n      <td>16</td>\n      <td>False</td>\n      <td>True</td>\n    </tr>\n    <tr>\n      <th>2</th>\n      <td>19/2/23</td>\n      <td>Fuscão 1500</td>\n      <td>Corinthians</td>\n      <td>ovp  Overpass</td>\n      <td>BLAST.tv Paris Major 2023 South America RMR Cl...</td>\n      <td>16</td>\n      <td>11</td>\n      <td>True</td>\n      <td>False</td>\n    </tr>\n    <tr>\n      <th>3</th>\n      <td>19/2/23</td>\n      <td>Corinthians</td>\n      <td>Fuscão 1500</td>\n      <td>vtg  Vertigo</td>\n      <td>BLAST.tv Paris Major 2023 South America RMR Cl...</td>\n      <td>14</td>\n      <td>16</td>\n      <td>False</td>\n      <td>True</td>\n    </tr>\n    <tr>\n      <th>4</th>\n      <td>19/2/23</td>\n      <td>ODDIK</td>\n      <td>9z</td>\n      <td>ovp  Overpass</td>\n      <td>BLAST.tv Paris Major 2023 South America RMR Cl...</td>\n      <td>11</td>\n      <td>16</td>\n      <td>False</td>\n      <td>True</td>\n    </tr>\n    <tr>\n      <th>...</th>\n      <td>...</td>\n      <td>...</td>\n      <td>...</td>\n      <td>...</td>\n      <td>...</td>\n      <td>...</td>\n      <td>...</td>\n      <td>...</td>\n      <td>...</td>\n    </tr>\n    <tr>\n      <th>45</th>\n      <td>18/2/23</td>\n      <td>Sangal</td>\n      <td>MASONIC</td>\n      <td>ovp  Overpass</td>\n      <td>European Development Championship 7</td>\n      <td>16</td>\n      <td>10</td>\n      <td>True</td>\n      <td>False</td>\n    </tr>\n    <tr>\n      <th>46</th>\n      <td>18/2/23</td>\n      <td>Viperio</td>\n      <td>PGE Turow</td>\n      <td>anc  Ancient</td>\n      <td>BLAST.tv Paris Major 2023 Europe RMR Closed Qu...</td>\n      <td>16</td>\n      <td>13</td>\n      <td>True</td>\n      <td>False</td>\n    </tr>\n    <tr>\n      <th>47</th>\n      <td>18/2/23</td>\n      <td>LDLC</td>\n      <td>B8</td>\n      <td>nuke  Nuke</td>\n      <td>BLAST.tv Paris Major 2023 Europe RMR Closed Qu...</td>\n      <td>6</td>\n      <td>16</td>\n      <td>False</td>\n      <td>True</td>\n    </tr>\n    <tr>\n      <th>48</th>\n      <td>18/2/23</td>\n      <td>Anonymo</td>\n      <td>JANO</td>\n      <td>mrg  Mirage</td>\n      <td>BLAST.tv Paris Major 2023 Europe RMR Closed Qu...</td>\n      <td>12</td>\n      <td>16</td>\n      <td>False</td>\n      <td>True</td>\n    </tr>\n    <tr>\n      <th>49</th>\n      <td>18/2/23</td>\n      <td>EYEBALLERS</td>\n      <td>iNation</td>\n      <td>anb  Anubis</td>\n      <td>BLAST.tv Paris Major 2023 Europe RMR Closed Qu...</td>\n      <td>10</td>\n      <td>16</td>\n      <td>False</td>\n      <td>True</td>\n    </tr>\n  </tbody>\n</table>\n<p>150 rows × 9 columns</p>\n</div>"
     },
     "execution_count": 52,
     "metadata": {},
     "output_type": "execute_result"
    }
   ],
   "source": [
    "# Remove score from team name\n",
    "\n",
    "def get_team(value: str) -> str:\n",
    "    return re.search(r'.+?(?=\\s\\()', value).group()\n",
    "\n",
    "teams['Team1'] = list(map(get_team, teams['Team1'].tolist()))\n",
    "teams['Team2'] = list(map(get_team, teams['Team2'].tolist()))\n",
    "teams"
   ],
   "metadata": {
    "collapsed": false,
    "pycharm": {
     "name": "#%%\n"
    }
   }
  },
  {
   "cell_type": "code",
   "execution_count": 53,
   "outputs": [
    {
     "data": {
      "text/plain": "       Date        Team1               Team2            Map  \\\n0   19/2/23     EG White          Villainous    mrg  Mirage   \n1   19/2/23         paiN  caffeine marauders   inf  Inferno   \n2   19/2/23  Fuscão 1500         Corinthians  ovp  Overpass   \n3   19/2/23  Corinthians         Fuscão 1500   vtg  Vertigo   \n4   19/2/23        ODDIK                  9z  ovp  Overpass   \n..      ...          ...                 ...            ...   \n45  18/2/23       Sangal             MASONIC  ovp  Overpass   \n46  18/2/23      Viperio           PGE Turow   anc  Ancient   \n47  18/2/23         LDLC                  B8     nuke  Nuke   \n48  18/2/23      Anonymo                JANO    mrg  Mirage   \n49  18/2/23   EYEBALLERS             iNation    anb  Anubis   \n\n                                                Event  Team1 Score  \\\n0           ESEA Winter 2023 Cash Cup 3 North America           16   \n1           ESEA Winter 2023 Cash Cup 3 North America            4   \n2   BLAST.tv Paris Major 2023 South America RMR Cl...           16   \n3   BLAST.tv Paris Major 2023 South America RMR Cl...           14   \n4   BLAST.tv Paris Major 2023 South America RMR Cl...           11   \n..                                                ...          ...   \n45                European Development Championship 7           16   \n46  BLAST.tv Paris Major 2023 Europe RMR Closed Qu...           16   \n47  BLAST.tv Paris Major 2023 Europe RMR Closed Qu...            6   \n48  BLAST.tv Paris Major 2023 Europe RMR Closed Qu...           12   \n49  BLAST.tv Paris Major 2023 Europe RMR Closed Qu...           10   \n\n    Team2 Score  Team1 Won  Team2 Won  \n0            12       True      False  \n1            16      False       True  \n2            11       True      False  \n3            16      False       True  \n4            16      False       True  \n..          ...        ...        ...  \n45           10       True      False  \n46           13       True      False  \n47           16      False       True  \n48           16      False       True  \n49           16      False       True  \n\n[150 rows x 9 columns]",
      "text/html": "<div>\n<style scoped>\n    .dataframe tbody tr th:only-of-type {\n        vertical-align: middle;\n    }\n\n    .dataframe tbody tr th {\n        vertical-align: top;\n    }\n\n    .dataframe thead th {\n        text-align: right;\n    }\n</style>\n<table border=\"1\" class=\"dataframe\">\n  <thead>\n    <tr style=\"text-align: right;\">\n      <th></th>\n      <th>Date</th>\n      <th>Team1</th>\n      <th>Team2</th>\n      <th>Map</th>\n      <th>Event</th>\n      <th>Team1 Score</th>\n      <th>Team2 Score</th>\n      <th>Team1 Won</th>\n      <th>Team2 Won</th>\n    </tr>\n  </thead>\n  <tbody>\n    <tr>\n      <th>0</th>\n      <td>19/2/23</td>\n      <td>EG White</td>\n      <td>Villainous</td>\n      <td>mrg  Mirage</td>\n      <td>ESEA Winter 2023 Cash Cup 3 North America</td>\n      <td>16</td>\n      <td>12</td>\n      <td>True</td>\n      <td>False</td>\n    </tr>\n    <tr>\n      <th>1</th>\n      <td>19/2/23</td>\n      <td>paiN</td>\n      <td>caffeine marauders</td>\n      <td>inf  Inferno</td>\n      <td>ESEA Winter 2023 Cash Cup 3 North America</td>\n      <td>4</td>\n      <td>16</td>\n      <td>False</td>\n      <td>True</td>\n    </tr>\n    <tr>\n      <th>2</th>\n      <td>19/2/23</td>\n      <td>Fuscão 1500</td>\n      <td>Corinthians</td>\n      <td>ovp  Overpass</td>\n      <td>BLAST.tv Paris Major 2023 South America RMR Cl...</td>\n      <td>16</td>\n      <td>11</td>\n      <td>True</td>\n      <td>False</td>\n    </tr>\n    <tr>\n      <th>3</th>\n      <td>19/2/23</td>\n      <td>Corinthians</td>\n      <td>Fuscão 1500</td>\n      <td>vtg  Vertigo</td>\n      <td>BLAST.tv Paris Major 2023 South America RMR Cl...</td>\n      <td>14</td>\n      <td>16</td>\n      <td>False</td>\n      <td>True</td>\n    </tr>\n    <tr>\n      <th>4</th>\n      <td>19/2/23</td>\n      <td>ODDIK</td>\n      <td>9z</td>\n      <td>ovp  Overpass</td>\n      <td>BLAST.tv Paris Major 2023 South America RMR Cl...</td>\n      <td>11</td>\n      <td>16</td>\n      <td>False</td>\n      <td>True</td>\n    </tr>\n    <tr>\n      <th>...</th>\n      <td>...</td>\n      <td>...</td>\n      <td>...</td>\n      <td>...</td>\n      <td>...</td>\n      <td>...</td>\n      <td>...</td>\n      <td>...</td>\n      <td>...</td>\n    </tr>\n    <tr>\n      <th>45</th>\n      <td>18/2/23</td>\n      <td>Sangal</td>\n      <td>MASONIC</td>\n      <td>ovp  Overpass</td>\n      <td>European Development Championship 7</td>\n      <td>16</td>\n      <td>10</td>\n      <td>True</td>\n      <td>False</td>\n    </tr>\n    <tr>\n      <th>46</th>\n      <td>18/2/23</td>\n      <td>Viperio</td>\n      <td>PGE Turow</td>\n      <td>anc  Ancient</td>\n      <td>BLAST.tv Paris Major 2023 Europe RMR Closed Qu...</td>\n      <td>16</td>\n      <td>13</td>\n      <td>True</td>\n      <td>False</td>\n    </tr>\n    <tr>\n      <th>47</th>\n      <td>18/2/23</td>\n      <td>LDLC</td>\n      <td>B8</td>\n      <td>nuke  Nuke</td>\n      <td>BLAST.tv Paris Major 2023 Europe RMR Closed Qu...</td>\n      <td>6</td>\n      <td>16</td>\n      <td>False</td>\n      <td>True</td>\n    </tr>\n    <tr>\n      <th>48</th>\n      <td>18/2/23</td>\n      <td>Anonymo</td>\n      <td>JANO</td>\n      <td>mrg  Mirage</td>\n      <td>BLAST.tv Paris Major 2023 Europe RMR Closed Qu...</td>\n      <td>12</td>\n      <td>16</td>\n      <td>False</td>\n      <td>True</td>\n    </tr>\n    <tr>\n      <th>49</th>\n      <td>18/2/23</td>\n      <td>EYEBALLERS</td>\n      <td>iNation</td>\n      <td>anb  Anubis</td>\n      <td>BLAST.tv Paris Major 2023 Europe RMR Closed Qu...</td>\n      <td>10</td>\n      <td>16</td>\n      <td>False</td>\n      <td>True</td>\n    </tr>\n  </tbody>\n</table>\n<p>150 rows × 9 columns</p>\n</div>"
     },
     "execution_count": 53,
     "metadata": {},
     "output_type": "execute_result"
    }
   ],
   "source": [
    "teams['Team1 Won'] = teams['Team1 Score'] > teams['Team2 Score']\n",
    "teams['Team2 Won'] = teams['Team1 Score'] < teams['Team2 Score']\n",
    "teams"
   ],
   "metadata": {
    "collapsed": false,
    "pycharm": {
     "name": "#%%\n"
    }
   }
  },
  {
   "cell_type": "code",
   "execution_count": null,
   "outputs": [],
   "source": [],
   "metadata": {
    "collapsed": false,
    "pycharm": {
     "name": "#%%\n"
    }
   }
  },
  {
   "cell_type": "code",
   "execution_count": 56,
   "outputs": [
    {
     "data": {
      "text/plain": "       Date        Team1               Team2            Map  \\\n0   19/2/23     EG White          Villainous    mrg  Mirage   \n1   19/2/23         paiN  caffeine marauders   inf  Inferno   \n2   19/2/23  Fuscão 1500         Corinthians  ovp  Overpass   \n3   19/2/23  Corinthians         Fuscão 1500   vtg  Vertigo   \n4   19/2/23        ODDIK                  9z  ovp  Overpass   \n..      ...          ...                 ...            ...   \n45  18/2/23       Sangal             MASONIC  ovp  Overpass   \n46  18/2/23      Viperio           PGE Turow   anc  Ancient   \n47  18/2/23         LDLC                  B8     nuke  Nuke   \n48  18/2/23      Anonymo                JANO    mrg  Mirage   \n49  18/2/23   EYEBALLERS             iNation    anb  Anubis   \n\n                                                Event  Team1 Score  \\\n0           ESEA Winter 2023 Cash Cup 3 North America           16   \n1           ESEA Winter 2023 Cash Cup 3 North America            4   \n2   BLAST.tv Paris Major 2023 South America RMR Cl...           16   \n3   BLAST.tv Paris Major 2023 South America RMR Cl...           14   \n4   BLAST.tv Paris Major 2023 South America RMR Cl...           11   \n..                                                ...          ...   \n45                European Development Championship 7           16   \n46  BLAST.tv Paris Major 2023 Europe RMR Closed Qu...           16   \n47  BLAST.tv Paris Major 2023 Europe RMR Closed Qu...            6   \n48  BLAST.tv Paris Major 2023 Europe RMR Closed Qu...           12   \n49  BLAST.tv Paris Major 2023 Europe RMR Closed Qu...           10   \n\n    Team2 Score  Team1 Won  Team2 Won              Winner  \n0            12       True      False            EG White  \n1            16      False       True  caffeine marauders  \n2            11       True      False         Fuscão 1500  \n3            16      False       True         Fuscão 1500  \n4            16      False       True                  9z  \n..          ...        ...        ...                 ...  \n45           10       True      False              Sangal  \n46           13       True      False             Viperio  \n47           16      False       True                  B8  \n48           16      False       True                JANO  \n49           16      False       True             iNation  \n\n[150 rows x 10 columns]",
      "text/html": "<div>\n<style scoped>\n    .dataframe tbody tr th:only-of-type {\n        vertical-align: middle;\n    }\n\n    .dataframe tbody tr th {\n        vertical-align: top;\n    }\n\n    .dataframe thead th {\n        text-align: right;\n    }\n</style>\n<table border=\"1\" class=\"dataframe\">\n  <thead>\n    <tr style=\"text-align: right;\">\n      <th></th>\n      <th>Date</th>\n      <th>Team1</th>\n      <th>Team2</th>\n      <th>Map</th>\n      <th>Event</th>\n      <th>Team1 Score</th>\n      <th>Team2 Score</th>\n      <th>Team1 Won</th>\n      <th>Team2 Won</th>\n      <th>Winner</th>\n    </tr>\n  </thead>\n  <tbody>\n    <tr>\n      <th>0</th>\n      <td>19/2/23</td>\n      <td>EG White</td>\n      <td>Villainous</td>\n      <td>mrg  Mirage</td>\n      <td>ESEA Winter 2023 Cash Cup 3 North America</td>\n      <td>16</td>\n      <td>12</td>\n      <td>True</td>\n      <td>False</td>\n      <td>EG White</td>\n    </tr>\n    <tr>\n      <th>1</th>\n      <td>19/2/23</td>\n      <td>paiN</td>\n      <td>caffeine marauders</td>\n      <td>inf  Inferno</td>\n      <td>ESEA Winter 2023 Cash Cup 3 North America</td>\n      <td>4</td>\n      <td>16</td>\n      <td>False</td>\n      <td>True</td>\n      <td>caffeine marauders</td>\n    </tr>\n    <tr>\n      <th>2</th>\n      <td>19/2/23</td>\n      <td>Fuscão 1500</td>\n      <td>Corinthians</td>\n      <td>ovp  Overpass</td>\n      <td>BLAST.tv Paris Major 2023 South America RMR Cl...</td>\n      <td>16</td>\n      <td>11</td>\n      <td>True</td>\n      <td>False</td>\n      <td>Fuscão 1500</td>\n    </tr>\n    <tr>\n      <th>3</th>\n      <td>19/2/23</td>\n      <td>Corinthians</td>\n      <td>Fuscão 1500</td>\n      <td>vtg  Vertigo</td>\n      <td>BLAST.tv Paris Major 2023 South America RMR Cl...</td>\n      <td>14</td>\n      <td>16</td>\n      <td>False</td>\n      <td>True</td>\n      <td>Fuscão 1500</td>\n    </tr>\n    <tr>\n      <th>4</th>\n      <td>19/2/23</td>\n      <td>ODDIK</td>\n      <td>9z</td>\n      <td>ovp  Overpass</td>\n      <td>BLAST.tv Paris Major 2023 South America RMR Cl...</td>\n      <td>11</td>\n      <td>16</td>\n      <td>False</td>\n      <td>True</td>\n      <td>9z</td>\n    </tr>\n    <tr>\n      <th>...</th>\n      <td>...</td>\n      <td>...</td>\n      <td>...</td>\n      <td>...</td>\n      <td>...</td>\n      <td>...</td>\n      <td>...</td>\n      <td>...</td>\n      <td>...</td>\n      <td>...</td>\n    </tr>\n    <tr>\n      <th>45</th>\n      <td>18/2/23</td>\n      <td>Sangal</td>\n      <td>MASONIC</td>\n      <td>ovp  Overpass</td>\n      <td>European Development Championship 7</td>\n      <td>16</td>\n      <td>10</td>\n      <td>True</td>\n      <td>False</td>\n      <td>Sangal</td>\n    </tr>\n    <tr>\n      <th>46</th>\n      <td>18/2/23</td>\n      <td>Viperio</td>\n      <td>PGE Turow</td>\n      <td>anc  Ancient</td>\n      <td>BLAST.tv Paris Major 2023 Europe RMR Closed Qu...</td>\n      <td>16</td>\n      <td>13</td>\n      <td>True</td>\n      <td>False</td>\n      <td>Viperio</td>\n    </tr>\n    <tr>\n      <th>47</th>\n      <td>18/2/23</td>\n      <td>LDLC</td>\n      <td>B8</td>\n      <td>nuke  Nuke</td>\n      <td>BLAST.tv Paris Major 2023 Europe RMR Closed Qu...</td>\n      <td>6</td>\n      <td>16</td>\n      <td>False</td>\n      <td>True</td>\n      <td>B8</td>\n    </tr>\n    <tr>\n      <th>48</th>\n      <td>18/2/23</td>\n      <td>Anonymo</td>\n      <td>JANO</td>\n      <td>mrg  Mirage</td>\n      <td>BLAST.tv Paris Major 2023 Europe RMR Closed Qu...</td>\n      <td>12</td>\n      <td>16</td>\n      <td>False</td>\n      <td>True</td>\n      <td>JANO</td>\n    </tr>\n    <tr>\n      <th>49</th>\n      <td>18/2/23</td>\n      <td>EYEBALLERS</td>\n      <td>iNation</td>\n      <td>anb  Anubis</td>\n      <td>BLAST.tv Paris Major 2023 Europe RMR Closed Qu...</td>\n      <td>10</td>\n      <td>16</td>\n      <td>False</td>\n      <td>True</td>\n      <td>iNation</td>\n    </tr>\n  </tbody>\n</table>\n<p>150 rows × 10 columns</p>\n</div>"
     },
     "execution_count": 56,
     "metadata": {},
     "output_type": "execute_result"
    }
   ],
   "source": [
    "winners = []\n",
    "\n",
    "for index, row in teams.iterrows():\n",
    "    if row['Team1 Won']:\n",
    "        winners.append(row['Team1'])\n",
    "    else:\n",
    "        winners.append(row['Team2'])\n",
    "\n",
    "teams['Winner'] = winners\n",
    "teams"
   ],
   "metadata": {
    "collapsed": false,
    "pycharm": {
     "name": "#%%\n"
    }
   }
  },
  {
   "cell_type": "code",
   "execution_count": 57,
   "outputs": [
    {
     "data": {
      "text/plain": "          Team1               Team2  Team1 Score  Team2 Score  \\\n0      EG White          Villainous           16           12   \n1          paiN  caffeine marauders            4           16   \n2   Fuscão 1500         Corinthians           16           11   \n3   Corinthians         Fuscão 1500           14           16   \n4         ODDIK                  9z           11           16   \n..          ...                 ...          ...          ...   \n45       Sangal             MASONIC           16           10   \n46      Viperio           PGE Turow           16           13   \n47         LDLC                  B8            6           16   \n48      Anonymo                JANO           12           16   \n49   EYEBALLERS             iNation           10           16   \n\n                Winner            Map  \n0             EG White    mrg  Mirage  \n1   caffeine marauders   inf  Inferno  \n2          Fuscão 1500  ovp  Overpass  \n3          Fuscão 1500   vtg  Vertigo  \n4                   9z  ovp  Overpass  \n..                 ...            ...  \n45              Sangal  ovp  Overpass  \n46             Viperio   anc  Ancient  \n47                  B8     nuke  Nuke  \n48                JANO    mrg  Mirage  \n49             iNation    anb  Anubis  \n\n[150 rows x 6 columns]",
      "text/html": "<div>\n<style scoped>\n    .dataframe tbody tr th:only-of-type {\n        vertical-align: middle;\n    }\n\n    .dataframe tbody tr th {\n        vertical-align: top;\n    }\n\n    .dataframe thead th {\n        text-align: right;\n    }\n</style>\n<table border=\"1\" class=\"dataframe\">\n  <thead>\n    <tr style=\"text-align: right;\">\n      <th></th>\n      <th>Team1</th>\n      <th>Team2</th>\n      <th>Team1 Score</th>\n      <th>Team2 Score</th>\n      <th>Winner</th>\n      <th>Map</th>\n    </tr>\n  </thead>\n  <tbody>\n    <tr>\n      <th>0</th>\n      <td>EG White</td>\n      <td>Villainous</td>\n      <td>16</td>\n      <td>12</td>\n      <td>EG White</td>\n      <td>mrg  Mirage</td>\n    </tr>\n    <tr>\n      <th>1</th>\n      <td>paiN</td>\n      <td>caffeine marauders</td>\n      <td>4</td>\n      <td>16</td>\n      <td>caffeine marauders</td>\n      <td>inf  Inferno</td>\n    </tr>\n    <tr>\n      <th>2</th>\n      <td>Fuscão 1500</td>\n      <td>Corinthians</td>\n      <td>16</td>\n      <td>11</td>\n      <td>Fuscão 1500</td>\n      <td>ovp  Overpass</td>\n    </tr>\n    <tr>\n      <th>3</th>\n      <td>Corinthians</td>\n      <td>Fuscão 1500</td>\n      <td>14</td>\n      <td>16</td>\n      <td>Fuscão 1500</td>\n      <td>vtg  Vertigo</td>\n    </tr>\n    <tr>\n      <th>4</th>\n      <td>ODDIK</td>\n      <td>9z</td>\n      <td>11</td>\n      <td>16</td>\n      <td>9z</td>\n      <td>ovp  Overpass</td>\n    </tr>\n    <tr>\n      <th>...</th>\n      <td>...</td>\n      <td>...</td>\n      <td>...</td>\n      <td>...</td>\n      <td>...</td>\n      <td>...</td>\n    </tr>\n    <tr>\n      <th>45</th>\n      <td>Sangal</td>\n      <td>MASONIC</td>\n      <td>16</td>\n      <td>10</td>\n      <td>Sangal</td>\n      <td>ovp  Overpass</td>\n    </tr>\n    <tr>\n      <th>46</th>\n      <td>Viperio</td>\n      <td>PGE Turow</td>\n      <td>16</td>\n      <td>13</td>\n      <td>Viperio</td>\n      <td>anc  Ancient</td>\n    </tr>\n    <tr>\n      <th>47</th>\n      <td>LDLC</td>\n      <td>B8</td>\n      <td>6</td>\n      <td>16</td>\n      <td>B8</td>\n      <td>nuke  Nuke</td>\n    </tr>\n    <tr>\n      <th>48</th>\n      <td>Anonymo</td>\n      <td>JANO</td>\n      <td>12</td>\n      <td>16</td>\n      <td>JANO</td>\n      <td>mrg  Mirage</td>\n    </tr>\n    <tr>\n      <th>49</th>\n      <td>EYEBALLERS</td>\n      <td>iNation</td>\n      <td>10</td>\n      <td>16</td>\n      <td>iNation</td>\n      <td>anb  Anubis</td>\n    </tr>\n  </tbody>\n</table>\n<p>150 rows × 6 columns</p>\n</div>"
     },
     "execution_count": 57,
     "metadata": {},
     "output_type": "execute_result"
    }
   ],
   "source": [
    "full_teams = teams.copy(deep=True)\n",
    "teams = teams[['Team1', 'Team2', 'Team1 Score', 'Team2 Score', 'Winner', 'Map']]\n",
    "teams"
   ],
   "metadata": {
    "collapsed": false,
    "pycharm": {
     "name": "#%%\n"
    }
   }
  },
  {
   "cell_type": "code",
   "execution_count": 67,
   "outputs": [
    {
     "data": {
      "text/plain": "           Team  Score              Winner            Map            Opponent  \\\n0      EG White     16            EG White    mrg  Mirage          Villainous   \n1          paiN      4  caffeine marauders   inf  Inferno  caffeine marauders   \n2   Fuscão 1500     16         Fuscão 1500  ovp  Overpass         Corinthians   \n3   Corinthians     14         Fuscão 1500   vtg  Vertigo         Fuscão 1500   \n4         ODDIK     11                  9z  ovp  Overpass                  9z   \n..          ...    ...                 ...            ...                 ...   \n45      MASONIC     10              Sangal  ovp  Overpass              Sangal   \n46    PGE Turow     13             Viperio   anc  Ancient             Viperio   \n47           B8     16                  B8     nuke  Nuke                LDLC   \n48         JANO     16                JANO    mrg  Mirage             Anonymo   \n49      iNation     16             iNation    anb  Anubis          EYEBALLERS   \n\n    Is Winner  \n0        True  \n1       False  \n2        True  \n3       False  \n4       False  \n..        ...  \n45      False  \n46      False  \n47       True  \n48       True  \n49       True  \n\n[300 rows x 6 columns]",
      "text/html": "<div>\n<style scoped>\n    .dataframe tbody tr th:only-of-type {\n        vertical-align: middle;\n    }\n\n    .dataframe tbody tr th {\n        vertical-align: top;\n    }\n\n    .dataframe thead th {\n        text-align: right;\n    }\n</style>\n<table border=\"1\" class=\"dataframe\">\n  <thead>\n    <tr style=\"text-align: right;\">\n      <th></th>\n      <th>Team</th>\n      <th>Score</th>\n      <th>Winner</th>\n      <th>Map</th>\n      <th>Opponent</th>\n      <th>Is Winner</th>\n    </tr>\n  </thead>\n  <tbody>\n    <tr>\n      <th>0</th>\n      <td>EG White</td>\n      <td>16</td>\n      <td>EG White</td>\n      <td>mrg  Mirage</td>\n      <td>Villainous</td>\n      <td>True</td>\n    </tr>\n    <tr>\n      <th>1</th>\n      <td>paiN</td>\n      <td>4</td>\n      <td>caffeine marauders</td>\n      <td>inf  Inferno</td>\n      <td>caffeine marauders</td>\n      <td>False</td>\n    </tr>\n    <tr>\n      <th>2</th>\n      <td>Fuscão 1500</td>\n      <td>16</td>\n      <td>Fuscão 1500</td>\n      <td>ovp  Overpass</td>\n      <td>Corinthians</td>\n      <td>True</td>\n    </tr>\n    <tr>\n      <th>3</th>\n      <td>Corinthians</td>\n      <td>14</td>\n      <td>Fuscão 1500</td>\n      <td>vtg  Vertigo</td>\n      <td>Fuscão 1500</td>\n      <td>False</td>\n    </tr>\n    <tr>\n      <th>4</th>\n      <td>ODDIK</td>\n      <td>11</td>\n      <td>9z</td>\n      <td>ovp  Overpass</td>\n      <td>9z</td>\n      <td>False</td>\n    </tr>\n    <tr>\n      <th>...</th>\n      <td>...</td>\n      <td>...</td>\n      <td>...</td>\n      <td>...</td>\n      <td>...</td>\n      <td>...</td>\n    </tr>\n    <tr>\n      <th>45</th>\n      <td>MASONIC</td>\n      <td>10</td>\n      <td>Sangal</td>\n      <td>ovp  Overpass</td>\n      <td>Sangal</td>\n      <td>False</td>\n    </tr>\n    <tr>\n      <th>46</th>\n      <td>PGE Turow</td>\n      <td>13</td>\n      <td>Viperio</td>\n      <td>anc  Ancient</td>\n      <td>Viperio</td>\n      <td>False</td>\n    </tr>\n    <tr>\n      <th>47</th>\n      <td>B8</td>\n      <td>16</td>\n      <td>B8</td>\n      <td>nuke  Nuke</td>\n      <td>LDLC</td>\n      <td>True</td>\n    </tr>\n    <tr>\n      <th>48</th>\n      <td>JANO</td>\n      <td>16</td>\n      <td>JANO</td>\n      <td>mrg  Mirage</td>\n      <td>Anonymo</td>\n      <td>True</td>\n    </tr>\n    <tr>\n      <th>49</th>\n      <td>iNation</td>\n      <td>16</td>\n      <td>iNation</td>\n      <td>anb  Anubis</td>\n      <td>EYEBALLERS</td>\n      <td>True</td>\n    </tr>\n  </tbody>\n</table>\n<p>300 rows × 6 columns</p>\n</div>"
     },
     "execution_count": 67,
     "metadata": {},
     "output_type": "execute_result"
    }
   ],
   "source": [
    "team_1_df = teams[['Team1', 'Team1 Score', 'Winner', 'Map', 'Team2']].rename(columns={\n",
    "    'Team1': 'Team',\n",
    "    'Team1 Score': 'Score',\n",
    "    'Team2': 'Opponent',\n",
    "})\n",
    "team_1_df['Is Winner'] = team_1_df['Team'] == team_1_df['Winner']\n",
    "\n",
    "team_2_df = teams[['Team2', 'Team2 Score', 'Winner', 'Map', 'Team1']].rename(columns={\n",
    "    'Team2': 'Team',\n",
    "    'Team2 Score': 'Score',\n",
    "    'Team1': 'Opponent',\n",
    "})\n",
    "team_2_df['Is Winner'] = team_2_df['Team'] == team_2_df['Winner']\n",
    "\n",
    "teams = pd.concat([team_1_df, team_2_df])\n",
    "teams"
   ],
   "metadata": {
    "collapsed": false,
    "pycharm": {
     "name": "#%%\n"
    }
   }
  },
  {
   "cell_type": "code",
   "execution_count": 94,
   "outputs": [
    {
     "data": {
      "text/plain": "             Score  Is Winner\nTeam                         \n00NATION        85          4\n1WIN            32          2\n4ORMULA         13          0\n500            111          4\n9z              63          3\n...            ...        ...\niNation         80          5\nlos kogutos     32          2\npaiN            36          2\ntimbermen       43          0\nyur             48          3\n\n[86 rows x 2 columns]",
      "text/html": "<div>\n<style scoped>\n    .dataframe tbody tr th:only-of-type {\n        vertical-align: middle;\n    }\n\n    .dataframe tbody tr th {\n        vertical-align: top;\n    }\n\n    .dataframe thead th {\n        text-align: right;\n    }\n</style>\n<table border=\"1\" class=\"dataframe\">\n  <thead>\n    <tr style=\"text-align: right;\">\n      <th></th>\n      <th>Score</th>\n      <th>Is Winner</th>\n    </tr>\n    <tr>\n      <th>Team</th>\n      <th></th>\n      <th></th>\n    </tr>\n  </thead>\n  <tbody>\n    <tr>\n      <th>00NATION</th>\n      <td>85</td>\n      <td>4</td>\n    </tr>\n    <tr>\n      <th>1WIN</th>\n      <td>32</td>\n      <td>2</td>\n    </tr>\n    <tr>\n      <th>4ORMULA</th>\n      <td>13</td>\n      <td>0</td>\n    </tr>\n    <tr>\n      <th>500</th>\n      <td>111</td>\n      <td>4</td>\n    </tr>\n    <tr>\n      <th>9z</th>\n      <td>63</td>\n      <td>3</td>\n    </tr>\n    <tr>\n      <th>...</th>\n      <td>...</td>\n      <td>...</td>\n    </tr>\n    <tr>\n      <th>iNation</th>\n      <td>80</td>\n      <td>5</td>\n    </tr>\n    <tr>\n      <th>los kogutos</th>\n      <td>32</td>\n      <td>2</td>\n    </tr>\n    <tr>\n      <th>paiN</th>\n      <td>36</td>\n      <td>2</td>\n    </tr>\n    <tr>\n      <th>timbermen</th>\n      <td>43</td>\n      <td>0</td>\n    </tr>\n    <tr>\n      <th>yur</th>\n      <td>48</td>\n      <td>3</td>\n    </tr>\n  </tbody>\n</table>\n<p>86 rows × 2 columns</p>\n</div>"
     },
     "execution_count": 94,
     "metadata": {},
     "output_type": "execute_result"
    }
   ],
   "source": [
    "sum_teams = teams.groupby('Team').sum('Score')\n",
    "sum_teams"
   ],
   "metadata": {
    "collapsed": false,
    "pycharm": {
     "name": "#%%\n"
    }
   }
  },
  {
   "cell_type": "code",
   "execution_count": 95,
   "outputs": [
    {
     "data": {
      "text/plain": "             Score  Is Winner  Matches\nTeam                                  \n00NATION        85          4        5\n1WIN            32          2        2\n4ORMULA         13          0        2\n500            111          4        8\n9z              63          3        5\n...            ...        ...      ...\niNation         80          5        5\nlos kogutos     32          2        2\npaiN            36          2        3\ntimbermen       43          0        4\nyur             48          3        3\n\n[86 rows x 3 columns]",
      "text/html": "<div>\n<style scoped>\n    .dataframe tbody tr th:only-of-type {\n        vertical-align: middle;\n    }\n\n    .dataframe tbody tr th {\n        vertical-align: top;\n    }\n\n    .dataframe thead th {\n        text-align: right;\n    }\n</style>\n<table border=\"1\" class=\"dataframe\">\n  <thead>\n    <tr style=\"text-align: right;\">\n      <th></th>\n      <th>Score</th>\n      <th>Is Winner</th>\n      <th>Matches</th>\n    </tr>\n    <tr>\n      <th>Team</th>\n      <th></th>\n      <th></th>\n      <th></th>\n    </tr>\n  </thead>\n  <tbody>\n    <tr>\n      <th>00NATION</th>\n      <td>85</td>\n      <td>4</td>\n      <td>5</td>\n    </tr>\n    <tr>\n      <th>1WIN</th>\n      <td>32</td>\n      <td>2</td>\n      <td>2</td>\n    </tr>\n    <tr>\n      <th>4ORMULA</th>\n      <td>13</td>\n      <td>0</td>\n      <td>2</td>\n    </tr>\n    <tr>\n      <th>500</th>\n      <td>111</td>\n      <td>4</td>\n      <td>8</td>\n    </tr>\n    <tr>\n      <th>9z</th>\n      <td>63</td>\n      <td>3</td>\n      <td>5</td>\n    </tr>\n    <tr>\n      <th>...</th>\n      <td>...</td>\n      <td>...</td>\n      <td>...</td>\n    </tr>\n    <tr>\n      <th>iNation</th>\n      <td>80</td>\n      <td>5</td>\n      <td>5</td>\n    </tr>\n    <tr>\n      <th>los kogutos</th>\n      <td>32</td>\n      <td>2</td>\n      <td>2</td>\n    </tr>\n    <tr>\n      <th>paiN</th>\n      <td>36</td>\n      <td>2</td>\n      <td>3</td>\n    </tr>\n    <tr>\n      <th>timbermen</th>\n      <td>43</td>\n      <td>0</td>\n      <td>4</td>\n    </tr>\n    <tr>\n      <th>yur</th>\n      <td>48</td>\n      <td>3</td>\n      <td>3</td>\n    </tr>\n  </tbody>\n</table>\n<p>86 rows × 3 columns</p>\n</div>"
     },
     "execution_count": 95,
     "metadata": {},
     "output_type": "execute_result"
    }
   ],
   "source": [
    "sum_teams['Matches'] = teams.groupby('Team').size()\n",
    "sum_teams"
   ],
   "metadata": {
    "collapsed": false,
    "pycharm": {
     "name": "#%%\n"
    }
   }
  },
  {
   "cell_type": "code",
   "execution_count": 97,
   "outputs": [
    {
     "data": {
      "text/plain": "             Score  Is Winner  Matches     Winrate\nTeam                                              \n00NATION        85          4        5   80.000000\n1WIN            32          2        2  100.000000\n4ORMULA         13          0        2    0.000000\n500            111          4        8   50.000000\n9z              63          3        5   60.000000\n...            ...        ...      ...         ...\niNation         80          5        5  100.000000\nlos kogutos     32          2        2  100.000000\npaiN            36          2        3   66.666667\ntimbermen       43          0        4    0.000000\nyur             48          3        3  100.000000\n\n[86 rows x 4 columns]",
      "text/html": "<div>\n<style scoped>\n    .dataframe tbody tr th:only-of-type {\n        vertical-align: middle;\n    }\n\n    .dataframe tbody tr th {\n        vertical-align: top;\n    }\n\n    .dataframe thead th {\n        text-align: right;\n    }\n</style>\n<table border=\"1\" class=\"dataframe\">\n  <thead>\n    <tr style=\"text-align: right;\">\n      <th></th>\n      <th>Score</th>\n      <th>Is Winner</th>\n      <th>Matches</th>\n      <th>Winrate</th>\n    </tr>\n    <tr>\n      <th>Team</th>\n      <th></th>\n      <th></th>\n      <th></th>\n      <th></th>\n    </tr>\n  </thead>\n  <tbody>\n    <tr>\n      <th>00NATION</th>\n      <td>85</td>\n      <td>4</td>\n      <td>5</td>\n      <td>80.000000</td>\n    </tr>\n    <tr>\n      <th>1WIN</th>\n      <td>32</td>\n      <td>2</td>\n      <td>2</td>\n      <td>100.000000</td>\n    </tr>\n    <tr>\n      <th>4ORMULA</th>\n      <td>13</td>\n      <td>0</td>\n      <td>2</td>\n      <td>0.000000</td>\n    </tr>\n    <tr>\n      <th>500</th>\n      <td>111</td>\n      <td>4</td>\n      <td>8</td>\n      <td>50.000000</td>\n    </tr>\n    <tr>\n      <th>9z</th>\n      <td>63</td>\n      <td>3</td>\n      <td>5</td>\n      <td>60.000000</td>\n    </tr>\n    <tr>\n      <th>...</th>\n      <td>...</td>\n      <td>...</td>\n      <td>...</td>\n      <td>...</td>\n    </tr>\n    <tr>\n      <th>iNation</th>\n      <td>80</td>\n      <td>5</td>\n      <td>5</td>\n      <td>100.000000</td>\n    </tr>\n    <tr>\n      <th>los kogutos</th>\n      <td>32</td>\n      <td>2</td>\n      <td>2</td>\n      <td>100.000000</td>\n    </tr>\n    <tr>\n      <th>paiN</th>\n      <td>36</td>\n      <td>2</td>\n      <td>3</td>\n      <td>66.666667</td>\n    </tr>\n    <tr>\n      <th>timbermen</th>\n      <td>43</td>\n      <td>0</td>\n      <td>4</td>\n      <td>0.000000</td>\n    </tr>\n    <tr>\n      <th>yur</th>\n      <td>48</td>\n      <td>3</td>\n      <td>3</td>\n      <td>100.000000</td>\n    </tr>\n  </tbody>\n</table>\n<p>86 rows × 4 columns</p>\n</div>"
     },
     "execution_count": 97,
     "metadata": {},
     "output_type": "execute_result"
    }
   ],
   "source": [
    "sum_teams['Winrate'] = sum_teams['Is Winner'] * 100 / sum_teams['Matches']\n",
    "sum_teams"
   ],
   "metadata": {
    "collapsed": false,
    "pycharm": {
     "name": "#%%\n"
    }
   }
  },
  {
   "cell_type": "code",
   "execution_count": null,
   "outputs": [],
   "source": [],
   "metadata": {
    "collapsed": false,
    "pycharm": {
     "name": "#%%\n"
    }
   }
  }
 ],
 "metadata": {
  "kernelspec": {
   "display_name": "Python 3",
   "language": "python",
   "name": "python3"
  },
  "language_info": {
   "codemirror_mode": {
    "name": "ipython",
    "version": 2
   },
   "file_extension": ".py",
   "mimetype": "text/x-python",
   "name": "python",
   "nbconvert_exporter": "python",
   "pygments_lexer": "ipython2",
   "version": "2.7.6"
  }
 },
 "nbformat": 4,
 "nbformat_minor": 0
}