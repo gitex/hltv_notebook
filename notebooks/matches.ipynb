{
 "cells": [
  {
   "cell_type": "code",
   "execution_count": 130,
   "metadata": {
    "collapsed": true
   },
   "outputs": [],
   "source": [
    "import numpy as np\n",
    "import pandas as pd\n",
    "import requests"
   ]
  },
  {
   "cell_type": "code",
   "execution_count": 131,
   "outputs": [
    {
     "ename": "ImportError",
     "evalue": "html5lib not found, please install it",
     "output_type": "error",
     "traceback": [
      "\u001B[0;31m---------------------------------------------------------------------------\u001B[0m",
      "\u001B[0;31mImportError\u001B[0m                               Traceback (most recent call last)",
      "Cell \u001B[0;32mIn[131], line 12\u001B[0m\n\u001B[1;32m      8\u001B[0m     url \u001B[38;5;241m=\u001B[39m url_from_page(page)\n\u001B[1;32m     10\u001B[0m     response \u001B[38;5;241m=\u001B[39m requests\u001B[38;5;241m.\u001B[39mget(url)\n\u001B[0;32m---> 12\u001B[0m     df \u001B[38;5;241m=\u001B[39m \u001B[43mpd\u001B[49m\u001B[38;5;241;43m.\u001B[39;49m\u001B[43mread_html\u001B[49m\u001B[43m(\u001B[49m\u001B[43mresponse\u001B[49m\u001B[38;5;241;43m.\u001B[39;49m\u001B[43mtext\u001B[49m\u001B[43m)\u001B[49m\n\u001B[1;32m     13\u001B[0m     data_frames\u001B[38;5;241m.\u001B[39mappend(pd\u001B[38;5;241m.\u001B[39mconcat(df))\n\u001B[1;32m     15\u001B[0m teams \u001B[38;5;241m=\u001B[39m pd\u001B[38;5;241m.\u001B[39mconcat(data_frames)\n",
      "File \u001B[0;32m~/.conda/envs/hltv_predictions/lib/python3.10/site-packages/pandas/util/_decorators.py:331\u001B[0m, in \u001B[0;36mdeprecate_nonkeyword_arguments.<locals>.decorate.<locals>.wrapper\u001B[0;34m(*args, **kwargs)\u001B[0m\n\u001B[1;32m    325\u001B[0m \u001B[38;5;28;01mif\u001B[39;00m \u001B[38;5;28mlen\u001B[39m(args) \u001B[38;5;241m>\u001B[39m num_allow_args:\n\u001B[1;32m    326\u001B[0m     warnings\u001B[38;5;241m.\u001B[39mwarn(\n\u001B[1;32m    327\u001B[0m         msg\u001B[38;5;241m.\u001B[39mformat(arguments\u001B[38;5;241m=\u001B[39m_format_argument_list(allow_args)),\n\u001B[1;32m    328\u001B[0m         \u001B[38;5;167;01mFutureWarning\u001B[39;00m,\n\u001B[1;32m    329\u001B[0m         stacklevel\u001B[38;5;241m=\u001B[39mfind_stack_level(),\n\u001B[1;32m    330\u001B[0m     )\n\u001B[0;32m--> 331\u001B[0m \u001B[38;5;28;01mreturn\u001B[39;00m \u001B[43mfunc\u001B[49m\u001B[43m(\u001B[49m\u001B[38;5;241;43m*\u001B[39;49m\u001B[43margs\u001B[49m\u001B[43m,\u001B[49m\u001B[43m \u001B[49m\u001B[38;5;241;43m*\u001B[39;49m\u001B[38;5;241;43m*\u001B[39;49m\u001B[43mkwargs\u001B[49m\u001B[43m)\u001B[49m\n",
      "File \u001B[0;32m~/.conda/envs/hltv_predictions/lib/python3.10/site-packages/pandas/io/html.py:1205\u001B[0m, in \u001B[0;36mread_html\u001B[0;34m(io, match, flavor, header, index_col, skiprows, attrs, parse_dates, thousands, encoding, decimal, converters, na_values, keep_default_na, displayed_only, extract_links)\u001B[0m\n\u001B[1;32m   1201\u001B[0m validate_header_arg(header)\n\u001B[1;32m   1203\u001B[0m io \u001B[38;5;241m=\u001B[39m stringify_path(io)\n\u001B[0;32m-> 1205\u001B[0m \u001B[38;5;28;01mreturn\u001B[39;00m \u001B[43m_parse\u001B[49m\u001B[43m(\u001B[49m\n\u001B[1;32m   1206\u001B[0m \u001B[43m    \u001B[49m\u001B[43mflavor\u001B[49m\u001B[38;5;241;43m=\u001B[39;49m\u001B[43mflavor\u001B[49m\u001B[43m,\u001B[49m\n\u001B[1;32m   1207\u001B[0m \u001B[43m    \u001B[49m\u001B[43mio\u001B[49m\u001B[38;5;241;43m=\u001B[39;49m\u001B[43mio\u001B[49m\u001B[43m,\u001B[49m\n\u001B[1;32m   1208\u001B[0m \u001B[43m    \u001B[49m\u001B[43mmatch\u001B[49m\u001B[38;5;241;43m=\u001B[39;49m\u001B[43mmatch\u001B[49m\u001B[43m,\u001B[49m\n\u001B[1;32m   1209\u001B[0m \u001B[43m    \u001B[49m\u001B[43mheader\u001B[49m\u001B[38;5;241;43m=\u001B[39;49m\u001B[43mheader\u001B[49m\u001B[43m,\u001B[49m\n\u001B[1;32m   1210\u001B[0m \u001B[43m    \u001B[49m\u001B[43mindex_col\u001B[49m\u001B[38;5;241;43m=\u001B[39;49m\u001B[43mindex_col\u001B[49m\u001B[43m,\u001B[49m\n\u001B[1;32m   1211\u001B[0m \u001B[43m    \u001B[49m\u001B[43mskiprows\u001B[49m\u001B[38;5;241;43m=\u001B[39;49m\u001B[43mskiprows\u001B[49m\u001B[43m,\u001B[49m\n\u001B[1;32m   1212\u001B[0m \u001B[43m    \u001B[49m\u001B[43mparse_dates\u001B[49m\u001B[38;5;241;43m=\u001B[39;49m\u001B[43mparse_dates\u001B[49m\u001B[43m,\u001B[49m\n\u001B[1;32m   1213\u001B[0m \u001B[43m    \u001B[49m\u001B[43mthousands\u001B[49m\u001B[38;5;241;43m=\u001B[39;49m\u001B[43mthousands\u001B[49m\u001B[43m,\u001B[49m\n\u001B[1;32m   1214\u001B[0m \u001B[43m    \u001B[49m\u001B[43mattrs\u001B[49m\u001B[38;5;241;43m=\u001B[39;49m\u001B[43mattrs\u001B[49m\u001B[43m,\u001B[49m\n\u001B[1;32m   1215\u001B[0m \u001B[43m    \u001B[49m\u001B[43mencoding\u001B[49m\u001B[38;5;241;43m=\u001B[39;49m\u001B[43mencoding\u001B[49m\u001B[43m,\u001B[49m\n\u001B[1;32m   1216\u001B[0m \u001B[43m    \u001B[49m\u001B[43mdecimal\u001B[49m\u001B[38;5;241;43m=\u001B[39;49m\u001B[43mdecimal\u001B[49m\u001B[43m,\u001B[49m\n\u001B[1;32m   1217\u001B[0m \u001B[43m    \u001B[49m\u001B[43mconverters\u001B[49m\u001B[38;5;241;43m=\u001B[39;49m\u001B[43mconverters\u001B[49m\u001B[43m,\u001B[49m\n\u001B[1;32m   1218\u001B[0m \u001B[43m    \u001B[49m\u001B[43mna_values\u001B[49m\u001B[38;5;241;43m=\u001B[39;49m\u001B[43mna_values\u001B[49m\u001B[43m,\u001B[49m\n\u001B[1;32m   1219\u001B[0m \u001B[43m    \u001B[49m\u001B[43mkeep_default_na\u001B[49m\u001B[38;5;241;43m=\u001B[39;49m\u001B[43mkeep_default_na\u001B[49m\u001B[43m,\u001B[49m\n\u001B[1;32m   1220\u001B[0m \u001B[43m    \u001B[49m\u001B[43mdisplayed_only\u001B[49m\u001B[38;5;241;43m=\u001B[39;49m\u001B[43mdisplayed_only\u001B[49m\u001B[43m,\u001B[49m\n\u001B[1;32m   1221\u001B[0m \u001B[43m    \u001B[49m\u001B[43mextract_links\u001B[49m\u001B[38;5;241;43m=\u001B[39;49m\u001B[43mextract_links\u001B[49m\u001B[43m,\u001B[49m\n\u001B[1;32m   1222\u001B[0m \u001B[43m\u001B[49m\u001B[43m)\u001B[49m\n",
      "File \u001B[0;32m~/.conda/envs/hltv_predictions/lib/python3.10/site-packages/pandas/io/html.py:982\u001B[0m, in \u001B[0;36m_parse\u001B[0;34m(flavor, io, match, attrs, encoding, displayed_only, extract_links, **kwargs)\u001B[0m\n\u001B[1;32m    980\u001B[0m retained \u001B[38;5;241m=\u001B[39m \u001B[38;5;28;01mNone\u001B[39;00m\n\u001B[1;32m    981\u001B[0m \u001B[38;5;28;01mfor\u001B[39;00m flav \u001B[38;5;129;01min\u001B[39;00m flavor:\n\u001B[0;32m--> 982\u001B[0m     parser \u001B[38;5;241m=\u001B[39m \u001B[43m_parser_dispatch\u001B[49m\u001B[43m(\u001B[49m\u001B[43mflav\u001B[49m\u001B[43m)\u001B[49m\n\u001B[1;32m    983\u001B[0m     p \u001B[38;5;241m=\u001B[39m parser(io, compiled_match, attrs, encoding, displayed_only, extract_links)\n\u001B[1;32m    985\u001B[0m     \u001B[38;5;28;01mtry\u001B[39;00m:\n",
      "File \u001B[0;32m~/.conda/envs/hltv_predictions/lib/python3.10/site-packages/pandas/io/html.py:931\u001B[0m, in \u001B[0;36m_parser_dispatch\u001B[0;34m(flavor)\u001B[0m\n\u001B[1;32m    929\u001B[0m \u001B[38;5;28;01mif\u001B[39;00m flavor \u001B[38;5;129;01min\u001B[39;00m (\u001B[38;5;124m\"\u001B[39m\u001B[38;5;124mbs4\u001B[39m\u001B[38;5;124m\"\u001B[39m, \u001B[38;5;124m\"\u001B[39m\u001B[38;5;124mhtml5lib\u001B[39m\u001B[38;5;124m\"\u001B[39m):\n\u001B[1;32m    930\u001B[0m     \u001B[38;5;28;01mif\u001B[39;00m \u001B[38;5;129;01mnot\u001B[39;00m _HAS_HTML5LIB:\n\u001B[0;32m--> 931\u001B[0m         \u001B[38;5;28;01mraise\u001B[39;00m \u001B[38;5;167;01mImportError\u001B[39;00m(\u001B[38;5;124m\"\u001B[39m\u001B[38;5;124mhtml5lib not found, please install it\u001B[39m\u001B[38;5;124m\"\u001B[39m)\n\u001B[1;32m    932\u001B[0m     \u001B[38;5;28;01mif\u001B[39;00m \u001B[38;5;129;01mnot\u001B[39;00m _HAS_BS4:\n\u001B[1;32m    933\u001B[0m         \u001B[38;5;28;01mraise\u001B[39;00m \u001B[38;5;167;01mImportError\u001B[39;00m(\u001B[38;5;124m\"\u001B[39m\u001B[38;5;124mBeautifulSoup4 (bs4) not found, please install it\u001B[39m\u001B[38;5;124m\"\u001B[39m)\n",
      "\u001B[0;31mImportError\u001B[0m: html5lib not found, please install it"
     ]
    }
   ],
   "source": [
    "def url_from_page(page: int) -> str:\n",
    "    offset = (page - 1) * 50\n",
    "    return f\"https://www.hltv.org/stats/matches?startDate=all&offset={offset}\"\n",
    "\n",
    "data_frames = []\n",
    "\n",
    "for page in range(1, 20):\n",
    "    url = url_from_page(page)\n",
    "\n",
    "    response = requests.get(url)\n",
    "\n",
    "    df = pd.read_html(response.text)\n",
    "    data_frames.append(pd.concat(df))\n",
    "\n",
    "teams = pd.concat(data_frames)\n",
    "teams"
   ],
   "metadata": {
    "collapsed": false,
    "pycharm": {
     "name": "#%%\n"
    }
   }
  },
  {
   "cell_type": "code",
   "execution_count": null,
   "outputs": [],
   "source": [
    "# Dump raw matches into CSV file\n",
    "\n",
    "from datetime import datetime\n",
    "\n",
    "prefix = datetime.utcnow().strftime('%d%m%Y_%H%M%S')\n",
    "\n",
    "teams.to_csv(f'../data/{prefix}_matches.csv')"
   ],
   "metadata": {
    "collapsed": false,
    "pycharm": {
     "name": "#%%\n"
    }
   }
  },
  {
   "cell_type": "code",
   "execution_count": null,
   "outputs": [],
   "source": [
    "import re\n",
    "\n",
    "def get_score(value: str) -> int:\n",
    "    return int(re.search(r'\\((\\d+)\\)', value).group(1))\n",
    "\n",
    "teams['Team1 Score'] = list(map(get_score, teams['Team1'].tolist()))\n",
    "teams['Team2 Score'] = list(map(get_score, teams['Team2'].tolist()))"
   ],
   "metadata": {
    "collapsed": false,
    "pycharm": {
     "name": "#%%\n"
    }
   }
  },
  {
   "cell_type": "code",
   "execution_count": null,
   "outputs": [],
   "source": [
    "# Remove score from team name\n",
    "\n",
    "def get_team(value: str) -> str:\n",
    "    return re.search(r'.+?(?=\\s\\()', value).group()\n",
    "\n",
    "teams['Team1'] = list(map(get_team, teams['Team1'].tolist()))\n",
    "teams['Team2'] = list(map(get_team, teams['Team2'].tolist()))\n",
    "teams"
   ],
   "metadata": {
    "collapsed": false,
    "pycharm": {
     "name": "#%%\n"
    }
   }
  },
  {
   "cell_type": "code",
   "execution_count": null,
   "outputs": [],
   "source": [
    "teams['Team1 Won'] = teams['Team1 Score'] > teams['Team2 Score']\n",
    "teams['Team2 Won'] = teams['Team1 Score'] < teams['Team2 Score']\n",
    "teams"
   ],
   "metadata": {
    "collapsed": false,
    "pycharm": {
     "name": "#%%\n"
    }
   }
  },
  {
   "cell_type": "code",
   "execution_count": null,
   "outputs": [],
   "source": [],
   "metadata": {
    "collapsed": false,
    "pycharm": {
     "name": "#%%\n"
    }
   }
  },
  {
   "cell_type": "code",
   "execution_count": null,
   "outputs": [],
   "source": [
    "winners = []\n",
    "\n",
    "for index, row in teams.iterrows():\n",
    "    if row['Team1 Won']:\n",
    "        winners.append(row['Team1'])\n",
    "    else:\n",
    "        winners.append(row['Team2'])\n",
    "\n",
    "teams['Winner'] = winners\n",
    "teams"
   ],
   "metadata": {
    "collapsed": false,
    "pycharm": {
     "name": "#%%\n"
    }
   }
  },
  {
   "cell_type": "code",
   "execution_count": null,
   "outputs": [],
   "source": [
    "full_teams = teams.copy(deep=True)\n",
    "teams = teams[['Date', 'Team1', 'Team2', 'Team1 Score', 'Team2 Score', 'Winner', 'Map']]\n",
    "teams"
   ],
   "metadata": {
    "collapsed": false,
    "pycharm": {
     "name": "#%%\n"
    }
   }
  },
  {
   "cell_type": "code",
   "execution_count": null,
   "outputs": [],
   "source": [
    "team_1_df = teams[['Team1', 'Team1 Score', 'Winner', 'Map', 'Team2', 'Team2 Score']].rename(columns={\n",
    "    'Team1': 'Team',\n",
    "    'Team1 Score': 'Score',\n",
    "    'Team2': 'Opponent',\n",
    "    'Team2 Score': 'Opponent Score',\n",
    "})\n",
    "team_1_df['Is Winner'] = team_1_df['Team'] == team_1_df['Winner']\n",
    "\n",
    "team_2_df = teams[['Team2', 'Team2 Score', 'Winner', 'Map', 'Team1', 'Team1 Score']].rename(columns={\n",
    "    'Team2': 'Team',\n",
    "    'Team2 Score': 'Score',\n",
    "    'Team1': 'Opponent',\n",
    "    'Team1 Score': 'Opponent Score',\n",
    "})\n",
    "team_2_df['Is Winner'] = team_2_df['Team'] == team_2_df['Winner']\n",
    "\n",
    "teams = pd.concat([team_1_df, team_2_df])\n",
    "teams"
   ],
   "metadata": {
    "collapsed": false,
    "pycharm": {
     "name": "#%%\n"
    }
   }
  },
  {
   "cell_type": "code",
   "execution_count": null,
   "outputs": [],
   "source": [
    "# Dump into CSV file\n",
    "\n",
    "prefix = datetime.utcnow().strftime('%d%m%Y_%H%M%S')\n",
    "\n",
    "teams.to_csv(f'../data/{prefix}_teams.csv')"
   ],
   "metadata": {
    "collapsed": false,
    "pycharm": {
     "name": "#%%\n"
    }
   }
  },
  {
   "cell_type": "code",
   "execution_count": null,
   "outputs": [],
   "source": [
    "sum_teams = teams.groupby('Team').sum('Score')\n",
    "sum_teams"
   ],
   "metadata": {
    "collapsed": false,
    "pycharm": {
     "name": "#%%\n"
    }
   }
  },
  {
   "cell_type": "code",
   "execution_count": null,
   "outputs": [],
   "source": [
    "sum_teams['Matches'] = teams.groupby('Team').size()\n",
    "sum_teams"
   ],
   "metadata": {
    "collapsed": false,
    "pycharm": {
     "name": "#%%\n"
    }
   }
  },
  {
   "cell_type": "code",
   "execution_count": null,
   "outputs": [],
   "source": [
    "sum_teams['Winrate'] = sum_teams['Is Winner'] * 100 / sum_teams['Matches']\n",
    "sum_teams.sort_values('Matches', ascending=False)"
   ],
   "metadata": {
    "collapsed": false,
    "pycharm": {
     "name": "#%%\n"
    }
   }
  },
  {
   "cell_type": "code",
   "execution_count": null,
   "outputs": [],
   "source": [
    "sum_teams[sum_teams['Matches']> 15].sort_values('Winrate', ascending=False)"
   ],
   "metadata": {
    "collapsed": false,
    "pycharm": {
     "name": "#%%\n"
    }
   }
  },
  {
   "cell_type": "code",
   "execution_count": null,
   "outputs": [],
   "source": [],
   "metadata": {
    "collapsed": false,
    "pycharm": {
     "name": "#%%\n"
    }
   }
  },
  {
   "cell_type": "code",
   "execution_count": null,
   "outputs": [],
   "source": [],
   "metadata": {
    "collapsed": false,
    "pycharm": {
     "name": "#%%\n"
    }
   }
  },
  {
   "cell_type": "code",
   "execution_count": null,
   "outputs": [],
   "source": [],
   "metadata": {
    "collapsed": false,
    "pycharm": {
     "name": "#%%\n"
    }
   }
  }
 ],
 "metadata": {
  "kernelspec": {
   "display_name": "Python 3",
   "language": "python",
   "name": "python3"
  },
  "language_info": {
   "codemirror_mode": {
    "name": "ipython",
    "version": 2
   },
   "file_extension": ".py",
   "mimetype": "text/x-python",
   "name": "python",
   "nbconvert_exporter": "python",
   "pygments_lexer": "ipython2",
   "version": "2.7.6"
  }
 },
 "nbformat": 4,
 "nbformat_minor": 0
}