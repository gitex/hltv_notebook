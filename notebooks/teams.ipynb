{
 "cells": [
  {
   "cell_type": "code",
   "execution_count": 4,
   "metadata": {
    "collapsed": true
   },
   "outputs": [],
   "source": [
    "import numpy as np\n",
    "import pandas as pd\n",
    "import requests"
   ]
  },
  {
   "cell_type": "code",
   "execution_count": 2,
   "outputs": [
    {
     "data": {
      "text/plain": "('2023-01-01', '2023-02-19')"
     },
     "execution_count": 2,
     "metadata": {},
     "output_type": "execute_result"
    }
   ],
   "source": [
    "from datetime import datetime, timedelta\n",
    "\n",
    "begging_of_the_year = datetime.now().replace(month=1, day=1).strftime('%Y-%m-%d')\n",
    "\n",
    "yesterday = (datetime.now() - timedelta(days=1)).strftime('%Y-%m-%d')\n",
    "begging_of_the_year, yesterday"
   ],
   "metadata": {
    "collapsed": false,
    "pycharm": {
     "name": "#%%\n"
    }
   }
  },
  {
   "cell_type": "code",
   "execution_count": 5,
   "outputs": [
    {
     "data": {
      "text/plain": "             Team  Maps  K-D Diff   K/D  Rating2.0\n0            MIBR    44       679  1.20       1.17\n1           Fluxo    34       470  1.18       1.14\n2          Heroic    28       228  1.10       1.12\n3            9INE    59       571  1.11       1.12\n4         Paquetá    32       307  1.11       1.12\n..            ...   ...       ...   ...        ...\n70         Sprout    28      -244  0.90       0.97\n71           JANO    40      -326  0.91       0.97\n72       BLUEJAYS    28      -177  0.93       0.96\n73   Boca Juniors    24      -219  0.89       0.96\n74  Evil Geniuses    23      -261  0.88       0.94\n\n[75 rows x 5 columns]",
      "text/html": "<div>\n<style scoped>\n    .dataframe tbody tr th:only-of-type {\n        vertical-align: middle;\n    }\n\n    .dataframe tbody tr th {\n        vertical-align: top;\n    }\n\n    .dataframe thead th {\n        text-align: right;\n    }\n</style>\n<table border=\"1\" class=\"dataframe\">\n  <thead>\n    <tr style=\"text-align: right;\">\n      <th></th>\n      <th>Team</th>\n      <th>Maps</th>\n      <th>K-D Diff</th>\n      <th>K/D</th>\n      <th>Rating2.0</th>\n    </tr>\n  </thead>\n  <tbody>\n    <tr>\n      <th>0</th>\n      <td>MIBR</td>\n      <td>44</td>\n      <td>679</td>\n      <td>1.20</td>\n      <td>1.17</td>\n    </tr>\n    <tr>\n      <th>1</th>\n      <td>Fluxo</td>\n      <td>34</td>\n      <td>470</td>\n      <td>1.18</td>\n      <td>1.14</td>\n    </tr>\n    <tr>\n      <th>2</th>\n      <td>Heroic</td>\n      <td>28</td>\n      <td>228</td>\n      <td>1.10</td>\n      <td>1.12</td>\n    </tr>\n    <tr>\n      <th>3</th>\n      <td>9INE</td>\n      <td>59</td>\n      <td>571</td>\n      <td>1.11</td>\n      <td>1.12</td>\n    </tr>\n    <tr>\n      <th>4</th>\n      <td>Paquetá</td>\n      <td>32</td>\n      <td>307</td>\n      <td>1.11</td>\n      <td>1.12</td>\n    </tr>\n    <tr>\n      <th>...</th>\n      <td>...</td>\n      <td>...</td>\n      <td>...</td>\n      <td>...</td>\n      <td>...</td>\n    </tr>\n    <tr>\n      <th>70</th>\n      <td>Sprout</td>\n      <td>28</td>\n      <td>-244</td>\n      <td>0.90</td>\n      <td>0.97</td>\n    </tr>\n    <tr>\n      <th>71</th>\n      <td>JANO</td>\n      <td>40</td>\n      <td>-326</td>\n      <td>0.91</td>\n      <td>0.97</td>\n    </tr>\n    <tr>\n      <th>72</th>\n      <td>BLUEJAYS</td>\n      <td>28</td>\n      <td>-177</td>\n      <td>0.93</td>\n      <td>0.96</td>\n    </tr>\n    <tr>\n      <th>73</th>\n      <td>Boca Juniors</td>\n      <td>24</td>\n      <td>-219</td>\n      <td>0.89</td>\n      <td>0.96</td>\n    </tr>\n    <tr>\n      <th>74</th>\n      <td>Evil Geniuses</td>\n      <td>23</td>\n      <td>-261</td>\n      <td>0.88</td>\n      <td>0.94</td>\n    </tr>\n  </tbody>\n</table>\n<p>75 rows × 5 columns</p>\n</div>"
     },
     "execution_count": 5,
     "metadata": {},
     "output_type": "execute_result"
    }
   ],
   "source": [
    "hltv_teams = f\"https://www.hltv.org/stats/teams?startDate={begging_of_the_year}&endDate={yesterday}\"\n",
    "\n",
    "response = requests.get(hltv_teams)\n",
    "\n",
    "data_link = f'../data/teams.html'\n",
    "\n",
    "with open(data_link, 'w') as f:\n",
    "    f.write(response.text)\n",
    "\n",
    "teams = pd.concat(pd.read_html(data_link)).rename(columns={'Rating2.0': 'Rating'})\n",
    "teams"
   ],
   "metadata": {
    "collapsed": false,
    "pycharm": {
     "name": "#%%\n"
    }
   }
  },
  {
   "cell_type": "code",
   "execution_count": null,
   "outputs": [],
   "source": [],
   "metadata": {
    "collapsed": false,
    "pycharm": {
     "name": "#%%\n"
    }
   }
  }
 ],
 "metadata": {
  "kernelspec": {
   "display_name": "Python 3",
   "language": "python",
   "name": "python3"
  },
  "language_info": {
   "codemirror_mode": {
    "name": "ipython",
    "version": 2
   },
   "file_extension": ".py",
   "mimetype": "text/x-python",
   "name": "python",
   "nbconvert_exporter": "python",
   "pygments_lexer": "ipython2",
   "version": "2.7.6"
  }
 },
 "nbformat": 4,
 "nbformat_minor": 0
}