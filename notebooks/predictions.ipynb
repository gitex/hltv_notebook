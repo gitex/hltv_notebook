{
 "cells": [
  {
   "cell_type": "code",
   "execution_count": 4,
   "metadata": {
    "collapsed": true
   },
   "outputs": [],
   "source": [
    "import numpy as np\n",
    "import pandas as pd\n",
    "import requests"
   ]
  },
  {
   "cell_type": "code",
   "execution_count": 120,
   "outputs": [
    {
     "data": {
      "text/plain": "('2023-01-01', '2023-02-19')"
     },
     "execution_count": 120,
     "metadata": {},
     "output_type": "execute_result"
    }
   ],
   "source": [
    "from datetime import datetime, timedelta\n",
    "\n",
    "begging_of_the_year = datetime.now().replace(month=1, day=1).strftime('%Y-%m-%d')\n",
    "\n",
    "yesterday = (datetime.now() - timedelta(days=1)).strftime('%Y-%m-%d')\n",
    "begging_of_the_year, yesterday"
   ],
   "metadata": {
    "collapsed": false,
    "pycharm": {
     "name": "#%%\n"
    }
   }
  },
  {
   "cell_type": "code",
   "execution_count": 121,
   "outputs": [
    {
     "data": {
      "text/plain": "'https://www.hltv.org/stats/players?startDate=2023-01-01&endDate=2023-02-19'"
     },
     "execution_count": 121,
     "metadata": {},
     "output_type": "execute_result"
    }
   ],
   "source": [
    "hltv_players = f'https://www.hltv.org/stats/players?startDate={begging_of_the_year}&endDate={yesterday}'\n",
    "hltv_players"
   ],
   "metadata": {
    "collapsed": false,
    "pycharm": {
     "name": "#%%\n"
    }
   }
  },
  {
   "cell_type": "code",
   "execution_count": 122,
   "outputs": [
    {
     "data": {
      "text/plain": "        Player  Teams  Maps  Rounds  K-D Diff   K/D  Rating\n0        felps    NaN    34     868       144  1.25    1.28\n1     XANTARES    NaN    48    1362       221  1.25    1.28\n2        Nertz    NaN    32     838       136  1.25    1.27\n3         Kvem    NaN    35     923       160  1.26    1.26\n4        Norwi    NaN    42    1121       201  1.28    1.26\n..         ...    ...   ...     ...       ...   ...     ...\n234      snapy    NaN    30     823      -151  0.75    0.87\n235  MiGHTYMAX    NaN    32     838      -116  0.79    0.86\n236        TaZ    NaN    69    1865      -323  0.75    0.85\n237      simix    NaN    32     849      -133  0.78    0.85\n238       aris    NaN    30     781      -138  0.76    0.84\n\n[239 rows x 7 columns]",
      "text/html": "<div>\n<style scoped>\n    .dataframe tbody tr th:only-of-type {\n        vertical-align: middle;\n    }\n\n    .dataframe tbody tr th {\n        vertical-align: top;\n    }\n\n    .dataframe thead th {\n        text-align: right;\n    }\n</style>\n<table border=\"1\" class=\"dataframe\">\n  <thead>\n    <tr style=\"text-align: right;\">\n      <th></th>\n      <th>Player</th>\n      <th>Teams</th>\n      <th>Maps</th>\n      <th>Rounds</th>\n      <th>K-D Diff</th>\n      <th>K/D</th>\n      <th>Rating</th>\n    </tr>\n  </thead>\n  <tbody>\n    <tr>\n      <th>0</th>\n      <td>felps</td>\n      <td>NaN</td>\n      <td>34</td>\n      <td>868</td>\n      <td>144</td>\n      <td>1.25</td>\n      <td>1.28</td>\n    </tr>\n    <tr>\n      <th>1</th>\n      <td>XANTARES</td>\n      <td>NaN</td>\n      <td>48</td>\n      <td>1362</td>\n      <td>221</td>\n      <td>1.25</td>\n      <td>1.28</td>\n    </tr>\n    <tr>\n      <th>2</th>\n      <td>Nertz</td>\n      <td>NaN</td>\n      <td>32</td>\n      <td>838</td>\n      <td>136</td>\n      <td>1.25</td>\n      <td>1.27</td>\n    </tr>\n    <tr>\n      <th>3</th>\n      <td>Kvem</td>\n      <td>NaN</td>\n      <td>35</td>\n      <td>923</td>\n      <td>160</td>\n      <td>1.26</td>\n      <td>1.26</td>\n    </tr>\n    <tr>\n      <th>4</th>\n      <td>Norwi</td>\n      <td>NaN</td>\n      <td>42</td>\n      <td>1121</td>\n      <td>201</td>\n      <td>1.28</td>\n      <td>1.26</td>\n    </tr>\n    <tr>\n      <th>...</th>\n      <td>...</td>\n      <td>...</td>\n      <td>...</td>\n      <td>...</td>\n      <td>...</td>\n      <td>...</td>\n      <td>...</td>\n    </tr>\n    <tr>\n      <th>234</th>\n      <td>snapy</td>\n      <td>NaN</td>\n      <td>30</td>\n      <td>823</td>\n      <td>-151</td>\n      <td>0.75</td>\n      <td>0.87</td>\n    </tr>\n    <tr>\n      <th>235</th>\n      <td>MiGHTYMAX</td>\n      <td>NaN</td>\n      <td>32</td>\n      <td>838</td>\n      <td>-116</td>\n      <td>0.79</td>\n      <td>0.86</td>\n    </tr>\n    <tr>\n      <th>236</th>\n      <td>TaZ</td>\n      <td>NaN</td>\n      <td>69</td>\n      <td>1865</td>\n      <td>-323</td>\n      <td>0.75</td>\n      <td>0.85</td>\n    </tr>\n    <tr>\n      <th>237</th>\n      <td>simix</td>\n      <td>NaN</td>\n      <td>32</td>\n      <td>849</td>\n      <td>-133</td>\n      <td>0.78</td>\n      <td>0.85</td>\n    </tr>\n    <tr>\n      <th>238</th>\n      <td>aris</td>\n      <td>NaN</td>\n      <td>30</td>\n      <td>781</td>\n      <td>-138</td>\n      <td>0.76</td>\n      <td>0.84</td>\n    </tr>\n  </tbody>\n</table>\n<p>239 rows × 7 columns</p>\n</div>"
     },
     "execution_count": 122,
     "metadata": {},
     "output_type": "execute_result"
    }
   ],
   "source": [
    "response = requests.get(hltv_players)\n",
    "\n",
    "data_link = f'../data/players.html'\n",
    "\n",
    "with open(data_link, 'w') as f:\n",
    "    f.write(response.text)\n",
    "\n",
    "players = pd.concat(pd.read_html(data_link)).rename(columns={'Rating2.0': 'Rating'})\n",
    "players"
   ],
   "metadata": {
    "collapsed": false,
    "pycharm": {
     "name": "#%%\n"
    }
   }
  },
  {
   "cell_type": "markdown",
   "source": [
    "Well, no teams... Let's try another approach."
   ],
   "metadata": {
    "collapsed": false
   }
  },
  {
   "cell_type": "code",
   "execution_count": 123,
   "outputs": [
    {
     "data": {
      "text/plain": "        Player         Teams  Maps  Rounds  K-D Diff   K/D  Rating\n0        felps         Fluxo    34     868       144  1.25    1.28\n1     XANTARES  Eternal Fire    48    1362       221  1.25    1.28\n2        Nertz      Endpoint    32     838       136  1.25    1.27\n3         Kvem          IKLA    35     923       160  1.26    1.26\n4        Norwi        Aurora    42    1121       201  1.28    1.26\n..         ...           ...   ...     ...       ...   ...     ...\n234      snapy           GTZ    30     823      -151  0.75    0.87\n235  MiGHTYMAX      Endpoint    32     838      -116  0.79    0.86\n236        TaZ       HONORIS    69    1865      -323  0.75    0.85\n237      simix     EC Brugge    32     849      -133  0.78    0.85\n238       aris        Strife    30     781      -138  0.76    0.84\n\n[239 rows x 7 columns]",
      "text/html": "<div>\n<style scoped>\n    .dataframe tbody tr th:only-of-type {\n        vertical-align: middle;\n    }\n\n    .dataframe tbody tr th {\n        vertical-align: top;\n    }\n\n    .dataframe thead th {\n        text-align: right;\n    }\n</style>\n<table border=\"1\" class=\"dataframe\">\n  <thead>\n    <tr style=\"text-align: right;\">\n      <th></th>\n      <th>Player</th>\n      <th>Teams</th>\n      <th>Maps</th>\n      <th>Rounds</th>\n      <th>K-D Diff</th>\n      <th>K/D</th>\n      <th>Rating</th>\n    </tr>\n  </thead>\n  <tbody>\n    <tr>\n      <th>0</th>\n      <td>felps</td>\n      <td>Fluxo</td>\n      <td>34</td>\n      <td>868</td>\n      <td>144</td>\n      <td>1.25</td>\n      <td>1.28</td>\n    </tr>\n    <tr>\n      <th>1</th>\n      <td>XANTARES</td>\n      <td>Eternal Fire</td>\n      <td>48</td>\n      <td>1362</td>\n      <td>221</td>\n      <td>1.25</td>\n      <td>1.28</td>\n    </tr>\n    <tr>\n      <th>2</th>\n      <td>Nertz</td>\n      <td>Endpoint</td>\n      <td>32</td>\n      <td>838</td>\n      <td>136</td>\n      <td>1.25</td>\n      <td>1.27</td>\n    </tr>\n    <tr>\n      <th>3</th>\n      <td>Kvem</td>\n      <td>IKLA</td>\n      <td>35</td>\n      <td>923</td>\n      <td>160</td>\n      <td>1.26</td>\n      <td>1.26</td>\n    </tr>\n    <tr>\n      <th>4</th>\n      <td>Norwi</td>\n      <td>Aurora</td>\n      <td>42</td>\n      <td>1121</td>\n      <td>201</td>\n      <td>1.28</td>\n      <td>1.26</td>\n    </tr>\n    <tr>\n      <th>...</th>\n      <td>...</td>\n      <td>...</td>\n      <td>...</td>\n      <td>...</td>\n      <td>...</td>\n      <td>...</td>\n      <td>...</td>\n    </tr>\n    <tr>\n      <th>234</th>\n      <td>snapy</td>\n      <td>GTZ</td>\n      <td>30</td>\n      <td>823</td>\n      <td>-151</td>\n      <td>0.75</td>\n      <td>0.87</td>\n    </tr>\n    <tr>\n      <th>235</th>\n      <td>MiGHTYMAX</td>\n      <td>Endpoint</td>\n      <td>32</td>\n      <td>838</td>\n      <td>-116</td>\n      <td>0.79</td>\n      <td>0.86</td>\n    </tr>\n    <tr>\n      <th>236</th>\n      <td>TaZ</td>\n      <td>HONORIS</td>\n      <td>69</td>\n      <td>1865</td>\n      <td>-323</td>\n      <td>0.75</td>\n      <td>0.85</td>\n    </tr>\n    <tr>\n      <th>237</th>\n      <td>simix</td>\n      <td>EC Brugge</td>\n      <td>32</td>\n      <td>849</td>\n      <td>-133</td>\n      <td>0.78</td>\n      <td>0.85</td>\n    </tr>\n    <tr>\n      <th>238</th>\n      <td>aris</td>\n      <td>Strife</td>\n      <td>30</td>\n      <td>781</td>\n      <td>-138</td>\n      <td>0.76</td>\n      <td>0.84</td>\n    </tr>\n  </tbody>\n</table>\n<p>239 rows × 7 columns</p>\n</div>"
     },
     "execution_count": 123,
     "metadata": {},
     "output_type": "execute_result"
    }
   ],
   "source": [
    "from bs4 import BeautifulSoup\n",
    "\n",
    "with open(data_link) as f:\n",
    "    soup = BeautifulSoup(f.read())\n",
    "\n",
    "rows = soup.find('table').find_all(class_='teamCol')\n",
    "\n",
    "players['Teams'] = [row['data-sort'] for row in rows if row.has_attr('data-sort')]\n",
    "players"
   ],
   "metadata": {
    "collapsed": false,
    "pycharm": {
     "name": "#%%\n"
    }
   }
  },
  {
   "cell_type": "markdown",
   "source": [
    "Much better! Let's group by Teams now"
   ],
   "metadata": {
    "collapsed": false
   }
  },
  {
   "cell_type": "code",
   "execution_count": 124,
   "outputs": [
    {
     "data": {
      "text/plain": "                 Maps  Rounds  K-D Diff   K/D  Rating\nTeams                                                \nMIBR              220    5695       679  6.05    5.85\nFluxo             170    4340       470  5.92    5.71\n9INE              295    8010       571  5.59    5.60\nPaquetá           160    4355       307  5.58    5.58\nAurora            210    5605       339  5.49    5.56\nYoung Ninjas      165    4379       252  5.49    5.55\niNation           260    6895       414  5.50    5.52\nMonte             258    7088       327  5.38    5.50\nIKLA              172    4532       278  5.52    5.48\nGODSENT           169    4752       209  5.36    5.44\nEndpoint          159    4166       194  5.40    5.44\nSAW               160    4160       115  5.23    5.41\nIlluminar         209    5906       270  5.35    5.41\nFalcons           247    7167       189  5.29    5.37\nInto the Breach   215    5904       146  5.21    5.37\nEternal Fire      244    6890       202  5.24    5.37\nHEET              160    4400       125  5.29    5.36\nMOUZ NXT          225    6020       246  5.36    5.36\nforZe             219    5832       223  5.31    5.35\nSangal            236    6752       149  5.21    5.33\nO PLANO           175    4655        93  5.18    5.29\nPartizan          185    5140        71  5.15    5.27\nEYEBALLERS        310    8192        72  5.07    5.26\nSINNERS           195    5185       115  5.18    5.25\nEruption          160    4115        36  5.08    5.24\nPROSPECTS         199    5512        52  5.08    5.24\nNexus             326    8805        70  5.10    5.23\nCorinthians       150    4055        -4  5.00    5.21\nFlamengo          165    4370        30  5.07    5.19\nATK               184    4924       -50  4.94    5.17\nALTERNATE aTTaX   200    5580       -78  4.92    5.16\nComplexity        210    5490       -49  4.96    5.16\nAnonymo           180    5175        -1  5.00    5.13\nECSTATIC          275    7205      -207  4.79    5.09\n500               200    5360      -140  4.84    5.05\nINTZ              160    3970       -91  4.86    5.02\nStrife            157    4113      -139  4.75    5.02\nUNGENTIUM         180    4585      -168  4.75    5.01\nHONORIS           343    9268      -388  4.72    4.97\nTricked           284    7845      -269  4.81    4.97\nGTZ               150    4115      -290  4.52    4.84\nJANO              200    5460      -326  4.60    4.83\nVendetta          142    3795       170  4.31    4.33\nNouns             159    4260        30  4.04    4.22\nMASONIC           178    4732       110  4.15    4.22\nBIG               120    3128        -8  4.01    4.19\nMixfits           120    3256       -18  4.00    4.14\nViperio           132    3628       -84  3.87    4.01\nEC Brugge         128    3396      -233  3.63    3.87\nJuggernauts        30     789         0  1.00    1.10",
      "text/html": "<div>\n<style scoped>\n    .dataframe tbody tr th:only-of-type {\n        vertical-align: middle;\n    }\n\n    .dataframe tbody tr th {\n        vertical-align: top;\n    }\n\n    .dataframe thead th {\n        text-align: right;\n    }\n</style>\n<table border=\"1\" class=\"dataframe\">\n  <thead>\n    <tr style=\"text-align: right;\">\n      <th></th>\n      <th>Maps</th>\n      <th>Rounds</th>\n      <th>K-D Diff</th>\n      <th>K/D</th>\n      <th>Rating</th>\n    </tr>\n    <tr>\n      <th>Teams</th>\n      <th></th>\n      <th></th>\n      <th></th>\n      <th></th>\n      <th></th>\n    </tr>\n  </thead>\n  <tbody>\n    <tr>\n      <th>MIBR</th>\n      <td>220</td>\n      <td>5695</td>\n      <td>679</td>\n      <td>6.05</td>\n      <td>5.85</td>\n    </tr>\n    <tr>\n      <th>Fluxo</th>\n      <td>170</td>\n      <td>4340</td>\n      <td>470</td>\n      <td>5.92</td>\n      <td>5.71</td>\n    </tr>\n    <tr>\n      <th>9INE</th>\n      <td>295</td>\n      <td>8010</td>\n      <td>571</td>\n      <td>5.59</td>\n      <td>5.60</td>\n    </tr>\n    <tr>\n      <th>Paquetá</th>\n      <td>160</td>\n      <td>4355</td>\n      <td>307</td>\n      <td>5.58</td>\n      <td>5.58</td>\n    </tr>\n    <tr>\n      <th>Aurora</th>\n      <td>210</td>\n      <td>5605</td>\n      <td>339</td>\n      <td>5.49</td>\n      <td>5.56</td>\n    </tr>\n    <tr>\n      <th>Young Ninjas</th>\n      <td>165</td>\n      <td>4379</td>\n      <td>252</td>\n      <td>5.49</td>\n      <td>5.55</td>\n    </tr>\n    <tr>\n      <th>iNation</th>\n      <td>260</td>\n      <td>6895</td>\n      <td>414</td>\n      <td>5.50</td>\n      <td>5.52</td>\n    </tr>\n    <tr>\n      <th>Monte</th>\n      <td>258</td>\n      <td>7088</td>\n      <td>327</td>\n      <td>5.38</td>\n      <td>5.50</td>\n    </tr>\n    <tr>\n      <th>IKLA</th>\n      <td>172</td>\n      <td>4532</td>\n      <td>278</td>\n      <td>5.52</td>\n      <td>5.48</td>\n    </tr>\n    <tr>\n      <th>GODSENT</th>\n      <td>169</td>\n      <td>4752</td>\n      <td>209</td>\n      <td>5.36</td>\n      <td>5.44</td>\n    </tr>\n    <tr>\n      <th>Endpoint</th>\n      <td>159</td>\n      <td>4166</td>\n      <td>194</td>\n      <td>5.40</td>\n      <td>5.44</td>\n    </tr>\n    <tr>\n      <th>SAW</th>\n      <td>160</td>\n      <td>4160</td>\n      <td>115</td>\n      <td>5.23</td>\n      <td>5.41</td>\n    </tr>\n    <tr>\n      <th>Illuminar</th>\n      <td>209</td>\n      <td>5906</td>\n      <td>270</td>\n      <td>5.35</td>\n      <td>5.41</td>\n    </tr>\n    <tr>\n      <th>Falcons</th>\n      <td>247</td>\n      <td>7167</td>\n      <td>189</td>\n      <td>5.29</td>\n      <td>5.37</td>\n    </tr>\n    <tr>\n      <th>Into the Breach</th>\n      <td>215</td>\n      <td>5904</td>\n      <td>146</td>\n      <td>5.21</td>\n      <td>5.37</td>\n    </tr>\n    <tr>\n      <th>Eternal Fire</th>\n      <td>244</td>\n      <td>6890</td>\n      <td>202</td>\n      <td>5.24</td>\n      <td>5.37</td>\n    </tr>\n    <tr>\n      <th>HEET</th>\n      <td>160</td>\n      <td>4400</td>\n      <td>125</td>\n      <td>5.29</td>\n      <td>5.36</td>\n    </tr>\n    <tr>\n      <th>MOUZ NXT</th>\n      <td>225</td>\n      <td>6020</td>\n      <td>246</td>\n      <td>5.36</td>\n      <td>5.36</td>\n    </tr>\n    <tr>\n      <th>forZe</th>\n      <td>219</td>\n      <td>5832</td>\n      <td>223</td>\n      <td>5.31</td>\n      <td>5.35</td>\n    </tr>\n    <tr>\n      <th>Sangal</th>\n      <td>236</td>\n      <td>6752</td>\n      <td>149</td>\n      <td>5.21</td>\n      <td>5.33</td>\n    </tr>\n    <tr>\n      <th>O PLANO</th>\n      <td>175</td>\n      <td>4655</td>\n      <td>93</td>\n      <td>5.18</td>\n      <td>5.29</td>\n    </tr>\n    <tr>\n      <th>Partizan</th>\n      <td>185</td>\n      <td>5140</td>\n      <td>71</td>\n      <td>5.15</td>\n      <td>5.27</td>\n    </tr>\n    <tr>\n      <th>EYEBALLERS</th>\n      <td>310</td>\n      <td>8192</td>\n      <td>72</td>\n      <td>5.07</td>\n      <td>5.26</td>\n    </tr>\n    <tr>\n      <th>SINNERS</th>\n      <td>195</td>\n      <td>5185</td>\n      <td>115</td>\n      <td>5.18</td>\n      <td>5.25</td>\n    </tr>\n    <tr>\n      <th>Eruption</th>\n      <td>160</td>\n      <td>4115</td>\n      <td>36</td>\n      <td>5.08</td>\n      <td>5.24</td>\n    </tr>\n    <tr>\n      <th>PROSPECTS</th>\n      <td>199</td>\n      <td>5512</td>\n      <td>52</td>\n      <td>5.08</td>\n      <td>5.24</td>\n    </tr>\n    <tr>\n      <th>Nexus</th>\n      <td>326</td>\n      <td>8805</td>\n      <td>70</td>\n      <td>5.10</td>\n      <td>5.23</td>\n    </tr>\n    <tr>\n      <th>Corinthians</th>\n      <td>150</td>\n      <td>4055</td>\n      <td>-4</td>\n      <td>5.00</td>\n      <td>5.21</td>\n    </tr>\n    <tr>\n      <th>Flamengo</th>\n      <td>165</td>\n      <td>4370</td>\n      <td>30</td>\n      <td>5.07</td>\n      <td>5.19</td>\n    </tr>\n    <tr>\n      <th>ATK</th>\n      <td>184</td>\n      <td>4924</td>\n      <td>-50</td>\n      <td>4.94</td>\n      <td>5.17</td>\n    </tr>\n    <tr>\n      <th>ALTERNATE aTTaX</th>\n      <td>200</td>\n      <td>5580</td>\n      <td>-78</td>\n      <td>4.92</td>\n      <td>5.16</td>\n    </tr>\n    <tr>\n      <th>Complexity</th>\n      <td>210</td>\n      <td>5490</td>\n      <td>-49</td>\n      <td>4.96</td>\n      <td>5.16</td>\n    </tr>\n    <tr>\n      <th>Anonymo</th>\n      <td>180</td>\n      <td>5175</td>\n      <td>-1</td>\n      <td>5.00</td>\n      <td>5.13</td>\n    </tr>\n    <tr>\n      <th>ECSTATIC</th>\n      <td>275</td>\n      <td>7205</td>\n      <td>-207</td>\n      <td>4.79</td>\n      <td>5.09</td>\n    </tr>\n    <tr>\n      <th>500</th>\n      <td>200</td>\n      <td>5360</td>\n      <td>-140</td>\n      <td>4.84</td>\n      <td>5.05</td>\n    </tr>\n    <tr>\n      <th>INTZ</th>\n      <td>160</td>\n      <td>3970</td>\n      <td>-91</td>\n      <td>4.86</td>\n      <td>5.02</td>\n    </tr>\n    <tr>\n      <th>Strife</th>\n      <td>157</td>\n      <td>4113</td>\n      <td>-139</td>\n      <td>4.75</td>\n      <td>5.02</td>\n    </tr>\n    <tr>\n      <th>UNGENTIUM</th>\n      <td>180</td>\n      <td>4585</td>\n      <td>-168</td>\n      <td>4.75</td>\n      <td>5.01</td>\n    </tr>\n    <tr>\n      <th>HONORIS</th>\n      <td>343</td>\n      <td>9268</td>\n      <td>-388</td>\n      <td>4.72</td>\n      <td>4.97</td>\n    </tr>\n    <tr>\n      <th>Tricked</th>\n      <td>284</td>\n      <td>7845</td>\n      <td>-269</td>\n      <td>4.81</td>\n      <td>4.97</td>\n    </tr>\n    <tr>\n      <th>GTZ</th>\n      <td>150</td>\n      <td>4115</td>\n      <td>-290</td>\n      <td>4.52</td>\n      <td>4.84</td>\n    </tr>\n    <tr>\n      <th>JANO</th>\n      <td>200</td>\n      <td>5460</td>\n      <td>-326</td>\n      <td>4.60</td>\n      <td>4.83</td>\n    </tr>\n    <tr>\n      <th>Vendetta</th>\n      <td>142</td>\n      <td>3795</td>\n      <td>170</td>\n      <td>4.31</td>\n      <td>4.33</td>\n    </tr>\n    <tr>\n      <th>Nouns</th>\n      <td>159</td>\n      <td>4260</td>\n      <td>30</td>\n      <td>4.04</td>\n      <td>4.22</td>\n    </tr>\n    <tr>\n      <th>MASONIC</th>\n      <td>178</td>\n      <td>4732</td>\n      <td>110</td>\n      <td>4.15</td>\n      <td>4.22</td>\n    </tr>\n    <tr>\n      <th>BIG</th>\n      <td>120</td>\n      <td>3128</td>\n      <td>-8</td>\n      <td>4.01</td>\n      <td>4.19</td>\n    </tr>\n    <tr>\n      <th>Mixfits</th>\n      <td>120</td>\n      <td>3256</td>\n      <td>-18</td>\n      <td>4.00</td>\n      <td>4.14</td>\n    </tr>\n    <tr>\n      <th>Viperio</th>\n      <td>132</td>\n      <td>3628</td>\n      <td>-84</td>\n      <td>3.87</td>\n      <td>4.01</td>\n    </tr>\n    <tr>\n      <th>EC Brugge</th>\n      <td>128</td>\n      <td>3396</td>\n      <td>-233</td>\n      <td>3.63</td>\n      <td>3.87</td>\n    </tr>\n    <tr>\n      <th>Juggernauts</th>\n      <td>30</td>\n      <td>789</td>\n      <td>0</td>\n      <td>1.00</td>\n      <td>1.10</td>\n    </tr>\n  </tbody>\n</table>\n</div>"
     },
     "execution_count": 124,
     "metadata": {},
     "output_type": "execute_result"
    }
   ],
   "source": [
    "players.groupby('Teams').sum('Rating').sort_values('Rating', ascending=False)"
   ],
   "metadata": {
    "collapsed": false,
    "pycharm": {
     "name": "#%%\n"
    }
   }
  },
  {
   "cell_type": "markdown",
   "source": [
    "Interesting. Who plays in Tricked team?"
   ],
   "metadata": {
    "collapsed": false
   }
  },
  {
   "cell_type": "code",
   "execution_count": 125,
   "outputs": [
    {
     "data": {
      "text/plain": "Empty DataFrame\nColumns: [Player, Teams, Maps, Rounds, K-D Diff, K/D, Rating]\nIndex: []",
      "text/html": "<div>\n<style scoped>\n    .dataframe tbody tr th:only-of-type {\n        vertical-align: middle;\n    }\n\n    .dataframe tbody tr th {\n        vertical-align: top;\n    }\n\n    .dataframe thead th {\n        text-align: right;\n    }\n</style>\n<table border=\"1\" class=\"dataframe\">\n  <thead>\n    <tr style=\"text-align: right;\">\n      <th></th>\n      <th>Player</th>\n      <th>Teams</th>\n      <th>Maps</th>\n      <th>Rounds</th>\n      <th>K-D Diff</th>\n      <th>K/D</th>\n      <th>Rating</th>\n    </tr>\n  </thead>\n  <tbody>\n  </tbody>\n</table>\n</div>"
     },
     "execution_count": 125,
     "metadata": {},
     "output_type": "execute_result"
    }
   ],
   "source": [
    "players[players['Teams'] == 'Natus Vincere']"
   ],
   "metadata": {
    "collapsed": false,
    "pycharm": {
     "name": "#%%\n"
    }
   }
  },
  {
   "cell_type": "code",
   "execution_count": null,
   "outputs": [],
   "source": [],
   "metadata": {
    "collapsed": false,
    "pycharm": {
     "name": "#%%\n"
    }
   }
  }
 ],
 "metadata": {
  "kernelspec": {
   "display_name": "Python 3",
   "language": "python",
   "name": "python3"
  },
  "language_info": {
   "codemirror_mode": {
    "name": "ipython",
    "version": 2
   },
   "file_extension": ".py",
   "mimetype": "text/x-python",
   "name": "python",
   "nbconvert_exporter": "python",
   "pygments_lexer": "ipython2",
   "version": "2.7.6"
  }
 },
 "nbformat": 4,
 "nbformat_minor": 0
}